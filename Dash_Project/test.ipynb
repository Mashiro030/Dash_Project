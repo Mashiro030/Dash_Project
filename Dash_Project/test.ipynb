{
 "cells": [
  {
   "cell_type": "code",
   "execution_count": 1,
   "id": "8150bd80-90ad-4513-8ad1-53a61dd90440",
   "metadata": {},
   "outputs": [
    {
     "ename": "ModuleNotFoundError",
     "evalue": "No module named 'dash_leaflet'",
     "output_type": "error",
     "traceback": [
      "\u001b[1;31m---------------------------------------------------------------------------\u001b[0m",
      "\u001b[1;31mModuleNotFoundError\u001b[0m                       Traceback (most recent call last)",
      "\u001b[1;32mc:\\Users\\10011\\Desktop\\Dash_Project\\test.ipynb Cell 1\u001b[0m in \u001b[0;36m<cell line: 1>\u001b[1;34m()\u001b[0m\n\u001b[1;32m----> <a href='vscode-notebook-cell:/c%3A/Users/10011/Desktop/Dash_Project/test.ipynb#W0sZmlsZQ%3D%3D?line=0'>1</a>\u001b[0m \u001b[39mimport\u001b[39;00m \u001b[39mdash_leaflet\u001b[39;00m \u001b[39mas\u001b[39;00m \u001b[39mdl\u001b[39;00m\n\u001b[0;32m      <a href='vscode-notebook-cell:/c%3A/Users/10011/Desktop/Dash_Project/test.ipynb#W0sZmlsZQ%3D%3D?line=1'>2</a>\u001b[0m \u001b[39mfrom\u001b[39;00m \u001b[39mdash\u001b[39;00m \u001b[39mimport\u001b[39;00m Dash, html, Input, Output\n\u001b[0;32m      <a href='vscode-notebook-cell:/c%3A/Users/10011/Desktop/Dash_Project/test.ipynb#W0sZmlsZQ%3D%3D?line=3'>4</a>\u001b[0m app \u001b[39m=\u001b[39m Dash(prevent_initial_callbacks\u001b[39m=\u001b[39m\u001b[39mTrue\u001b[39;00m)\n",
      "\u001b[1;31mModuleNotFoundError\u001b[0m: No module named 'dash_leaflet'"
     ]
    }
   ],
   "source": [
    "import dash_leaflet as dl\n",
    "from dash import Dash, html, Input, Output\n",
    "\n",
    "app = Dash(prevent_initial_callbacks=True)\n",
    "app.layout = html.Div([\n",
    "    dl.Map([dl.TileLayer(),dl.LayerGroup(id=\"layer\"),dl.LocateControl(options={'locateOptions': {'enableHighAccuracy': True}})],\n",
    "           id=\"map\", style={'width': '100%', 'height': '50vh', 'margin': \"auto\", \"display\": \"block\"}),\n",
    "    html.Div(id=\"text\")\n",
    "])\n",
    "\n",
    "\n",
    "@app.callback(\n",
    "               # Output(\"layer\", \"children\"), \n",
    "               Output(\"text\", \"children\"),\n",
    "              [Input(\"map\", \"click_lat_lng\"),\n",
    "            Input(\"map\", \"location_lat_lon_acc\")])\n",
    "def map_click(click_lat_lng,location):\n",
    "    return [dl.Marker(position=click_lat_lng, children=dl.Tooltip(\"({:.3f}, {:.3f})\".format(*click_lat_lng)))],\"You are within {} meters of (lat,lon) = ({},{})\".format(location[2], location[0], location[1])\n",
    "\n",
    "\n",
    "\n",
    "\n",
    "# @app.callback(Output(\"text\", \"children\"), [Input(\"map\", \"location_lat_lon_acc\")])\n",
    "# def update_location(location):\n",
    "#     return \"You are within {} meters of (lat,lon) = ({},{})\".format(location[2], location[0], location[1])\n",
    "\n",
    "\n",
    "if __name__ == '__main__':\n",
    "    app.run_server(debug=True,use_reloader=False)"
   ]
  },
  {
   "cell_type": "code",
   "execution_count": null,
   "id": "606ab38d-eb2c-4544-890f-ca4edd4c5b5f",
   "metadata": {},
   "outputs": [
    {
     "ename": "",
     "evalue": "",
     "output_type": "error",
     "traceback": [
      "\u001b[1;31mRunning cells with 'Python 3.10.4 64-bit' requires ipykernel package.\n",
      "Run the following command to install 'ipykernel' into the Python environment. \n",
      "Command: 'c:/Python310/python.exe -m pip install ipykernel -U --user --force-reinstall'"
     ]
    }
   ],
   "source": []
  },
  {
   "cell_type": "code",
   "execution_count": null,
   "id": "1cbaec54-046a-4122-b560-83f4fc2393e7",
   "metadata": {},
   "outputs": [
    {
     "ename": "",
     "evalue": "",
     "output_type": "error",
     "traceback": [
      "\u001b[1;31mRunning cells with 'Python 3.10.4 64-bit' requires ipykernel package.\n",
      "Run the following command to install 'ipykernel' into the Python environment. \n",
      "Command: 'c:/Python310/python.exe -m pip install ipykernel -U --user --force-reinstall'"
     ]
    }
   ],
   "source": []
  }
 ],
 "metadata": {
  "kernelspec": {
   "display_name": "Python 3.9.12 ('base')",
   "language": "python",
   "name": "python3"
  },
  "language_info": {
   "codemirror_mode": {
    "name": "ipython",
    "version": 3
   },
   "file_extension": ".py",
   "mimetype": "text/x-python",
   "name": "python",
   "nbconvert_exporter": "python",
   "pygments_lexer": "ipython3",
   "version": "3.9.12"
  },
  "vscode": {
   "interpreter": {
    "hash": "27c13d0326c042b65f1a41b4ed3ced2f4a9ada0fe317f16d6874b98a12c3308d"
   }
  }
 },
 "nbformat": 4,
 "nbformat_minor": 5
}
