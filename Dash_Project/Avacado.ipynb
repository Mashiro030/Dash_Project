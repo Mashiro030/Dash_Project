{
 "cells": [
  {
   "cell_type": "code",
   "execution_count": 1,
   "id": "dd85525d-6134-4255-bb93-16dd8c4e715e",
   "metadata": {},
   "outputs": [],
   "source": [
    "import numpy as np\n",
    "import pandas as pd\n",
    "import plotly.express as px\n",
    "import plotly.graph_objects as go\n",
    "import dash_bootstrap_components as dbc\n",
    "from dash import html,dcc,Input,Output,Dash"
   ]
  },
  {
   "cell_type": "code",
   "execution_count": 2,
   "id": "378efd88-855f-4656-b5c4-801f886c1f9b",
   "metadata": {},
   "outputs": [
    {
     "data": {
      "text/html": [
       "<div>\n",
       "<style scoped>\n",
       "    .dataframe tbody tr th:only-of-type {\n",
       "        vertical-align: middle;\n",
       "    }\n",
       "\n",
       "    .dataframe tbody tr th {\n",
       "        vertical-align: top;\n",
       "    }\n",
       "\n",
       "    .dataframe thead th {\n",
       "        text-align: right;\n",
       "    }\n",
       "</style>\n",
       "<table border=\"1\" class=\"dataframe\">\n",
       "  <thead>\n",
       "    <tr style=\"text-align: right;\">\n",
       "      <th></th>\n",
       "      <th>Unnamed: 0</th>\n",
       "      <th>Date</th>\n",
       "      <th>AveragePrice</th>\n",
       "      <th>Total Volume</th>\n",
       "      <th>4046</th>\n",
       "      <th>4225</th>\n",
       "      <th>4770</th>\n",
       "      <th>Total Bags</th>\n",
       "      <th>Small Bags</th>\n",
       "      <th>Large Bags</th>\n",
       "      <th>XLarge Bags</th>\n",
       "      <th>type</th>\n",
       "      <th>year</th>\n",
       "      <th>region</th>\n",
       "    </tr>\n",
       "  </thead>\n",
       "  <tbody>\n",
       "    <tr>\n",
       "      <th>0</th>\n",
       "      <td>0</td>\n",
       "      <td>2015-12-27</td>\n",
       "      <td>1.33</td>\n",
       "      <td>64236.62</td>\n",
       "      <td>1036.74</td>\n",
       "      <td>54454.85</td>\n",
       "      <td>48.16</td>\n",
       "      <td>8696.87</td>\n",
       "      <td>8603.62</td>\n",
       "      <td>93.25</td>\n",
       "      <td>0.0</td>\n",
       "      <td>conventional</td>\n",
       "      <td>2015</td>\n",
       "      <td>Albany</td>\n",
       "    </tr>\n",
       "    <tr>\n",
       "      <th>1</th>\n",
       "      <td>1</td>\n",
       "      <td>2015-12-20</td>\n",
       "      <td>1.35</td>\n",
       "      <td>54876.98</td>\n",
       "      <td>674.28</td>\n",
       "      <td>44638.81</td>\n",
       "      <td>58.33</td>\n",
       "      <td>9505.56</td>\n",
       "      <td>9408.07</td>\n",
       "      <td>97.49</td>\n",
       "      <td>0.0</td>\n",
       "      <td>conventional</td>\n",
       "      <td>2015</td>\n",
       "      <td>Albany</td>\n",
       "    </tr>\n",
       "    <tr>\n",
       "      <th>2</th>\n",
       "      <td>2</td>\n",
       "      <td>2015-12-13</td>\n",
       "      <td>0.93</td>\n",
       "      <td>118220.22</td>\n",
       "      <td>794.70</td>\n",
       "      <td>109149.67</td>\n",
       "      <td>130.50</td>\n",
       "      <td>8145.35</td>\n",
       "      <td>8042.21</td>\n",
       "      <td>103.14</td>\n",
       "      <td>0.0</td>\n",
       "      <td>conventional</td>\n",
       "      <td>2015</td>\n",
       "      <td>Albany</td>\n",
       "    </tr>\n",
       "    <tr>\n",
       "      <th>3</th>\n",
       "      <td>3</td>\n",
       "      <td>2015-12-06</td>\n",
       "      <td>1.08</td>\n",
       "      <td>78992.15</td>\n",
       "      <td>1132.00</td>\n",
       "      <td>71976.41</td>\n",
       "      <td>72.58</td>\n",
       "      <td>5811.16</td>\n",
       "      <td>5677.40</td>\n",
       "      <td>133.76</td>\n",
       "      <td>0.0</td>\n",
       "      <td>conventional</td>\n",
       "      <td>2015</td>\n",
       "      <td>Albany</td>\n",
       "    </tr>\n",
       "    <tr>\n",
       "      <th>4</th>\n",
       "      <td>4</td>\n",
       "      <td>2015-11-29</td>\n",
       "      <td>1.28</td>\n",
       "      <td>51039.60</td>\n",
       "      <td>941.48</td>\n",
       "      <td>43838.39</td>\n",
       "      <td>75.78</td>\n",
       "      <td>6183.95</td>\n",
       "      <td>5986.26</td>\n",
       "      <td>197.69</td>\n",
       "      <td>0.0</td>\n",
       "      <td>conventional</td>\n",
       "      <td>2015</td>\n",
       "      <td>Albany</td>\n",
       "    </tr>\n",
       "  </tbody>\n",
       "</table>\n",
       "</div>"
      ],
      "text/plain": [
       "   Unnamed: 0        Date  AveragePrice  Total Volume     4046       4225  \\\n",
       "0           0  2015-12-27          1.33      64236.62  1036.74   54454.85   \n",
       "1           1  2015-12-20          1.35      54876.98   674.28   44638.81   \n",
       "2           2  2015-12-13          0.93     118220.22   794.70  109149.67   \n",
       "3           3  2015-12-06          1.08      78992.15  1132.00   71976.41   \n",
       "4           4  2015-11-29          1.28      51039.60   941.48   43838.39   \n",
       "\n",
       "     4770  Total Bags  Small Bags  Large Bags  XLarge Bags          type  \\\n",
       "0   48.16     8696.87     8603.62       93.25          0.0  conventional   \n",
       "1   58.33     9505.56     9408.07       97.49          0.0  conventional   \n",
       "2  130.50     8145.35     8042.21      103.14          0.0  conventional   \n",
       "3   72.58     5811.16     5677.40      133.76          0.0  conventional   \n",
       "4   75.78     6183.95     5986.26      197.69          0.0  conventional   \n",
       "\n",
       "   year  region  \n",
       "0  2015  Albany  \n",
       "1  2015  Albany  \n",
       "2  2015  Albany  \n",
       "3  2015  Albany  \n",
       "4  2015  Albany  "
      ]
     },
     "execution_count": 2,
     "metadata": {},
     "output_type": "execute_result"
    }
   ],
   "source": [
    "'''\n",
    "Date - The date of the observation \\n\n",
    "AveragePrice - the average price of a single avocado\n",
    "type - conventional or organic\n",
    "year - the year\n",
    "Region - the city or region of the observation\n",
    "Total Volume - Total number of avocados sold\n",
    "4046 - Total number of avocados with PLU 4046 sold\n",
    "4225 - Total number of avocados with PLU 4225 sold\n",
    "4770 - Total number of avocados with PLU 4770 sold\n",
    "'''\n",
    "df = pd.read_csv('./dataset/avocado.csv')\n",
    "df.head()\n",
    "# df.info()\n",
    "\n",
    "\n",
    "\n"
   ]
  },
  {
   "cell_type": "code",
   "execution_count": 50,
   "id": "75b9bd30-9264-45e3-90da-5dcf6998a81b",
   "metadata": {},
   "outputs": [],
   "source": [
    "app = Dash(__name__)\n",
    "\n",
    "app.layout = html.Div(\n",
    "    [\n",
    "           dbc.Container(\n",
    "           [\n",
    "               html.Div(\n",
    "               [\n",
    "                   html.H1(\"Analytics Dashboard of Avocaodo (Dash Plotly)\", style={\"textAlign\":\"center\"}),\n",
    "                   html.Hr(),\n",
    "                   html.P('Value Count By Selected Column:')\n",
    "               ]),\n",
    "               html.Br(),\n",
    "               html.Div(\n",
    "               [\n",
    "                   dcc.Dropdown(\n",
    "                       id='bag',\n",
    "                       options=['type','region'], \n",
    "                       placeholder='Choose The Columns To Count...',\n",
    "                       style={'width':'50%'},\n",
    "                       persistence='string',\n",
    "                       persistence_type='local'\n",
    "                   )\n",
    "               ]),\n",
    "               html.Div(\n",
    "               [\n",
    "                   dcc.RadioItems(\n",
    "                       id='ratio_item',\n",
    "                       options=['Small Bags','Large Bags','XLarge Bags'],\n",
    "                       inline=True,\n",
    "                       persistence='string',\n",
    "                       persistence_type='local'\n",
    "                   ),\n",
    "                   dcc.Graph(id='value_count_plot')\n",
    "               ]),\n",
    "               html.Div(\n",
    "               [ \n",
    "                   dcc.Dropdown(\n",
    "                       id='dropdown_line_region',\n",
    "                       options=df.region.unique(),\n",
    "                       persistence='string',\n",
    "                       persistence_type='local',\n",
    "                       style={'width':'50%'}\n",
    "                   ),\n",
    "                   dcc.Graph(id='date_trend_plot'),\n",
    "               ]),\n",
    "               html.Div(\n",
    "               [\n",
    "                   dcc.Graph(id='avocado_sold_plot')\n",
    "               ]),\n",
    "               html.Div(\n",
    "               [\n",
    "                   dcc.Checklist(id='checklist_region',options=df['region'].unique(),\n",
    "                                 value=df['region'].unique()[0:5],inline=True),\n",
    "                   dcc.Graph(id='value_count_bubble_plot')\n",
    "               ])\n",
    "           ])\n",
    "    ])\n",
    "\n",
    "@app.callback(\n",
    "    Output('value_count_plot','figure'),\n",
    "    Output('date_trend_plot','figure'),\n",
    "    Output('avocado_sold_plot','figure'),\n",
    "    Output('value_count_bubble_plot','figure'),\n",
    "    Input('bag','value'),\n",
    "    Input('ratio_item','value'),\n",
    "    Input('dropdown_line_region','value'),\n",
    "    Input('checklist_region','value')\n",
    ")\n",
    "\n",
    "def show_plot(dropdown,ratio,dropdown_region,checklist):\n",
    "    volume = df.groupby(dropdown)[ratio].sum().rename_axis(dropdown).reset_index(name='Volume').sort_values(by='Volume',ascending=False).head(10)\n",
    "    fig1 = px.bar(volume,x=dropdown,y='Volume',color=dropdown,title=f'Avocado Sold Volume By {dropdown} And {ratio}')\n",
    "    \n",
    "    price = df.loc[df['region'].isin([dropdown_region])].sort_values(by='Date')\n",
    "    fig2 = px.line(price,x='Date',y='AveragePrice',color='type',title=f'AveragePrice By {dropdown_region} And Organic/Conventional')\n",
    "    \n",
    "    temp = df[df['region'] == dropdown_region]\n",
    "    temp = temp[['Date','4046','4225','4770']].sort_values(by='Date').drop_duplicates(subset=['Date'],keep='first')\n",
    "    fig3 = px.line(temp,x='Date',y=['4046','4225','4770'],title=f'Different Type Of Acovado Sold Volume By {dropdown_region}')\n",
    "    fig3.update_layout(yaxis_title='Type of Acovado')\n",
    "\n",
    "    temp = df.loc[df['region'].isin(checklist)]\n",
    "    temp = temp[['Date','Total Volume','region']].sort_values(by='Date').drop_duplicates(subset=['Date'],keep='first')\n",
    "    bubble = px.scatter_3d(temp,x='region',y='Date',z='Total Volume',color='Total Volume',\n",
    "                         color_continuous_scale='Viridis',size='Total Volume',size_max=90)\n",
    "    bubble.update_layout(height=800,width=800)\n",
    "    return fig1,fig2,fig3,bubble"
   ]
  },
  {
   "cell_type": "code",
   "execution_count": null,
   "id": "09951b15-fa60-4e24-bb96-383df5c1319a",
   "metadata": {},
   "outputs": [
    {
     "name": "stdout",
     "output_type": "stream",
     "text": [
      "Dash is running on http://127.0.0.1:3004/\n",
      "\n",
      "Dash is running on http://127.0.0.1:3004/\n",
      "\n",
      "Dash is running on http://127.0.0.1:3004/\n",
      "\n",
      "Dash is running on http://127.0.0.1:3004/\n",
      "\n",
      "Dash is running on http://127.0.0.1:3004/\n",
      "\n",
      "Dash is running on http://127.0.0.1:3004/\n",
      "\n",
      "Dash is running on http://127.0.0.1:3004/\n",
      "\n",
      " * Serving Flask app '__main__' (lazy loading)\n",
      " * Environment: production\n",
      "   WARNING: This is a development server. Do not use it in a production deployment.\n",
      "   Use a production WSGI server instead.\n",
      " * Debug mode: off\n"
     ]
    },
    {
     "name": "stderr",
     "output_type": "stream",
     "text": [
      " * Running on http://127.0.0.1:3004/ (Press CTRL+C to quit)\n",
      "127.0.0.1 - - [12/Apr/2022 15:45:07] \"GET / HTTP/1.1\" 200 -\n",
      "127.0.0.1 - - [12/Apr/2022 15:45:07] \"GET /assets/css/bootstrap.min.css?m=1647935570.6230385 HTTP/1.1\" 304 -\n",
      "127.0.0.1 - - [12/Apr/2022 15:45:08] \"GET /_dash-layout HTTP/1.1\" 200 -\n",
      "127.0.0.1 - - [12/Apr/2022 15:45:08] \"GET /_dash-dependencies HTTP/1.1\" 200 -\n",
      "127.0.0.1 - - [12/Apr/2022 15:45:08] \"GET /_favicon.ico?v=2.3.0 HTTP/1.1\" 200 -\n",
      "127.0.0.1 - - [12/Apr/2022 15:45:08] \"GET /_dash-component-suites/dash/dcc/async-dropdown.js HTTP/1.1\" 200 -\n",
      "127.0.0.1 - - [12/Apr/2022 15:45:08] \"GET /_dash-component-suites/dash/dcc/async-graph.js HTTP/1.1\" 200 -\n",
      "127.0.0.1 - - [12/Apr/2022 15:45:08] \"GET /_dash-component-suites/dash/dcc/async-plotlyjs.js HTTP/1.1\" 200 -\n",
      "127.0.0.1 - - [12/Apr/2022 15:45:08] \"POST /_dash-update-component HTTP/1.1\" 200 -\n",
      "127.0.0.1 - - [12/Apr/2022 15:45:14] \"POST /_dash-update-component HTTP/1.1\" 200 -\n",
      "127.0.0.1 - - [12/Apr/2022 15:45:15] \"POST /_dash-update-component HTTP/1.1\" 200 -\n",
      "127.0.0.1 - - [12/Apr/2022 15:45:15] \"POST /_dash-update-component HTTP/1.1\" 200 -\n",
      "127.0.0.1 - - [12/Apr/2022 15:45:16] \"POST /_dash-update-component HTTP/1.1\" 200 -\n",
      "127.0.0.1 - - [12/Apr/2022 15:45:17] \"POST /_dash-update-component HTTP/1.1\" 200 -\n",
      "127.0.0.1 - - [12/Apr/2022 15:45:18] \"POST /_dash-update-component HTTP/1.1\" 200 -\n"
     ]
    }
   ],
   "source": [
    "if __name__ == '__main__':\n",
    "    app.run_server(debug=False,port=3004)"
   ]
  },
  {
   "cell_type": "code",
   "execution_count": 46,
   "id": "b36fd4c2-540f-4d8d-9b77-ccc6ac8beb5f",
   "metadata": {},
   "outputs": [
    {
     "data": {
      "application/vnd.plotly.v1+json": {
       "config": {
        "plotlyServerURL": "https://plot.ly"
       },
       "data": [
        {
         "hovertemplate": "region=%{x}<br>Date=%{y}<br>Total Volume=%{marker.color}<extra></extra>",
         "legendgroup": "",
         "marker": {
          "color": [
           187548.3,
           5333097.71,
           5570915.26,
           58961.59,
           196031.9,
           5949846.14,
           116499.36,
           188334.19,
           6700134.25,
           5990243.89,
           66049.13,
           5368331.44,
           60007.19,
           5467155.55,
           262870.62,
           191660.54,
           5578980.69,
           42345.48,
           6400340.97,
           5289138.5,
           62670.56,
           51748.65,
           6234006.44,
           6760001.68,
           116908.54,
           6024103.65,
           6749081.2,
           5451636.92,
           5703940.56,
           159233.08,
           5142335.64,
           79568.82,
           214374.59,
           5235579.44,
           5200252.65,
           5806392.78,
           95230.68,
           94267.54,
           62096.82,
           81751.48,
           143146.85,
           139473.83,
           4945835.54,
           5072550.94,
           201480.84,
           97265.23,
           4481990.34,
           4575710.62,
           5775536.27,
           5259354.3,
           52488.05,
           142710.36,
           56538.34,
           138580.98,
           6000013.23,
           184872.75,
           155319.35,
           156586.25,
           6774726.47,
           5108381.41,
           5698454.09,
           6903293,
           6017563.88,
           79411.38,
           6603707.93,
           86545.27,
           6414263.17,
           187358.5,
           6893900.54,
           113305.24,
           133142.97,
           6728120.77,
           6680323.25,
           7568132.39,
           195651.71,
           6216040.13,
           196942.94,
           6862241.03,
           245935.09,
           213417.87,
           118903.02,
           6104047.38,
           5463799.79,
           5647940.41,
           208956.81,
           6290164.89,
           180003.45,
           6802635.25,
           164162.25,
           139322.81,
           131608.43,
           5006659.75,
           5416591.81,
           4967651.41,
           3899040.66,
           96943.41,
           140457.87,
           160864.58,
           4253815.59,
           111851.52,
           5584114.56,
           163585.07,
           4922621.54,
           5630041.84,
           6687273.64,
           104424.88,
           7449374.27,
           6207638.5,
           205843.17,
           11274749.11,
           7043078.06,
           183797.3,
           308828.87,
           5634150.07,
           5208101.86,
           5498742.96,
           197899.23,
           5719811.06,
           6249182.98,
           194263.4,
           5637299.78,
           6998582.19,
           442825.93,
           142740.06,
           6084796.99,
           187973.68,
           6585882.05,
           6177216.24,
           215628.86,
           6929193.97,
           6607292.61,
           203127.73,
           151281.1,
           5550586.51,
           180688.88,
           5548410.44,
           139016.53,
           115769.96,
           125183.67,
           109958.23,
           4926555.69,
           4181226.81,
           138458.82,
           4488892.01,
           4735152.21,
           4066640.98,
           168954.65,
           5130982.78,
           5798077.88,
           5627547,
           4782021,
           91204.54,
           5544556,
           125853.18,
           4951756.35,
           5116876.57,
           229477.07,
           156341.57,
           146720.73,
           189317.99,
           185974.53,
           188212.98,
           7463494.79,
           134888.08,
           179041.72,
           239135.67,
           179212.94,
           210067.47,
           6687009.44
          ],
          "coloraxis": "coloraxis",
          "size": [
           187548.3,
           5333097.71,
           5570915.26,
           58961.59,
           196031.9,
           5949846.14,
           116499.36,
           188334.19,
           6700134.25,
           5990243.89,
           66049.13,
           5368331.44,
           60007.19,
           5467155.55,
           262870.62,
           191660.54,
           5578980.69,
           42345.48,
           6400340.97,
           5289138.5,
           62670.56,
           51748.65,
           6234006.44,
           6760001.68,
           116908.54,
           6024103.65,
           6749081.2,
           5451636.92,
           5703940.56,
           159233.08,
           5142335.64,
           79568.82,
           214374.59,
           5235579.44,
           5200252.65,
           5806392.78,
           95230.68,
           94267.54,
           62096.82,
           81751.48,
           143146.85,
           139473.83,
           4945835.54,
           5072550.94,
           201480.84,
           97265.23,
           4481990.34,
           4575710.62,
           5775536.27,
           5259354.3,
           52488.05,
           142710.36,
           56538.34,
           138580.98,
           6000013.23,
           184872.75,
           155319.35,
           156586.25,
           6774726.47,
           5108381.41,
           5698454.09,
           6903293,
           6017563.88,
           79411.38,
           6603707.93,
           86545.27,
           6414263.17,
           187358.5,
           6893900.54,
           113305.24,
           133142.97,
           6728120.77,
           6680323.25,
           7568132.39,
           195651.71,
           6216040.13,
           196942.94,
           6862241.03,
           245935.09,
           213417.87,
           118903.02,
           6104047.38,
           5463799.79,
           5647940.41,
           208956.81,
           6290164.89,
           180003.45,
           6802635.25,
           164162.25,
           139322.81,
           131608.43,
           5006659.75,
           5416591.81,
           4967651.41,
           3899040.66,
           96943.41,
           140457.87,
           160864.58,
           4253815.59,
           111851.52,
           5584114.56,
           163585.07,
           4922621.54,
           5630041.84,
           6687273.64,
           104424.88,
           7449374.27,
           6207638.5,
           205843.17,
           11274749.11,
           7043078.06,
           183797.3,
           308828.87,
           5634150.07,
           5208101.86,
           5498742.96,
           197899.23,
           5719811.06,
           6249182.98,
           194263.4,
           5637299.78,
           6998582.19,
           442825.93,
           142740.06,
           6084796.99,
           187973.68,
           6585882.05,
           6177216.24,
           215628.86,
           6929193.97,
           6607292.61,
           203127.73,
           151281.1,
           5550586.51,
           180688.88,
           5548410.44,
           139016.53,
           115769.96,
           125183.67,
           109958.23,
           4926555.69,
           4181226.81,
           138458.82,
           4488892.01,
           4735152.21,
           4066640.98,
           168954.65,
           5130982.78,
           5798077.88,
           5627547,
           4782021,
           91204.54,
           5544556,
           125853.18,
           4951756.35,
           5116876.57,
           229477.07,
           156341.57,
           146720.73,
           189317.99,
           185974.53,
           188212.98,
           7463494.79,
           134888.08,
           179041.72,
           239135.67,
           179212.94,
           210067.47,
           6687009.44
          ],
          "sizemode": "area",
          "sizeref": 1391.9443345679013,
          "symbol": "circle"
         },
         "mode": "markers",
         "name": "",
         "scene": "scene",
         "showlegend": false,
         "type": "scatter3d",
         "x": [
          "West",
          "West",
          "California",
          "SouthCentral",
          "California",
          "West",
          "California",
          "West",
          "California",
          "California",
          "SouthCentral",
          "West",
          "SouthCentral",
          "California",
          "West",
          "West",
          "SouthCentral",
          "SouthCentral",
          "SouthCentral",
          "California",
          "SouthCentral",
          "SouthCentral",
          "SouthCentral",
          "West",
          "California",
          "SouthCentral",
          "West",
          "California",
          "SouthCentral",
          "West",
          "SouthCentral",
          "SouthCentral",
          "West",
          "SouthCentral",
          "SouthCentral",
          "California",
          "California",
          "California",
          "SouthCentral",
          "California",
          "West",
          "West",
          "West",
          "SouthCentral",
          "West",
          "California",
          "West",
          "California",
          "California",
          "California",
          "SouthCentral",
          "West",
          "SouthCentral",
          "California",
          "California",
          "West",
          "California",
          "California",
          "West",
          "SouthCentral",
          "SouthCentral",
          "West",
          "California",
          "SouthCentral",
          "California",
          "SouthCentral",
          "SouthCentral",
          "California",
          "SouthCentral",
          "SouthCentral",
          "SouthCentral",
          "SouthCentral",
          "SouthCentral",
          "West",
          "West",
          "West",
          "California",
          "West",
          "West",
          "California",
          "SouthCentral",
          "California",
          "West",
          "SouthCentral",
          "California",
          "West",
          "SouthCentral",
          "SouthCentral",
          "SouthCentral",
          "California",
          "SouthCentral",
          "SouthCentral",
          "SouthCentral",
          "SouthCentral",
          "California",
          "West",
          "West",
          "West",
          "California",
          "California",
          "SouthCentral",
          "West",
          "California",
          "SouthCentral",
          "SouthCentral",
          "SouthCentral",
          "West",
          "SouthCentral",
          "West",
          "West",
          "SouthCentral",
          "California",
          "West",
          "California",
          "California",
          "SouthCentral",
          "SouthCentral",
          "California",
          "California",
          "California",
          "California",
          "West",
          "West",
          "SouthCentral",
          "SouthCentral",
          "SouthCentral",
          "SouthCentral",
          "California",
          "West",
          "West",
          "California",
          "West",
          "West",
          "SouthCentral",
          "West",
          "West",
          "California",
          "SouthCentral",
          "SouthCentral",
          "SouthCentral",
          "SouthCentral",
          "West",
          "California",
          "SouthCentral",
          "SouthCentral",
          "California",
          "West",
          "West",
          "SouthCentral",
          "SouthCentral",
          "California",
          "SouthCentral",
          "California",
          "California",
          "SouthCentral",
          "West",
          "West",
          "California",
          "SouthCentral",
          "West",
          "West",
          "California",
          "West",
          "SouthCentral",
          "California",
          "California",
          "SouthCentral",
          "West",
          "California"
         ],
         "y": [
          "2015-01-04",
          "2015-01-11",
          "2015-01-18",
          "2015-01-25",
          "2015-02-01",
          "2015-02-08",
          "2015-02-15",
          "2015-02-22",
          "2015-03-01",
          "2015-03-08",
          "2015-03-15",
          "2015-03-22",
          "2015-03-29",
          "2015-04-05",
          "2015-04-12",
          "2015-04-19",
          "2015-04-26",
          "2015-05-03",
          "2015-05-10",
          "2015-05-17",
          "2015-05-24",
          "2015-05-31",
          "2015-06-07",
          "2015-06-14",
          "2015-06-21",
          "2015-06-28",
          "2015-07-05",
          "2015-07-12",
          "2015-07-19",
          "2015-07-26",
          "2015-08-02",
          "2015-08-09",
          "2015-08-16",
          "2015-08-23",
          "2015-08-30",
          "2015-09-06",
          "2015-09-13",
          "2015-09-20",
          "2015-09-27",
          "2015-10-04",
          "2015-10-11",
          "2015-10-18",
          "2015-10-25",
          "2015-11-01",
          "2015-11-08",
          "2015-11-15",
          "2015-11-22",
          "2015-11-29",
          "2015-12-06",
          "2015-12-13",
          "2015-12-20",
          "2015-12-27",
          "2016-01-03",
          "2016-01-10",
          "2016-01-17",
          "2016-01-24",
          "2016-01-31",
          "2016-02-07",
          "2016-02-14",
          "2016-02-21",
          "2016-02-28",
          "2016-03-06",
          "2016-03-13",
          "2016-03-20",
          "2016-03-27",
          "2016-04-03",
          "2016-04-10",
          "2016-04-17",
          "2016-04-24",
          "2016-05-01",
          "2016-05-08",
          "2016-05-15",
          "2016-05-22",
          "2016-05-29",
          "2016-06-05",
          "2016-06-12",
          "2016-06-19",
          "2016-06-26",
          "2016-07-03",
          "2016-07-10",
          "2016-07-17",
          "2016-07-24",
          "2016-07-31",
          "2016-08-07",
          "2016-08-14",
          "2016-08-21",
          "2016-08-28",
          "2016-09-04",
          "2016-09-11",
          "2016-09-18",
          "2016-09-25",
          "2016-10-02",
          "2016-10-09",
          "2016-10-16",
          "2016-10-23",
          "2016-10-30",
          "2016-11-06",
          "2016-11-13",
          "2016-11-20",
          "2016-11-27",
          "2016-12-04",
          "2016-12-11",
          "2016-12-18",
          "2016-12-25",
          "2017-01-01",
          "2017-01-08",
          "2017-01-15",
          "2017-01-22",
          "2017-01-29",
          "2017-02-05",
          "2017-02-12",
          "2017-02-19",
          "2017-02-26",
          "2017-03-05",
          "2017-03-12",
          "2017-03-19",
          "2017-03-26",
          "2017-04-02",
          "2017-04-09",
          "2017-04-16",
          "2017-04-23",
          "2017-04-30",
          "2017-05-07",
          "2017-05-14",
          "2017-05-21",
          "2017-05-28",
          "2017-06-04",
          "2017-06-11",
          "2017-06-18",
          "2017-06-25",
          "2017-07-02",
          "2017-07-09",
          "2017-07-16",
          "2017-07-23",
          "2017-07-30",
          "2017-08-06",
          "2017-08-13",
          "2017-08-20",
          "2017-08-27",
          "2017-09-03",
          "2017-09-10",
          "2017-09-17",
          "2017-09-24",
          "2017-10-01",
          "2017-10-08",
          "2017-10-15",
          "2017-10-22",
          "2017-10-29",
          "2017-11-05",
          "2017-11-12",
          "2017-11-19",
          "2017-11-26",
          "2017-12-03",
          "2017-12-10",
          "2017-12-17",
          "2017-12-24",
          "2017-12-31",
          "2018-01-07",
          "2018-01-14",
          "2018-01-21",
          "2018-01-28",
          "2018-02-04",
          "2018-02-11",
          "2018-02-18",
          "2018-02-25",
          "2018-03-04",
          "2018-03-11",
          "2018-03-18",
          "2018-03-25"
         ],
         "z": [
          187548.3,
          5333097.71,
          5570915.26,
          58961.59,
          196031.9,
          5949846.14,
          116499.36,
          188334.19,
          6700134.25,
          5990243.89,
          66049.13,
          5368331.44,
          60007.19,
          5467155.55,
          262870.62,
          191660.54,
          5578980.69,
          42345.48,
          6400340.97,
          5289138.5,
          62670.56,
          51748.65,
          6234006.44,
          6760001.68,
          116908.54,
          6024103.65,
          6749081.2,
          5451636.92,
          5703940.56,
          159233.08,
          5142335.64,
          79568.82,
          214374.59,
          5235579.44,
          5200252.65,
          5806392.78,
          95230.68,
          94267.54,
          62096.82,
          81751.48,
          143146.85,
          139473.83,
          4945835.54,
          5072550.94,
          201480.84,
          97265.23,
          4481990.34,
          4575710.62,
          5775536.27,
          5259354.3,
          52488.05,
          142710.36,
          56538.34,
          138580.98,
          6000013.23,
          184872.75,
          155319.35,
          156586.25,
          6774726.47,
          5108381.41,
          5698454.09,
          6903293,
          6017563.88,
          79411.38,
          6603707.93,
          86545.27,
          6414263.17,
          187358.5,
          6893900.54,
          113305.24,
          133142.97,
          6728120.77,
          6680323.25,
          7568132.39,
          195651.71,
          6216040.13,
          196942.94,
          6862241.03,
          245935.09,
          213417.87,
          118903.02,
          6104047.38,
          5463799.79,
          5647940.41,
          208956.81,
          6290164.89,
          180003.45,
          6802635.25,
          164162.25,
          139322.81,
          131608.43,
          5006659.75,
          5416591.81,
          4967651.41,
          3899040.66,
          96943.41,
          140457.87,
          160864.58,
          4253815.59,
          111851.52,
          5584114.56,
          163585.07,
          4922621.54,
          5630041.84,
          6687273.64,
          104424.88,
          7449374.27,
          6207638.5,
          205843.17,
          11274749.11,
          7043078.06,
          183797.3,
          308828.87,
          5634150.07,
          5208101.86,
          5498742.96,
          197899.23,
          5719811.06,
          6249182.98,
          194263.4,
          5637299.78,
          6998582.19,
          442825.93,
          142740.06,
          6084796.99,
          187973.68,
          6585882.05,
          6177216.24,
          215628.86,
          6929193.97,
          6607292.61,
          203127.73,
          151281.1,
          5550586.51,
          180688.88,
          5548410.44,
          139016.53,
          115769.96,
          125183.67,
          109958.23,
          4926555.69,
          4181226.81,
          138458.82,
          4488892.01,
          4735152.21,
          4066640.98,
          168954.65,
          5130982.78,
          5798077.88,
          5627547,
          4782021,
          91204.54,
          5544556,
          125853.18,
          4951756.35,
          5116876.57,
          229477.07,
          156341.57,
          146720.73,
          189317.99,
          185974.53,
          188212.98,
          7463494.79,
          134888.08,
          179041.72,
          239135.67,
          179212.94,
          210067.47,
          6687009.44
         ]
        }
       ],
       "layout": {
        "coloraxis": {
         "colorbar": {
          "title": {
           "text": "Total Volume"
          }
         },
         "colorscale": [
          [
           0,
           "#440154"
          ],
          [
           0.1111111111111111,
           "#482878"
          ],
          [
           0.2222222222222222,
           "#3e4989"
          ],
          [
           0.3333333333333333,
           "#31688e"
          ],
          [
           0.4444444444444444,
           "#26828e"
          ],
          [
           0.5555555555555556,
           "#1f9e89"
          ],
          [
           0.6666666666666666,
           "#35b779"
          ],
          [
           0.7777777777777778,
           "#6ece58"
          ],
          [
           0.8888888888888888,
           "#b5de2b"
          ],
          [
           1,
           "#fde725"
          ]
         ]
        },
        "height": 800,
        "legend": {
         "itemsizing": "constant",
         "tracegroupgap": 0
        },
        "margin": {
         "t": 60
        },
        "scene": {
         "aspectmode": "auto",
         "aspectratio": {
          "x": 1,
          "y": 1,
          "z": 1
         },
         "camera": {
          "center": {
           "x": 0,
           "y": 0,
           "z": 0
          },
          "eye": {
           "x": 0.8903509227424402,
           "y": 2.2801123189270625,
           "z": 1.6081108911791062
          },
          "projection": {
           "type": "perspective"
          },
          "up": {
           "x": 0,
           "y": 0,
           "z": 1
          }
         },
         "domain": {
          "x": [
           0,
           1
          ],
          "y": [
           0,
           1
          ]
         },
         "xaxis": {
          "title": {
           "text": "region"
          },
          "type": "category"
         },
         "yaxis": {
          "title": {
           "text": "Date"
          },
          "type": "date"
         },
         "zaxis": {
          "title": {
           "text": "Total Volume"
          },
          "type": "linear"
         }
        },
        "template": {
         "data": {
          "bar": [
           {
            "error_x": {
             "color": "#2a3f5f"
            },
            "error_y": {
             "color": "#2a3f5f"
            },
            "marker": {
             "line": {
              "color": "#E5ECF6",
              "width": 0.5
             },
             "pattern": {
              "fillmode": "overlay",
              "size": 10,
              "solidity": 0.2
             }
            },
            "type": "bar"
           }
          ],
          "barpolar": [
           {
            "marker": {
             "line": {
              "color": "#E5ECF6",
              "width": 0.5
             },
             "pattern": {
              "fillmode": "overlay",
              "size": 10,
              "solidity": 0.2
             }
            },
            "type": "barpolar"
           }
          ],
          "carpet": [
           {
            "aaxis": {
             "endlinecolor": "#2a3f5f",
             "gridcolor": "white",
             "linecolor": "white",
             "minorgridcolor": "white",
             "startlinecolor": "#2a3f5f"
            },
            "baxis": {
             "endlinecolor": "#2a3f5f",
             "gridcolor": "white",
             "linecolor": "white",
             "minorgridcolor": "white",
             "startlinecolor": "#2a3f5f"
            },
            "type": "carpet"
           }
          ],
          "choropleth": [
           {
            "colorbar": {
             "outlinewidth": 0,
             "ticks": ""
            },
            "type": "choropleth"
           }
          ],
          "contour": [
           {
            "colorbar": {
             "outlinewidth": 0,
             "ticks": ""
            },
            "colorscale": [
             [
              0,
              "#0d0887"
             ],
             [
              0.1111111111111111,
              "#46039f"
             ],
             [
              0.2222222222222222,
              "#7201a8"
             ],
             [
              0.3333333333333333,
              "#9c179e"
             ],
             [
              0.4444444444444444,
              "#bd3786"
             ],
             [
              0.5555555555555556,
              "#d8576b"
             ],
             [
              0.6666666666666666,
              "#ed7953"
             ],
             [
              0.7777777777777778,
              "#fb9f3a"
             ],
             [
              0.8888888888888888,
              "#fdca26"
             ],
             [
              1,
              "#f0f921"
             ]
            ],
            "type": "contour"
           }
          ],
          "contourcarpet": [
           {
            "colorbar": {
             "outlinewidth": 0,
             "ticks": ""
            },
            "type": "contourcarpet"
           }
          ],
          "heatmap": [
           {
            "colorbar": {
             "outlinewidth": 0,
             "ticks": ""
            },
            "colorscale": [
             [
              0,
              "#0d0887"
             ],
             [
              0.1111111111111111,
              "#46039f"
             ],
             [
              0.2222222222222222,
              "#7201a8"
             ],
             [
              0.3333333333333333,
              "#9c179e"
             ],
             [
              0.4444444444444444,
              "#bd3786"
             ],
             [
              0.5555555555555556,
              "#d8576b"
             ],
             [
              0.6666666666666666,
              "#ed7953"
             ],
             [
              0.7777777777777778,
              "#fb9f3a"
             ],
             [
              0.8888888888888888,
              "#fdca26"
             ],
             [
              1,
              "#f0f921"
             ]
            ],
            "type": "heatmap"
           }
          ],
          "heatmapgl": [
           {
            "colorbar": {
             "outlinewidth": 0,
             "ticks": ""
            },
            "colorscale": [
             [
              0,
              "#0d0887"
             ],
             [
              0.1111111111111111,
              "#46039f"
             ],
             [
              0.2222222222222222,
              "#7201a8"
             ],
             [
              0.3333333333333333,
              "#9c179e"
             ],
             [
              0.4444444444444444,
              "#bd3786"
             ],
             [
              0.5555555555555556,
              "#d8576b"
             ],
             [
              0.6666666666666666,
              "#ed7953"
             ],
             [
              0.7777777777777778,
              "#fb9f3a"
             ],
             [
              0.8888888888888888,
              "#fdca26"
             ],
             [
              1,
              "#f0f921"
             ]
            ],
            "type": "heatmapgl"
           }
          ],
          "histogram": [
           {
            "marker": {
             "pattern": {
              "fillmode": "overlay",
              "size": 10,
              "solidity": 0.2
             }
            },
            "type": "histogram"
           }
          ],
          "histogram2d": [
           {
            "colorbar": {
             "outlinewidth": 0,
             "ticks": ""
            },
            "colorscale": [
             [
              0,
              "#0d0887"
             ],
             [
              0.1111111111111111,
              "#46039f"
             ],
             [
              0.2222222222222222,
              "#7201a8"
             ],
             [
              0.3333333333333333,
              "#9c179e"
             ],
             [
              0.4444444444444444,
              "#bd3786"
             ],
             [
              0.5555555555555556,
              "#d8576b"
             ],
             [
              0.6666666666666666,
              "#ed7953"
             ],
             [
              0.7777777777777778,
              "#fb9f3a"
             ],
             [
              0.8888888888888888,
              "#fdca26"
             ],
             [
              1,
              "#f0f921"
             ]
            ],
            "type": "histogram2d"
           }
          ],
          "histogram2dcontour": [
           {
            "colorbar": {
             "outlinewidth": 0,
             "ticks": ""
            },
            "colorscale": [
             [
              0,
              "#0d0887"
             ],
             [
              0.1111111111111111,
              "#46039f"
             ],
             [
              0.2222222222222222,
              "#7201a8"
             ],
             [
              0.3333333333333333,
              "#9c179e"
             ],
             [
              0.4444444444444444,
              "#bd3786"
             ],
             [
              0.5555555555555556,
              "#d8576b"
             ],
             [
              0.6666666666666666,
              "#ed7953"
             ],
             [
              0.7777777777777778,
              "#fb9f3a"
             ],
             [
              0.8888888888888888,
              "#fdca26"
             ],
             [
              1,
              "#f0f921"
             ]
            ],
            "type": "histogram2dcontour"
           }
          ],
          "mesh3d": [
           {
            "colorbar": {
             "outlinewidth": 0,
             "ticks": ""
            },
            "type": "mesh3d"
           }
          ],
          "parcoords": [
           {
            "line": {
             "colorbar": {
              "outlinewidth": 0,
              "ticks": ""
             }
            },
            "type": "parcoords"
           }
          ],
          "pie": [
           {
            "automargin": true,
            "type": "pie"
           }
          ],
          "scatter": [
           {
            "marker": {
             "colorbar": {
              "outlinewidth": 0,
              "ticks": ""
             }
            },
            "type": "scatter"
           }
          ],
          "scatter3d": [
           {
            "line": {
             "colorbar": {
              "outlinewidth": 0,
              "ticks": ""
             }
            },
            "marker": {
             "colorbar": {
              "outlinewidth": 0,
              "ticks": ""
             }
            },
            "type": "scatter3d"
           }
          ],
          "scattercarpet": [
           {
            "marker": {
             "colorbar": {
              "outlinewidth": 0,
              "ticks": ""
             }
            },
            "type": "scattercarpet"
           }
          ],
          "scattergeo": [
           {
            "marker": {
             "colorbar": {
              "outlinewidth": 0,
              "ticks": ""
             }
            },
            "type": "scattergeo"
           }
          ],
          "scattergl": [
           {
            "marker": {
             "colorbar": {
              "outlinewidth": 0,
              "ticks": ""
             }
            },
            "type": "scattergl"
           }
          ],
          "scattermapbox": [
           {
            "marker": {
             "colorbar": {
              "outlinewidth": 0,
              "ticks": ""
             }
            },
            "type": "scattermapbox"
           }
          ],
          "scatterpolar": [
           {
            "marker": {
             "colorbar": {
              "outlinewidth": 0,
              "ticks": ""
             }
            },
            "type": "scatterpolar"
           }
          ],
          "scatterpolargl": [
           {
            "marker": {
             "colorbar": {
              "outlinewidth": 0,
              "ticks": ""
             }
            },
            "type": "scatterpolargl"
           }
          ],
          "scatterternary": [
           {
            "marker": {
             "colorbar": {
              "outlinewidth": 0,
              "ticks": ""
             }
            },
            "type": "scatterternary"
           }
          ],
          "surface": [
           {
            "colorbar": {
             "outlinewidth": 0,
             "ticks": ""
            },
            "colorscale": [
             [
              0,
              "#0d0887"
             ],
             [
              0.1111111111111111,
              "#46039f"
             ],
             [
              0.2222222222222222,
              "#7201a8"
             ],
             [
              0.3333333333333333,
              "#9c179e"
             ],
             [
              0.4444444444444444,
              "#bd3786"
             ],
             [
              0.5555555555555556,
              "#d8576b"
             ],
             [
              0.6666666666666666,
              "#ed7953"
             ],
             [
              0.7777777777777778,
              "#fb9f3a"
             ],
             [
              0.8888888888888888,
              "#fdca26"
             ],
             [
              1,
              "#f0f921"
             ]
            ],
            "type": "surface"
           }
          ],
          "table": [
           {
            "cells": {
             "fill": {
              "color": "#EBF0F8"
             },
             "line": {
              "color": "white"
             }
            },
            "header": {
             "fill": {
              "color": "#C8D4E3"
             },
             "line": {
              "color": "white"
             }
            },
            "type": "table"
           }
          ]
         },
         "layout": {
          "annotationdefaults": {
           "arrowcolor": "#2a3f5f",
           "arrowhead": 0,
           "arrowwidth": 1
          },
          "autotypenumbers": "strict",
          "coloraxis": {
           "colorbar": {
            "outlinewidth": 0,
            "ticks": ""
           }
          },
          "colorscale": {
           "diverging": [
            [
             0,
             "#8e0152"
            ],
            [
             0.1,
             "#c51b7d"
            ],
            [
             0.2,
             "#de77ae"
            ],
            [
             0.3,
             "#f1b6da"
            ],
            [
             0.4,
             "#fde0ef"
            ],
            [
             0.5,
             "#f7f7f7"
            ],
            [
             0.6,
             "#e6f5d0"
            ],
            [
             0.7,
             "#b8e186"
            ],
            [
             0.8,
             "#7fbc41"
            ],
            [
             0.9,
             "#4d9221"
            ],
            [
             1,
             "#276419"
            ]
           ],
           "sequential": [
            [
             0,
             "#0d0887"
            ],
            [
             0.1111111111111111,
             "#46039f"
            ],
            [
             0.2222222222222222,
             "#7201a8"
            ],
            [
             0.3333333333333333,
             "#9c179e"
            ],
            [
             0.4444444444444444,
             "#bd3786"
            ],
            [
             0.5555555555555556,
             "#d8576b"
            ],
            [
             0.6666666666666666,
             "#ed7953"
            ],
            [
             0.7777777777777778,
             "#fb9f3a"
            ],
            [
             0.8888888888888888,
             "#fdca26"
            ],
            [
             1,
             "#f0f921"
            ]
           ],
           "sequentialminus": [
            [
             0,
             "#0d0887"
            ],
            [
             0.1111111111111111,
             "#46039f"
            ],
            [
             0.2222222222222222,
             "#7201a8"
            ],
            [
             0.3333333333333333,
             "#9c179e"
            ],
            [
             0.4444444444444444,
             "#bd3786"
            ],
            [
             0.5555555555555556,
             "#d8576b"
            ],
            [
             0.6666666666666666,
             "#ed7953"
            ],
            [
             0.7777777777777778,
             "#fb9f3a"
            ],
            [
             0.8888888888888888,
             "#fdca26"
            ],
            [
             1,
             "#f0f921"
            ]
           ]
          },
          "colorway": [
           "#636efa",
           "#EF553B",
           "#00cc96",
           "#ab63fa",
           "#FFA15A",
           "#19d3f3",
           "#FF6692",
           "#B6E880",
           "#FF97FF",
           "#FECB52"
          ],
          "font": {
           "color": "#2a3f5f"
          },
          "geo": {
           "bgcolor": "white",
           "lakecolor": "white",
           "landcolor": "#E5ECF6",
           "showlakes": true,
           "showland": true,
           "subunitcolor": "white"
          },
          "hoverlabel": {
           "align": "left"
          },
          "hovermode": "closest",
          "mapbox": {
           "style": "light"
          },
          "paper_bgcolor": "white",
          "plot_bgcolor": "#E5ECF6",
          "polar": {
           "angularaxis": {
            "gridcolor": "white",
            "linecolor": "white",
            "ticks": ""
           },
           "bgcolor": "#E5ECF6",
           "radialaxis": {
            "gridcolor": "white",
            "linecolor": "white",
            "ticks": ""
           }
          },
          "scene": {
           "xaxis": {
            "backgroundcolor": "#E5ECF6",
            "gridcolor": "white",
            "gridwidth": 2,
            "linecolor": "white",
            "showbackground": true,
            "ticks": "",
            "zerolinecolor": "white"
           },
           "yaxis": {
            "backgroundcolor": "#E5ECF6",
            "gridcolor": "white",
            "gridwidth": 2,
            "linecolor": "white",
            "showbackground": true,
            "ticks": "",
            "zerolinecolor": "white"
           },
           "zaxis": {
            "backgroundcolor": "#E5ECF6",
            "gridcolor": "white",
            "gridwidth": 2,
            "linecolor": "white",
            "showbackground": true,
            "ticks": "",
            "zerolinecolor": "white"
           }
          },
          "shapedefaults": {
           "line": {
            "color": "#2a3f5f"
           }
          },
          "ternary": {
           "aaxis": {
            "gridcolor": "white",
            "linecolor": "white",
            "ticks": ""
           },
           "baxis": {
            "gridcolor": "white",
            "linecolor": "white",
            "ticks": ""
           },
           "bgcolor": "#E5ECF6",
           "caxis": {
            "gridcolor": "white",
            "linecolor": "white",
            "ticks": ""
           }
          },
          "title": {
           "x": 0.05
          },
          "xaxis": {
           "automargin": true,
           "gridcolor": "white",
           "linecolor": "white",
           "ticks": "",
           "title": {
            "standoff": 15
           },
           "zerolinecolor": "white",
           "zerolinewidth": 2
          },
          "yaxis": {
           "automargin": true,
           "gridcolor": "white",
           "linecolor": "white",
           "ticks": "",
           "title": {
            "standoff": 15
           },
           "zerolinecolor": "white",
           "zerolinewidth": 2
          }
         }
        },
        "width": 800
       }
      },
      "image/png": "[encoded data removed]",
      "text/html": [
       "<div>                            <div id=\"91238dde-a8c8-4fbb-a984-11618ce4ea7a\" class=\"plotly-graph-div\" style=\"height:800px; width:800px;\"></div>            <script type=\"text/javascript\">                require([\"plotly\"], function(Plotly) {                    window.PLOTLYENV=window.PLOTLYENV || {};                                    if (document.getElementById(\"91238dde-a8c8-4fbb-a984-11618ce4ea7a\")) {                    Plotly.newPlot(                        \"91238dde-a8c8-4fbb-a984-11618ce4ea7a\",                        [{\"hovertemplate\":\"region=%{x}<br>Date=%{y}<br>Total Volume=%{marker.color}<extra></extra>\",\"legendgroup\":\"\",\"marker\":{\"color\":[187548.3,5333097.71,5570915.26,58961.59,196031.9,5949846.14,116499.36,188334.19,6700134.25,5990243.89,66049.13,5368331.44,60007.19,5467155.55,262870.62,191660.54,5578980.69,42345.48,6400340.97,5289138.5,62670.56,51748.65,6234006.44,6760001.68,116908.54,6024103.65,6749081.2,5451636.92,5703940.56,159233.08,5142335.64,79568.82,214374.59,5235579.44,5200252.65,5806392.78,95230.68,94267.54,62096.82,81751.48,143146.85,139473.83,4945835.54,5072550.94,201480.84,97265.23,4481990.34,4575710.62,5775536.27,5259354.3,52488.05,142710.36,56538.34,138580.98,6000013.23,184872.75,155319.35,156586.25,6774726.47,5108381.41,5698454.09,6903293.0,6017563.88,79411.38,6603707.93,86545.27,6414263.17,187358.5,6893900.54,113305.24,133142.97,6728120.77,6680323.25,7568132.39,195651.71,6216040.13,196942.94,6862241.03,245935.09,213417.87,118903.02,6104047.38,5463799.79,5647940.41,208956.81,6290164.89,180003.45,6802635.25,164162.25,139322.81,131608.43,5006659.75,5416591.81,4967651.41,3899040.66,96943.41,140457.87,160864.58,4253815.59,111851.52,5584114.56,163585.07,4922621.54,5630041.84,6687273.64,104424.88,7449374.27,6207638.5,205843.17,11274749.11,7043078.06,183797.3,308828.87,5634150.07,5208101.86,5498742.96,197899.23,5719811.06,6249182.98,194263.4,5637299.78,6998582.19,442825.93,142740.06,6084796.99,187973.68,6585882.05,6177216.24,215628.86,6929193.97,6607292.61,203127.73,151281.1,5550586.51,180688.88,5548410.44,139016.53,115769.96,125183.67,109958.23,4926555.69,4181226.81,138458.82,4488892.01,4735152.21,4066640.98,168954.65,5130982.78,5798077.88,5627547.0,4782021.0,91204.54,5544556.0,125853.18,4951756.35,5116876.57,229477.07,156341.57,146720.73,189317.99,185974.53,188212.98,7463494.79,134888.08,179041.72,239135.67,179212.94,210067.47,6687009.44],\"coloraxis\":\"coloraxis\",\"size\":[187548.3,5333097.71,5570915.26,58961.59,196031.9,5949846.14,116499.36,188334.19,6700134.25,5990243.89,66049.13,5368331.44,60007.19,5467155.55,262870.62,191660.54,5578980.69,42345.48,6400340.97,5289138.5,62670.56,51748.65,6234006.44,6760001.68,116908.54,6024103.65,6749081.2,5451636.92,5703940.56,159233.08,5142335.64,79568.82,214374.59,5235579.44,5200252.65,5806392.78,95230.68,94267.54,62096.82,81751.48,143146.85,139473.83,4945835.54,5072550.94,201480.84,97265.23,4481990.34,4575710.62,5775536.27,5259354.3,52488.05,142710.36,56538.34,138580.98,6000013.23,184872.75,155319.35,156586.25,6774726.47,5108381.41,5698454.09,6903293.0,6017563.88,79411.38,6603707.93,86545.27,6414263.17,187358.5,6893900.54,113305.24,133142.97,6728120.77,6680323.25,7568132.39,195651.71,6216040.13,196942.94,6862241.03,245935.09,213417.87,118903.02,6104047.38,5463799.79,5647940.41,208956.81,6290164.89,180003.45,6802635.25,164162.25,139322.81,131608.43,5006659.75,5416591.81,4967651.41,3899040.66,96943.41,140457.87,160864.58,4253815.59,111851.52,5584114.56,163585.07,4922621.54,5630041.84,6687273.64,104424.88,7449374.27,6207638.5,205843.17,11274749.11,7043078.06,183797.3,308828.87,5634150.07,5208101.86,5498742.96,197899.23,5719811.06,6249182.98,194263.4,5637299.78,6998582.19,442825.93,142740.06,6084796.99,187973.68,6585882.05,6177216.24,215628.86,6929193.97,6607292.61,203127.73,151281.1,5550586.51,180688.88,5548410.44,139016.53,115769.96,125183.67,109958.23,4926555.69,4181226.81,138458.82,4488892.01,4735152.21,4066640.98,168954.65,5130982.78,5798077.88,5627547.0,4782021.0,91204.54,5544556.0,125853.18,4951756.35,5116876.57,229477.07,156341.57,146720.73,189317.99,185974.53,188212.98,7463494.79,134888.08,179041.72,239135.67,179212.94,210067.47,6687009.44],\"sizemode\":\"area\",\"sizeref\":1391.9443345679013,\"symbol\":\"circle\"},\"mode\":\"markers\",\"name\":\"\",\"scene\":\"scene\",\"showlegend\":false,\"x\":[\"West\",\"West\",\"California\",\"SouthCentral\",\"California\",\"West\",\"California\",\"West\",\"California\",\"California\",\"SouthCentral\",\"West\",\"SouthCentral\",\"California\",\"West\",\"West\",\"SouthCentral\",\"SouthCentral\",\"SouthCentral\",\"California\",\"SouthCentral\",\"SouthCentral\",\"SouthCentral\",\"West\",\"California\",\"SouthCentral\",\"West\",\"California\",\"SouthCentral\",\"West\",\"SouthCentral\",\"SouthCentral\",\"West\",\"SouthCentral\",\"SouthCentral\",\"California\",\"California\",\"California\",\"SouthCentral\",\"California\",\"West\",\"West\",\"West\",\"SouthCentral\",\"West\",\"California\",\"West\",\"California\",\"California\",\"California\",\"SouthCentral\",\"West\",\"SouthCentral\",\"California\",\"California\",\"West\",\"California\",\"California\",\"West\",\"SouthCentral\",\"SouthCentral\",\"West\",\"California\",\"SouthCentral\",\"California\",\"SouthCentral\",\"SouthCentral\",\"California\",\"SouthCentral\",\"SouthCentral\",\"SouthCentral\",\"SouthCentral\",\"SouthCentral\",\"West\",\"West\",\"West\",\"California\",\"West\",\"West\",\"California\",\"SouthCentral\",\"California\",\"West\",\"SouthCentral\",\"California\",\"West\",\"SouthCentral\",\"SouthCentral\",\"SouthCentral\",\"California\",\"SouthCentral\",\"SouthCentral\",\"SouthCentral\",\"SouthCentral\",\"California\",\"West\",\"West\",\"West\",\"California\",\"California\",\"SouthCentral\",\"West\",\"California\",\"SouthCentral\",\"SouthCentral\",\"SouthCentral\",\"West\",\"SouthCentral\",\"West\",\"West\",\"SouthCentral\",\"California\",\"West\",\"California\",\"California\",\"SouthCentral\",\"SouthCentral\",\"California\",\"California\",\"California\",\"California\",\"West\",\"West\",\"SouthCentral\",\"SouthCentral\",\"SouthCentral\",\"SouthCentral\",\"California\",\"West\",\"West\",\"California\",\"West\",\"West\",\"SouthCentral\",\"West\",\"West\",\"California\",\"SouthCentral\",\"SouthCentral\",\"SouthCentral\",\"SouthCentral\",\"West\",\"California\",\"SouthCentral\",\"SouthCentral\",\"California\",\"West\",\"West\",\"SouthCentral\",\"SouthCentral\",\"California\",\"SouthCentral\",\"California\",\"California\",\"SouthCentral\",\"West\",\"West\",\"California\",\"SouthCentral\",\"West\",\"West\",\"California\",\"West\",\"SouthCentral\",\"California\",\"California\",\"SouthCentral\",\"West\",\"California\"],\"y\":[\"2015-01-04\",\"2015-01-11\",\"2015-01-18\",\"2015-01-25\",\"2015-02-01\",\"2015-02-08\",\"2015-02-15\",\"2015-02-22\",\"2015-03-01\",\"2015-03-08\",\"2015-03-15\",\"2015-03-22\",\"2015-03-29\",\"2015-04-05\",\"2015-04-12\",\"2015-04-19\",\"2015-04-26\",\"2015-05-03\",\"2015-05-10\",\"2015-05-17\",\"2015-05-24\",\"2015-05-31\",\"2015-06-07\",\"2015-06-14\",\"2015-06-21\",\"2015-06-28\",\"2015-07-05\",\"2015-07-12\",\"2015-07-19\",\"2015-07-26\",\"2015-08-02\",\"2015-08-09\",\"2015-08-16\",\"2015-08-23\",\"2015-08-30\",\"2015-09-06\",\"2015-09-13\",\"2015-09-20\",\"2015-09-27\",\"2015-10-04\",\"2015-10-11\",\"2015-10-18\",\"2015-10-25\",\"2015-11-01\",\"2015-11-08\",\"2015-11-15\",\"2015-11-22\",\"2015-11-29\",\"2015-12-06\",\"2015-12-13\",\"2015-12-20\",\"2015-12-27\",\"2016-01-03\",\"2016-01-10\",\"2016-01-17\",\"2016-01-24\",\"2016-01-31\",\"2016-02-07\",\"2016-02-14\",\"2016-02-21\",\"2016-02-28\",\"2016-03-06\",\"2016-03-13\",\"2016-03-20\",\"2016-03-27\",\"2016-04-03\",\"2016-04-10\",\"2016-04-17\",\"2016-04-24\",\"2016-05-01\",\"2016-05-08\",\"2016-05-15\",\"2016-05-22\",\"2016-05-29\",\"2016-06-05\",\"2016-06-12\",\"2016-06-19\",\"2016-06-26\",\"2016-07-03\",\"2016-07-10\",\"2016-07-17\",\"2016-07-24\",\"2016-07-31\",\"2016-08-07\",\"2016-08-14\",\"2016-08-21\",\"2016-08-28\",\"2016-09-04\",\"2016-09-11\",\"2016-09-18\",\"2016-09-25\",\"2016-10-02\",\"2016-10-09\",\"2016-10-16\",\"2016-10-23\",\"2016-10-30\",\"2016-11-06\",\"2016-11-13\",\"2016-11-20\",\"2016-11-27\",\"2016-12-04\",\"2016-12-11\",\"2016-12-18\",\"2016-12-25\",\"2017-01-01\",\"2017-01-08\",\"2017-01-15\",\"2017-01-22\",\"2017-01-29\",\"2017-02-05\",\"2017-02-12\",\"2017-02-19\",\"2017-02-26\",\"2017-03-05\",\"2017-03-12\",\"2017-03-19\",\"2017-03-26\",\"2017-04-02\",\"2017-04-09\",\"2017-04-16\",\"2017-04-23\",\"2017-04-30\",\"2017-05-07\",\"2017-05-14\",\"2017-05-21\",\"2017-05-28\",\"2017-06-04\",\"2017-06-11\",\"2017-06-18\",\"2017-06-25\",\"2017-07-02\",\"2017-07-09\",\"2017-07-16\",\"2017-07-23\",\"2017-07-30\",\"2017-08-06\",\"2017-08-13\",\"2017-08-20\",\"2017-08-27\",\"2017-09-03\",\"2017-09-10\",\"2017-09-17\",\"2017-09-24\",\"2017-10-01\",\"2017-10-08\",\"2017-10-15\",\"2017-10-22\",\"2017-10-29\",\"2017-11-05\",\"2017-11-12\",\"2017-11-19\",\"2017-11-26\",\"2017-12-03\",\"2017-12-10\",\"2017-12-17\",\"2017-12-24\",\"2017-12-31\",\"2018-01-07\",\"2018-01-14\",\"2018-01-21\",\"2018-01-28\",\"2018-02-04\",\"2018-02-11\",\"2018-02-18\",\"2018-02-25\",\"2018-03-04\",\"2018-03-11\",\"2018-03-18\",\"2018-03-25\"],\"z\":[187548.3,5333097.71,5570915.26,58961.59,196031.9,5949846.14,116499.36,188334.19,6700134.25,5990243.89,66049.13,5368331.44,60007.19,5467155.55,262870.62,191660.54,5578980.69,42345.48,6400340.97,5289138.5,62670.56,51748.65,6234006.44,6760001.68,116908.54,6024103.65,6749081.2,5451636.92,5703940.56,159233.08,5142335.64,79568.82,214374.59,5235579.44,5200252.65,5806392.78,95230.68,94267.54,62096.82,81751.48,143146.85,139473.83,4945835.54,5072550.94,201480.84,97265.23,4481990.34,4575710.62,5775536.27,5259354.3,52488.05,142710.36,56538.34,138580.98,6000013.23,184872.75,155319.35,156586.25,6774726.47,5108381.41,5698454.09,6903293.0,6017563.88,79411.38,6603707.93,86545.27,6414263.17,187358.5,6893900.54,113305.24,133142.97,6728120.77,6680323.25,7568132.39,195651.71,6216040.13,196942.94,6862241.03,245935.09,213417.87,118903.02,6104047.38,5463799.79,5647940.41,208956.81,6290164.89,180003.45,6802635.25,164162.25,139322.81,131608.43,5006659.75,5416591.81,4967651.41,3899040.66,96943.41,140457.87,160864.58,4253815.59,111851.52,5584114.56,163585.07,4922621.54,5630041.84,6687273.64,104424.88,7449374.27,6207638.5,205843.17,11274749.11,7043078.06,183797.3,308828.87,5634150.07,5208101.86,5498742.96,197899.23,5719811.06,6249182.98,194263.4,5637299.78,6998582.19,442825.93,142740.06,6084796.99,187973.68,6585882.05,6177216.24,215628.86,6929193.97,6607292.61,203127.73,151281.1,5550586.51,180688.88,5548410.44,139016.53,115769.96,125183.67,109958.23,4926555.69,4181226.81,138458.82,4488892.01,4735152.21,4066640.98,168954.65,5130982.78,5798077.88,5627547.0,4782021.0,91204.54,5544556.0,125853.18,4951756.35,5116876.57,229477.07,156341.57,146720.73,189317.99,185974.53,188212.98,7463494.79,134888.08,179041.72,239135.67,179212.94,210067.47,6687009.44],\"type\":\"scatter3d\"}],                        {\"template\":{\"data\":{\"bar\":[{\"error_x\":{\"color\":\"#2a3f5f\"},\"error_y\":{\"color\":\"#2a3f5f\"},\"marker\":{\"line\":{\"color\":\"#E5ECF6\",\"width\":0.5},\"pattern\":{\"fillmode\":\"overlay\",\"size\":10,\"solidity\":0.2}},\"type\":\"bar\"}],\"barpolar\":[{\"marker\":{\"line\":{\"color\":\"#E5ECF6\",\"width\":0.5},\"pattern\":{\"fillmode\":\"overlay\",\"size\":10,\"solidity\":0.2}},\"type\":\"barpolar\"}],\"carpet\":[{\"aaxis\":{\"endlinecolor\":\"#2a3f5f\",\"gridcolor\":\"white\",\"linecolor\":\"white\",\"minorgridcolor\":\"white\",\"startlinecolor\":\"#2a3f5f\"},\"baxis\":{\"endlinecolor\":\"#2a3f5f\",\"gridcolor\":\"white\",\"linecolor\":\"white\",\"minorgridcolor\":\"white\",\"startlinecolor\":\"#2a3f5f\"},\"type\":\"carpet\"}],\"choropleth\":[{\"colorbar\":{\"outlinewidth\":0,\"ticks\":\"\"},\"type\":\"choropleth\"}],\"contour\":[{\"colorbar\":{\"outlinewidth\":0,\"ticks\":\"\"},\"colorscale\":[[0.0,\"#0d0887\"],[0.1111111111111111,\"#46039f\"],[0.2222222222222222,\"#7201a8\"],[0.3333333333333333,\"#9c179e\"],[0.4444444444444444,\"#bd3786\"],[0.5555555555555556,\"#d8576b\"],[0.6666666666666666,\"#ed7953\"],[0.7777777777777778,\"#fb9f3a\"],[0.8888888888888888,\"#fdca26\"],[1.0,\"#f0f921\"]],\"type\":\"contour\"}],\"contourcarpet\":[{\"colorbar\":{\"outlinewidth\":0,\"ticks\":\"\"},\"type\":\"contourcarpet\"}],\"heatmap\":[{\"colorbar\":{\"outlinewidth\":0,\"ticks\":\"\"},\"colorscale\":[[0.0,\"#0d0887\"],[0.1111111111111111,\"#46039f\"],[0.2222222222222222,\"#7201a8\"],[0.3333333333333333,\"#9c179e\"],[0.4444444444444444,\"#bd3786\"],[0.5555555555555556,\"#d8576b\"],[0.6666666666666666,\"#ed7953\"],[0.7777777777777778,\"#fb9f3a\"],[0.8888888888888888,\"#fdca26\"],[1.0,\"#f0f921\"]],\"type\":\"heatmap\"}],\"heatmapgl\":[{\"colorbar\":{\"outlinewidth\":0,\"ticks\":\"\"},\"colorscale\":[[0.0,\"#0d0887\"],[0.1111111111111111,\"#46039f\"],[0.2222222222222222,\"#7201a8\"],[0.3333333333333333,\"#9c179e\"],[0.4444444444444444,\"#bd3786\"],[0.5555555555555556,\"#d8576b\"],[0.6666666666666666,\"#ed7953\"],[0.7777777777777778,\"#fb9f3a\"],[0.8888888888888888,\"#fdca26\"],[1.0,\"#f0f921\"]],\"type\":\"heatmapgl\"}],\"histogram\":[{\"marker\":{\"pattern\":{\"fillmode\":\"overlay\",\"size\":10,\"solidity\":0.2}},\"type\":\"histogram\"}],\"histogram2d\":[{\"colorbar\":{\"outlinewidth\":0,\"ticks\":\"\"},\"colorscale\":[[0.0,\"#0d0887\"],[0.1111111111111111,\"#46039f\"],[0.2222222222222222,\"#7201a8\"],[0.3333333333333333,\"#9c179e\"],[0.4444444444444444,\"#bd3786\"],[0.5555555555555556,\"#d8576b\"],[0.6666666666666666,\"#ed7953\"],[0.7777777777777778,\"#fb9f3a\"],[0.8888888888888888,\"#fdca26\"],[1.0,\"#f0f921\"]],\"type\":\"histogram2d\"}],\"histogram2dcontour\":[{\"colorbar\":{\"outlinewidth\":0,\"ticks\":\"\"},\"colorscale\":[[0.0,\"#0d0887\"],[0.1111111111111111,\"#46039f\"],[0.2222222222222222,\"#7201a8\"],[0.3333333333333333,\"#9c179e\"],[0.4444444444444444,\"#bd3786\"],[0.5555555555555556,\"#d8576b\"],[0.6666666666666666,\"#ed7953\"],[0.7777777777777778,\"#fb9f3a\"],[0.8888888888888888,\"#fdca26\"],[1.0,\"#f0f921\"]],\"type\":\"histogram2dcontour\"}],\"mesh3d\":[{\"colorbar\":{\"outlinewidth\":0,\"ticks\":\"\"},\"type\":\"mesh3d\"}],\"parcoords\":[{\"line\":{\"colorbar\":{\"outlinewidth\":0,\"ticks\":\"\"}},\"type\":\"parcoords\"}],\"pie\":[{\"automargin\":true,\"type\":\"pie\"}],\"scatter\":[{\"marker\":{\"colorbar\":{\"outlinewidth\":0,\"ticks\":\"\"}},\"type\":\"scatter\"}],\"scatter3d\":[{\"line\":{\"colorbar\":{\"outlinewidth\":0,\"ticks\":\"\"}},\"marker\":{\"colorbar\":{\"outlinewidth\":0,\"ticks\":\"\"}},\"type\":\"scatter3d\"}],\"scattercarpet\":[{\"marker\":{\"colorbar\":{\"outlinewidth\":0,\"ticks\":\"\"}},\"type\":\"scattercarpet\"}],\"scattergeo\":[{\"marker\":{\"colorbar\":{\"outlinewidth\":0,\"ticks\":\"\"}},\"type\":\"scattergeo\"}],\"scattergl\":[{\"marker\":{\"colorbar\":{\"outlinewidth\":0,\"ticks\":\"\"}},\"type\":\"scattergl\"}],\"scattermapbox\":[{\"marker\":{\"colorbar\":{\"outlinewidth\":0,\"ticks\":\"\"}},\"type\":\"scattermapbox\"}],\"scatterpolar\":[{\"marker\":{\"colorbar\":{\"outlinewidth\":0,\"ticks\":\"\"}},\"type\":\"scatterpolar\"}],\"scatterpolargl\":[{\"marker\":{\"colorbar\":{\"outlinewidth\":0,\"ticks\":\"\"}},\"type\":\"scatterpolargl\"}],\"scatterternary\":[{\"marker\":{\"colorbar\":{\"outlinewidth\":0,\"ticks\":\"\"}},\"type\":\"scatterternary\"}],\"surface\":[{\"colorbar\":{\"outlinewidth\":0,\"ticks\":\"\"},\"colorscale\":[[0.0,\"#0d0887\"],[0.1111111111111111,\"#46039f\"],[0.2222222222222222,\"#7201a8\"],[0.3333333333333333,\"#9c179e\"],[0.4444444444444444,\"#bd3786\"],[0.5555555555555556,\"#d8576b\"],[0.6666666666666666,\"#ed7953\"],[0.7777777777777778,\"#fb9f3a\"],[0.8888888888888888,\"#fdca26\"],[1.0,\"#f0f921\"]],\"type\":\"surface\"}],\"table\":[{\"cells\":{\"fill\":{\"color\":\"#EBF0F8\"},\"line\":{\"color\":\"white\"}},\"header\":{\"fill\":{\"color\":\"#C8D4E3\"},\"line\":{\"color\":\"white\"}},\"type\":\"table\"}]},\"layout\":{\"annotationdefaults\":{\"arrowcolor\":\"#2a3f5f\",\"arrowhead\":0,\"arrowwidth\":1},\"autotypenumbers\":\"strict\",\"coloraxis\":{\"colorbar\":{\"outlinewidth\":0,\"ticks\":\"\"}},\"colorscale\":{\"diverging\":[[0,\"#8e0152\"],[0.1,\"#c51b7d\"],[0.2,\"#de77ae\"],[0.3,\"#f1b6da\"],[0.4,\"#fde0ef\"],[0.5,\"#f7f7f7\"],[0.6,\"#e6f5d0\"],[0.7,\"#b8e186\"],[0.8,\"#7fbc41\"],[0.9,\"#4d9221\"],[1,\"#276419\"]],\"sequential\":[[0.0,\"#0d0887\"],[0.1111111111111111,\"#46039f\"],[0.2222222222222222,\"#7201a8\"],[0.3333333333333333,\"#9c179e\"],[0.4444444444444444,\"#bd3786\"],[0.5555555555555556,\"#d8576b\"],[0.6666666666666666,\"#ed7953\"],[0.7777777777777778,\"#fb9f3a\"],[0.8888888888888888,\"#fdca26\"],[1.0,\"#f0f921\"]],\"sequentialminus\":[[0.0,\"#0d0887\"],[0.1111111111111111,\"#46039f\"],[0.2222222222222222,\"#7201a8\"],[0.3333333333333333,\"#9c179e\"],[0.4444444444444444,\"#bd3786\"],[0.5555555555555556,\"#d8576b\"],[0.6666666666666666,\"#ed7953\"],[0.7777777777777778,\"#fb9f3a\"],[0.8888888888888888,\"#fdca26\"],[1.0,\"#f0f921\"]]},\"colorway\":[\"#636efa\",\"#EF553B\",\"#00cc96\",\"#ab63fa\",\"#FFA15A\",\"#19d3f3\",\"#FF6692\",\"#B6E880\",\"#FF97FF\",\"#FECB52\"],\"font\":{\"color\":\"#2a3f5f\"},\"geo\":{\"bgcolor\":\"white\",\"lakecolor\":\"white\",\"landcolor\":\"#E5ECF6\",\"showlakes\":true,\"showland\":true,\"subunitcolor\":\"white\"},\"hoverlabel\":{\"align\":\"left\"},\"hovermode\":\"closest\",\"mapbox\":{\"style\":\"light\"},\"paper_bgcolor\":\"white\",\"plot_bgcolor\":\"#E5ECF6\",\"polar\":{\"angularaxis\":{\"gridcolor\":\"white\",\"linecolor\":\"white\",\"ticks\":\"\"},\"bgcolor\":\"#E5ECF6\",\"radialaxis\":{\"gridcolor\":\"white\",\"linecolor\":\"white\",\"ticks\":\"\"}},\"scene\":{\"xaxis\":{\"backgroundcolor\":\"#E5ECF6\",\"gridcolor\":\"white\",\"gridwidth\":2,\"linecolor\":\"white\",\"showbackground\":true,\"ticks\":\"\",\"zerolinecolor\":\"white\"},\"yaxis\":{\"backgroundcolor\":\"#E5ECF6\",\"gridcolor\":\"white\",\"gridwidth\":2,\"linecolor\":\"white\",\"showbackground\":true,\"ticks\":\"\",\"zerolinecolor\":\"white\"},\"zaxis\":{\"backgroundcolor\":\"#E5ECF6\",\"gridcolor\":\"white\",\"gridwidth\":2,\"linecolor\":\"white\",\"showbackground\":true,\"ticks\":\"\",\"zerolinecolor\":\"white\"}},\"shapedefaults\":{\"line\":{\"color\":\"#2a3f5f\"}},\"ternary\":{\"aaxis\":{\"gridcolor\":\"white\",\"linecolor\":\"white\",\"ticks\":\"\"},\"baxis\":{\"gridcolor\":\"white\",\"linecolor\":\"white\",\"ticks\":\"\"},\"bgcolor\":\"#E5ECF6\",\"caxis\":{\"gridcolor\":\"white\",\"linecolor\":\"white\",\"ticks\":\"\"}},\"title\":{\"x\":0.05},\"xaxis\":{\"automargin\":true,\"gridcolor\":\"white\",\"linecolor\":\"white\",\"ticks\":\"\",\"title\":{\"standoff\":15},\"zerolinecolor\":\"white\",\"zerolinewidth\":2},\"yaxis\":{\"automargin\":true,\"gridcolor\":\"white\",\"linecolor\":\"white\",\"ticks\":\"\",\"title\":{\"standoff\":15},\"zerolinecolor\":\"white\",\"zerolinewidth\":2}}},\"scene\":{\"domain\":{\"x\":[0.0,1.0],\"y\":[0.0,1.0]},\"xaxis\":{\"title\":{\"text\":\"region\"}},\"yaxis\":{\"title\":{\"text\":\"Date\"}},\"zaxis\":{\"title\":{\"text\":\"Total Volume\"}}},\"coloraxis\":{\"colorbar\":{\"title\":{\"text\":\"Total Volume\"}},\"colorscale\":[[0.0,\"#440154\"],[0.1111111111111111,\"#482878\"],[0.2222222222222222,\"#3e4989\"],[0.3333333333333333,\"#31688e\"],[0.4444444444444444,\"#26828e\"],[0.5555555555555556,\"#1f9e89\"],[0.6666666666666666,\"#35b779\"],[0.7777777777777778,\"#6ece58\"],[0.8888888888888888,\"#b5de2b\"],[1.0,\"#fde725\"]]},\"legend\":{\"tracegroupgap\":0,\"itemsizing\":\"constant\"},\"margin\":{\"t\":60},\"height\":800,\"width\":800},                        {\"responsive\": true}                    ).then(function(){\n",
       "                            \n",
       "var gd = document.getElementById('91238dde-a8c8-4fbb-a984-11618ce4ea7a');\n",
       "var x = new MutationObserver(function (mutations, observer) {{\n",
       "        var display = window.getComputedStyle(gd).display;\n",
       "        if (!display || display === 'none') {{\n",
       "            console.log([gd, 'removed!']);\n",
       "            Plotly.purge(gd);\n",
       "            observer.disconnect();\n",
       "        }}\n",
       "}});\n",
       "\n",
       "// Listen for the removal of the full notebook cells\n",
       "var notebookContainer = gd.closest('#notebook-container');\n",
       "if (notebookContainer) {{\n",
       "    x.observe(notebookContainer, {childList: true});\n",
       "}}\n",
       "\n",
       "// Listen for the clearing of the current output cell\n",
       "var outputEl = gd.closest('.output');\n",
       "if (outputEl) {{\n",
       "    x.observe(outputEl, {childList: true});\n",
       "}}\n",
       "\n",
       "                        })                };                });            </script>        </div>"
      ]
     },
     "metadata": {},
     "output_type": "display_data"
    }
   ],
   "source": [
    "temp = df[(df['region'] == 'SouthCentral') | (df['region'] == 'West') | (df['region'] == 'California')]\n",
    "temp = temp[['Date','4046','AveragePrice','Total Volume','region']].sort_values(by='Date').drop_duplicates(subset=['Date'],keep='first',)\n",
    "fig3 = px.scatter_3d(temp,x='region',y='Date',z='Total Volume',color='Total Volume',\n",
    "                     color_continuous_scale='Viridis',size='Total Volume',size_max=90)\n",
    "fig3.update_layout(height=800,width=800)\n",
    "# df.region.unique()"
   ]
  },
  {
   "cell_type": "code",
   "execution_count": 62,
   "id": "28a6664c-158b-4a6a-9046-5a3f5f4cef92",
   "metadata": {},
   "outputs": [
    {
     "data": {
      "application/vnd.plotly.v1+json": {
       "config": {
        "plotlyServerURL": "https://plot.ly"
       },
       "data": [
        {
         "alignmentgroup": "True",
         "hovertemplate": "type=%{x}<br>Volume=%{y}<extra></extra>",
         "legendgroup": "conventional",
         "marker": {
          "color": "#636efa",
          "pattern": {
           "shape": ""
          }
         },
         "name": "conventional",
         "offsetgroup": "conventional",
         "orientation": "v",
         "showlegend": true,
         "textposition": "auto",
         "type": "bar",
         "x": [
          "conventional"
         ],
         "xaxis": "x",
         "y": [
          3164183109.2500052
         ],
         "yaxis": "y"
        },
        {
         "alignmentgroup": "True",
         "hovertemplate": "type=%{x}<br>Volume=%{y}<extra></extra>",
         "legendgroup": "organic",
         "marker": {
          "color": "#EF553B",
          "pattern": {
           "shape": ""
          }
         },
         "name": "organic",
         "offsetgroup": "organic",
         "orientation": "v",
         "showlegend": true,
         "textposition": "auto",
         "type": "bar",
         "x": [
          "organic"
         ],
         "xaxis": "x",
         "y": [
          160687728.25999975
         ],
         "yaxis": "y"
        }
       ],
       "layout": {
        "autosize": true,
        "barmode": "relative",
        "legend": {
         "title": {
          "text": "type"
         },
         "tracegroupgap": 0
        },
        "margin": {
         "t": 60
        },
        "template": {
         "data": {
          "bar": [
           {
            "error_x": {
             "color": "#2a3f5f"
            },
            "error_y": {
             "color": "#2a3f5f"
            },
            "marker": {
             "line": {
              "color": "#E5ECF6",
              "width": 0.5
             },
             "pattern": {
              "fillmode": "overlay",
              "size": 10,
              "solidity": 0.2
             }
            },
            "type": "bar"
           }
          ],
          "barpolar": [
           {
            "marker": {
             "line": {
              "color": "#E5ECF6",
              "width": 0.5
             },
             "pattern": {
              "fillmode": "overlay",
              "size": 10,
              "solidity": 0.2
             }
            },
            "type": "barpolar"
           }
          ],
          "carpet": [
           {
            "aaxis": {
             "endlinecolor": "#2a3f5f",
             "gridcolor": "white",
             "linecolor": "white",
             "minorgridcolor": "white",
             "startlinecolor": "#2a3f5f"
            },
            "baxis": {
             "endlinecolor": "#2a3f5f",
             "gridcolor": "white",
             "linecolor": "white",
             "minorgridcolor": "white",
             "startlinecolor": "#2a3f5f"
            },
            "type": "carpet"
           }
          ],
          "choropleth": [
           {
            "colorbar": {
             "outlinewidth": 0,
             "ticks": ""
            },
            "type": "choropleth"
           }
          ],
          "contour": [
           {
            "colorbar": {
             "outlinewidth": 0,
             "ticks": ""
            },
            "colorscale": [
             [
              0,
              "#0d0887"
             ],
             [
              0.1111111111111111,
              "#46039f"
             ],
             [
              0.2222222222222222,
              "#7201a8"
             ],
             [
              0.3333333333333333,
              "#9c179e"
             ],
             [
              0.4444444444444444,
              "#bd3786"
             ],
             [
              0.5555555555555556,
              "#d8576b"
             ],
             [
              0.6666666666666666,
              "#ed7953"
             ],
             [
              0.7777777777777778,
              "#fb9f3a"
             ],
             [
              0.8888888888888888,
              "#fdca26"
             ],
             [
              1,
              "#f0f921"
             ]
            ],
            "type": "contour"
           }
          ],
          "contourcarpet": [
           {
            "colorbar": {
             "outlinewidth": 0,
             "ticks": ""
            },
            "type": "contourcarpet"
           }
          ],
          "heatmap": [
           {
            "colorbar": {
             "outlinewidth": 0,
             "ticks": ""
            },
            "colorscale": [
             [
              0,
              "#0d0887"
             ],
             [
              0.1111111111111111,
              "#46039f"
             ],
             [
              0.2222222222222222,
              "#7201a8"
             ],
             [
              0.3333333333333333,
              "#9c179e"
             ],
             [
              0.4444444444444444,
              "#bd3786"
             ],
             [
              0.5555555555555556,
              "#d8576b"
             ],
             [
              0.6666666666666666,
              "#ed7953"
             ],
             [
              0.7777777777777778,
              "#fb9f3a"
             ],
             [
              0.8888888888888888,
              "#fdca26"
             ],
             [
              1,
              "#f0f921"
             ]
            ],
            "type": "heatmap"
           }
          ],
          "heatmapgl": [
           {
            "colorbar": {
             "outlinewidth": 0,
             "ticks": ""
            },
            "colorscale": [
             [
              0,
              "#0d0887"
             ],
             [
              0.1111111111111111,
              "#46039f"
             ],
             [
              0.2222222222222222,
              "#7201a8"
             ],
             [
              0.3333333333333333,
              "#9c179e"
             ],
             [
              0.4444444444444444,
              "#bd3786"
             ],
             [
              0.5555555555555556,
              "#d8576b"
             ],
             [
              0.6666666666666666,
              "#ed7953"
             ],
             [
              0.7777777777777778,
              "#fb9f3a"
             ],
             [
              0.8888888888888888,
              "#fdca26"
             ],
             [
              1,
              "#f0f921"
             ]
            ],
            "type": "heatmapgl"
           }
          ],
          "histogram": [
           {
            "marker": {
             "pattern": {
              "fillmode": "overlay",
              "size": 10,
              "solidity": 0.2
             }
            },
            "type": "histogram"
           }
          ],
          "histogram2d": [
           {
            "colorbar": {
             "outlinewidth": 0,
             "ticks": ""
            },
            "colorscale": [
             [
              0,
              "#0d0887"
             ],
             [
              0.1111111111111111,
              "#46039f"
             ],
             [
              0.2222222222222222,
              "#7201a8"
             ],
             [
              0.3333333333333333,
              "#9c179e"
             ],
             [
              0.4444444444444444,
              "#bd3786"
             ],
             [
              0.5555555555555556,
              "#d8576b"
             ],
             [
              0.6666666666666666,
              "#ed7953"
             ],
             [
              0.7777777777777778,
              "#fb9f3a"
             ],
             [
              0.8888888888888888,
              "#fdca26"
             ],
             [
              1,
              "#f0f921"
             ]
            ],
            "type": "histogram2d"
           }
          ],
          "histogram2dcontour": [
           {
            "colorbar": {
             "outlinewidth": 0,
             "ticks": ""
            },
            "colorscale": [
             [
              0,
              "#0d0887"
             ],
             [
              0.1111111111111111,
              "#46039f"
             ],
             [
              0.2222222222222222,
              "#7201a8"
             ],
             [
              0.3333333333333333,
              "#9c179e"
             ],
             [
              0.4444444444444444,
              "#bd3786"
             ],
             [
              0.5555555555555556,
              "#d8576b"
             ],
             [
              0.6666666666666666,
              "#ed7953"
             ],
             [
              0.7777777777777778,
              "#fb9f3a"
             ],
             [
              0.8888888888888888,
              "#fdca26"
             ],
             [
              1,
              "#f0f921"
             ]
            ],
            "type": "histogram2dcontour"
           }
          ],
          "mesh3d": [
           {
            "colorbar": {
             "outlinewidth": 0,
             "ticks": ""
            },
            "type": "mesh3d"
           }
          ],
          "parcoords": [
           {
            "line": {
             "colorbar": {
              "outlinewidth": 0,
              "ticks": ""
             }
            },
            "type": "parcoords"
           }
          ],
          "pie": [
           {
            "automargin": true,
            "type": "pie"
           }
          ],
          "scatter": [
           {
            "marker": {
             "colorbar": {
              "outlinewidth": 0,
              "ticks": ""
             }
            },
            "type": "scatter"
           }
          ],
          "scatter3d": [
           {
            "line": {
             "colorbar": {
              "outlinewidth": 0,
              "ticks": ""
             }
            },
            "marker": {
             "colorbar": {
              "outlinewidth": 0,
              "ticks": ""
             }
            },
            "type": "scatter3d"
           }
          ],
          "scattercarpet": [
           {
            "marker": {
             "colorbar": {
              "outlinewidth": 0,
              "ticks": ""
             }
            },
            "type": "scattercarpet"
           }
          ],
          "scattergeo": [
           {
            "marker": {
             "colorbar": {
              "outlinewidth": 0,
              "ticks": ""
             }
            },
            "type": "scattergeo"
           }
          ],
          "scattergl": [
           {
            "marker": {
             "colorbar": {
              "outlinewidth": 0,
              "ticks": ""
             }
            },
            "type": "scattergl"
           }
          ],
          "scattermapbox": [
           {
            "marker": {
             "colorbar": {
              "outlinewidth": 0,
              "ticks": ""
             }
            },
            "type": "scattermapbox"
           }
          ],
          "scatterpolar": [
           {
            "marker": {
             "colorbar": {
              "outlinewidth": 0,
              "ticks": ""
             }
            },
            "type": "scatterpolar"
           }
          ],
          "scatterpolargl": [
           {
            "marker": {
             "colorbar": {
              "outlinewidth": 0,
              "ticks": ""
             }
            },
            "type": "scatterpolargl"
           }
          ],
          "scatterternary": [
           {
            "marker": {
             "colorbar": {
              "outlinewidth": 0,
              "ticks": ""
             }
            },
            "type": "scatterternary"
           }
          ],
          "surface": [
           {
            "colorbar": {
             "outlinewidth": 0,
             "ticks": ""
            },
            "colorscale": [
             [
              0,
              "#0d0887"
             ],
             [
              0.1111111111111111,
              "#46039f"
             ],
             [
              0.2222222222222222,
              "#7201a8"
             ],
             [
              0.3333333333333333,
              "#9c179e"
             ],
             [
              0.4444444444444444,
              "#bd3786"
             ],
             [
              0.5555555555555556,
              "#d8576b"
             ],
             [
              0.6666666666666666,
              "#ed7953"
             ],
             [
              0.7777777777777778,
              "#fb9f3a"
             ],
             [
              0.8888888888888888,
              "#fdca26"
             ],
             [
              1,
              "#f0f921"
             ]
            ],
            "type": "surface"
           }
          ],
          "table": [
           {
            "cells": {
             "fill": {
              "color": "#EBF0F8"
             },
             "line": {
              "color": "white"
             }
            },
            "header": {
             "fill": {
              "color": "#C8D4E3"
             },
             "line": {
              "color": "white"
             }
            },
            "type": "table"
           }
          ]
         },
         "layout": {
          "annotationdefaults": {
           "arrowcolor": "#2a3f5f",
           "arrowhead": 0,
           "arrowwidth": 1
          },
          "autotypenumbers": "strict",
          "coloraxis": {
           "colorbar": {
            "outlinewidth": 0,
            "ticks": ""
           }
          },
          "colorscale": {
           "diverging": [
            [
             0,
             "#8e0152"
            ],
            [
             0.1,
             "#c51b7d"
            ],
            [
             0.2,
             "#de77ae"
            ],
            [
             0.3,
             "#f1b6da"
            ],
            [
             0.4,
             "#fde0ef"
            ],
            [
             0.5,
             "#f7f7f7"
            ],
            [
             0.6,
             "#e6f5d0"
            ],
            [
             0.7,
             "#b8e186"
            ],
            [
             0.8,
             "#7fbc41"
            ],
            [
             0.9,
             "#4d9221"
            ],
            [
             1,
             "#276419"
            ]
           ],
           "sequential": [
            [
             0,
             "#0d0887"
            ],
            [
             0.1111111111111111,
             "#46039f"
            ],
            [
             0.2222222222222222,
             "#7201a8"
            ],
            [
             0.3333333333333333,
             "#9c179e"
            ],
            [
             0.4444444444444444,
             "#bd3786"
            ],
            [
             0.5555555555555556,
             "#d8576b"
            ],
            [
             0.6666666666666666,
             "#ed7953"
            ],
            [
             0.7777777777777778,
             "#fb9f3a"
            ],
            [
             0.8888888888888888,
             "#fdca26"
            ],
            [
             1,
             "#f0f921"
            ]
           ],
           "sequentialminus": [
            [
             0,
             "#0d0887"
            ],
            [
             0.1111111111111111,
             "#46039f"
            ],
            [
             0.2222222222222222,
             "#7201a8"
            ],
            [
             0.3333333333333333,
             "#9c179e"
            ],
            [
             0.4444444444444444,
             "#bd3786"
            ],
            [
             0.5555555555555556,
             "#d8576b"
            ],
            [
             0.6666666666666666,
             "#ed7953"
            ],
            [
             0.7777777777777778,
             "#fb9f3a"
            ],
            [
             0.8888888888888888,
             "#fdca26"
            ],
            [
             1,
             "#f0f921"
            ]
           ]
          },
          "colorway": [
           "#636efa",
           "#EF553B",
           "#00cc96",
           "#ab63fa",
           "#FFA15A",
           "#19d3f3",
           "#FF6692",
           "#B6E880",
           "#FF97FF",
           "#FECB52"
          ],
          "font": {
           "color": "#2a3f5f"
          },
          "geo": {
           "bgcolor": "white",
           "lakecolor": "white",
           "landcolor": "#E5ECF6",
           "showlakes": true,
           "showland": true,
           "subunitcolor": "white"
          },
          "hoverlabel": {
           "align": "left"
          },
          "hovermode": "closest",
          "mapbox": {
           "style": "light"
          },
          "paper_bgcolor": "white",
          "plot_bgcolor": "#E5ECF6",
          "polar": {
           "angularaxis": {
            "gridcolor": "white",
            "linecolor": "white",
            "ticks": ""
           },
           "bgcolor": "#E5ECF6",
           "radialaxis": {
            "gridcolor": "white",
            "linecolor": "white",
            "ticks": ""
           }
          },
          "scene": {
           "xaxis": {
            "backgroundcolor": "#E5ECF6",
            "gridcolor": "white",
            "gridwidth": 2,
            "linecolor": "white",
            "showbackground": true,
            "ticks": "",
            "zerolinecolor": "white"
           },
           "yaxis": {
            "backgroundcolor": "#E5ECF6",
            "gridcolor": "white",
            "gridwidth": 2,
            "linecolor": "white",
            "showbackground": true,
            "ticks": "",
            "zerolinecolor": "white"
           },
           "zaxis": {
            "backgroundcolor": "#E5ECF6",
            "gridcolor": "white",
            "gridwidth": 2,
            "linecolor": "white",
            "showbackground": true,
            "ticks": "",
            "zerolinecolor": "white"
           }
          },
          "shapedefaults": {
           "line": {
            "color": "#2a3f5f"
           }
          },
          "ternary": {
           "aaxis": {
            "gridcolor": "white",
            "linecolor": "white",
            "ticks": ""
           },
           "baxis": {
            "gridcolor": "white",
            "linecolor": "white",
            "ticks": ""
           },
           "bgcolor": "#E5ECF6",
           "caxis": {
            "gridcolor": "white",
            "linecolor": "white",
            "ticks": ""
           }
          },
          "title": {
           "x": 0.05
          },
          "xaxis": {
           "automargin": true,
           "gridcolor": "white",
           "linecolor": "white",
           "ticks": "",
           "title": {
            "standoff": 15
           },
           "zerolinecolor": "white",
           "zerolinewidth": 2
          },
          "yaxis": {
           "automargin": true,
           "gridcolor": "white",
           "linecolor": "white",
           "ticks": "",
           "title": {
            "standoff": 15
           },
           "zerolinecolor": "white",
           "zerolinewidth": 2
          }
         }
        },
        "xaxis": {
         "anchor": "y",
         "autorange": true,
         "categoryarray": [
          "conventional",
          "organic"
         ],
         "categoryorder": "array",
         "domain": [
          0,
          1
         ],
         "range": [
          -0.5,
          1.5
         ],
         "title": {
          "text": "type"
         },
         "type": "category"
        },
        "yaxis": {
         "anchor": "x",
         "autorange": true,
         "domain": [
          0,
          1
         ],
         "range": [
          0,
          3330719062.368427
         ],
         "title": {
          "text": "Volume"
         },
         "type": "linear"
        }
       }
      },
      "image/png": "[encoded data removed]",
      "text/html": [
       "<div>                            <div id=\"07439c62-c539-4d66-acc7-3b2261f629c3\" class=\"plotly-graph-div\" style=\"height:525px; width:100%;\"></div>            <script type=\"text/javascript\">                require([\"plotly\"], function(Plotly) {                    window.PLOTLYENV=window.PLOTLYENV || {};                                    if (document.getElementById(\"07439c62-c539-4d66-acc7-3b2261f629c3\")) {                    Plotly.newPlot(                        \"07439c62-c539-4d66-acc7-3b2261f629c3\",                        [{\"alignmentgroup\":\"True\",\"hovertemplate\":\"type=%{x}<br>Volume=%{y}<extra></extra>\",\"legendgroup\":\"conventional\",\"marker\":{\"color\":\"#636efa\",\"pattern\":{\"shape\":\"\"}},\"name\":\"conventional\",\"offsetgroup\":\"conventional\",\"orientation\":\"v\",\"showlegend\":true,\"textposition\":\"auto\",\"x\":[\"conventional\"],\"xaxis\":\"x\",\"y\":[3164183109.2500052],\"yaxis\":\"y\",\"type\":\"bar\"},{\"alignmentgroup\":\"True\",\"hovertemplate\":\"type=%{x}<br>Volume=%{y}<extra></extra>\",\"legendgroup\":\"organic\",\"marker\":{\"color\":\"#EF553B\",\"pattern\":{\"shape\":\"\"}},\"name\":\"organic\",\"offsetgroup\":\"organic\",\"orientation\":\"v\",\"showlegend\":true,\"textposition\":\"auto\",\"x\":[\"organic\"],\"xaxis\":\"x\",\"y\":[160687728.25999975],\"yaxis\":\"y\",\"type\":\"bar\"}],                        {\"template\":{\"data\":{\"bar\":[{\"error_x\":{\"color\":\"#2a3f5f\"},\"error_y\":{\"color\":\"#2a3f5f\"},\"marker\":{\"line\":{\"color\":\"#E5ECF6\",\"width\":0.5},\"pattern\":{\"fillmode\":\"overlay\",\"size\":10,\"solidity\":0.2}},\"type\":\"bar\"}],\"barpolar\":[{\"marker\":{\"line\":{\"color\":\"#E5ECF6\",\"width\":0.5},\"pattern\":{\"fillmode\":\"overlay\",\"size\":10,\"solidity\":0.2}},\"type\":\"barpolar\"}],\"carpet\":[{\"aaxis\":{\"endlinecolor\":\"#2a3f5f\",\"gridcolor\":\"white\",\"linecolor\":\"white\",\"minorgridcolor\":\"white\",\"startlinecolor\":\"#2a3f5f\"},\"baxis\":{\"endlinecolor\":\"#2a3f5f\",\"gridcolor\":\"white\",\"linecolor\":\"white\",\"minorgridcolor\":\"white\",\"startlinecolor\":\"#2a3f5f\"},\"type\":\"carpet\"}],\"choropleth\":[{\"colorbar\":{\"outlinewidth\":0,\"ticks\":\"\"},\"type\":\"choropleth\"}],\"contour\":[{\"colorbar\":{\"outlinewidth\":0,\"ticks\":\"\"},\"colorscale\":[[0.0,\"#0d0887\"],[0.1111111111111111,\"#46039f\"],[0.2222222222222222,\"#7201a8\"],[0.3333333333333333,\"#9c179e\"],[0.4444444444444444,\"#bd3786\"],[0.5555555555555556,\"#d8576b\"],[0.6666666666666666,\"#ed7953\"],[0.7777777777777778,\"#fb9f3a\"],[0.8888888888888888,\"#fdca26\"],[1.0,\"#f0f921\"]],\"type\":\"contour\"}],\"contourcarpet\":[{\"colorbar\":{\"outlinewidth\":0,\"ticks\":\"\"},\"type\":\"contourcarpet\"}],\"heatmap\":[{\"colorbar\":{\"outlinewidth\":0,\"ticks\":\"\"},\"colorscale\":[[0.0,\"#0d0887\"],[0.1111111111111111,\"#46039f\"],[0.2222222222222222,\"#7201a8\"],[0.3333333333333333,\"#9c179e\"],[0.4444444444444444,\"#bd3786\"],[0.5555555555555556,\"#d8576b\"],[0.6666666666666666,\"#ed7953\"],[0.7777777777777778,\"#fb9f3a\"],[0.8888888888888888,\"#fdca26\"],[1.0,\"#f0f921\"]],\"type\":\"heatmap\"}],\"heatmapgl\":[{\"colorbar\":{\"outlinewidth\":0,\"ticks\":\"\"},\"colorscale\":[[0.0,\"#0d0887\"],[0.1111111111111111,\"#46039f\"],[0.2222222222222222,\"#7201a8\"],[0.3333333333333333,\"#9c179e\"],[0.4444444444444444,\"#bd3786\"],[0.5555555555555556,\"#d8576b\"],[0.6666666666666666,\"#ed7953\"],[0.7777777777777778,\"#fb9f3a\"],[0.8888888888888888,\"#fdca26\"],[1.0,\"#f0f921\"]],\"type\":\"heatmapgl\"}],\"histogram\":[{\"marker\":{\"pattern\":{\"fillmode\":\"overlay\",\"size\":10,\"solidity\":0.2}},\"type\":\"histogram\"}],\"histogram2d\":[{\"colorbar\":{\"outlinewidth\":0,\"ticks\":\"\"},\"colorscale\":[[0.0,\"#0d0887\"],[0.1111111111111111,\"#46039f\"],[0.2222222222222222,\"#7201a8\"],[0.3333333333333333,\"#9c179e\"],[0.4444444444444444,\"#bd3786\"],[0.5555555555555556,\"#d8576b\"],[0.6666666666666666,\"#ed7953\"],[0.7777777777777778,\"#fb9f3a\"],[0.8888888888888888,\"#fdca26\"],[1.0,\"#f0f921\"]],\"type\":\"histogram2d\"}],\"histogram2dcontour\":[{\"colorbar\":{\"outlinewidth\":0,\"ticks\":\"\"},\"colorscale\":[[0.0,\"#0d0887\"],[0.1111111111111111,\"#46039f\"],[0.2222222222222222,\"#7201a8\"],[0.3333333333333333,\"#9c179e\"],[0.4444444444444444,\"#bd3786\"],[0.5555555555555556,\"#d8576b\"],[0.6666666666666666,\"#ed7953\"],[0.7777777777777778,\"#fb9f3a\"],[0.8888888888888888,\"#fdca26\"],[1.0,\"#f0f921\"]],\"type\":\"histogram2dcontour\"}],\"mesh3d\":[{\"colorbar\":{\"outlinewidth\":0,\"ticks\":\"\"},\"type\":\"mesh3d\"}],\"parcoords\":[{\"line\":{\"colorbar\":{\"outlinewidth\":0,\"ticks\":\"\"}},\"type\":\"parcoords\"}],\"pie\":[{\"automargin\":true,\"type\":\"pie\"}],\"scatter\":[{\"marker\":{\"colorbar\":{\"outlinewidth\":0,\"ticks\":\"\"}},\"type\":\"scatter\"}],\"scatter3d\":[{\"line\":{\"colorbar\":{\"outlinewidth\":0,\"ticks\":\"\"}},\"marker\":{\"colorbar\":{\"outlinewidth\":0,\"ticks\":\"\"}},\"type\":\"scatter3d\"}],\"scattercarpet\":[{\"marker\":{\"colorbar\":{\"outlinewidth\":0,\"ticks\":\"\"}},\"type\":\"scattercarpet\"}],\"scattergeo\":[{\"marker\":{\"colorbar\":{\"outlinewidth\":0,\"ticks\":\"\"}},\"type\":\"scattergeo\"}],\"scattergl\":[{\"marker\":{\"colorbar\":{\"outlinewidth\":0,\"ticks\":\"\"}},\"type\":\"scattergl\"}],\"scattermapbox\":[{\"marker\":{\"colorbar\":{\"outlinewidth\":0,\"ticks\":\"\"}},\"type\":\"scattermapbox\"}],\"scatterpolar\":[{\"marker\":{\"colorbar\":{\"outlinewidth\":0,\"ticks\":\"\"}},\"type\":\"scatterpolar\"}],\"scatterpolargl\":[{\"marker\":{\"colorbar\":{\"outlinewidth\":0,\"ticks\":\"\"}},\"type\":\"scatterpolargl\"}],\"scatterternary\":[{\"marker\":{\"colorbar\":{\"outlinewidth\":0,\"ticks\":\"\"}},\"type\":\"scatterternary\"}],\"surface\":[{\"colorbar\":{\"outlinewidth\":0,\"ticks\":\"\"},\"colorscale\":[[0.0,\"#0d0887\"],[0.1111111111111111,\"#46039f\"],[0.2222222222222222,\"#7201a8\"],[0.3333333333333333,\"#9c179e\"],[0.4444444444444444,\"#bd3786\"],[0.5555555555555556,\"#d8576b\"],[0.6666666666666666,\"#ed7953\"],[0.7777777777777778,\"#fb9f3a\"],[0.8888888888888888,\"#fdca26\"],[1.0,\"#f0f921\"]],\"type\":\"surface\"}],\"table\":[{\"cells\":{\"fill\":{\"color\":\"#EBF0F8\"},\"line\":{\"color\":\"white\"}},\"header\":{\"fill\":{\"color\":\"#C8D4E3\"},\"line\":{\"color\":\"white\"}},\"type\":\"table\"}]},\"layout\":{\"annotationdefaults\":{\"arrowcolor\":\"#2a3f5f\",\"arrowhead\":0,\"arrowwidth\":1},\"autotypenumbers\":\"strict\",\"coloraxis\":{\"colorbar\":{\"outlinewidth\":0,\"ticks\":\"\"}},\"colorscale\":{\"diverging\":[[0,\"#8e0152\"],[0.1,\"#c51b7d\"],[0.2,\"#de77ae\"],[0.3,\"#f1b6da\"],[0.4,\"#fde0ef\"],[0.5,\"#f7f7f7\"],[0.6,\"#e6f5d0\"],[0.7,\"#b8e186\"],[0.8,\"#7fbc41\"],[0.9,\"#4d9221\"],[1,\"#276419\"]],\"sequential\":[[0.0,\"#0d0887\"],[0.1111111111111111,\"#46039f\"],[0.2222222222222222,\"#7201a8\"],[0.3333333333333333,\"#9c179e\"],[0.4444444444444444,\"#bd3786\"],[0.5555555555555556,\"#d8576b\"],[0.6666666666666666,\"#ed7953\"],[0.7777777777777778,\"#fb9f3a\"],[0.8888888888888888,\"#fdca26\"],[1.0,\"#f0f921\"]],\"sequentialminus\":[[0.0,\"#0d0887\"],[0.1111111111111111,\"#46039f\"],[0.2222222222222222,\"#7201a8\"],[0.3333333333333333,\"#9c179e\"],[0.4444444444444444,\"#bd3786\"],[0.5555555555555556,\"#d8576b\"],[0.6666666666666666,\"#ed7953\"],[0.7777777777777778,\"#fb9f3a\"],[0.8888888888888888,\"#fdca26\"],[1.0,\"#f0f921\"]]},\"colorway\":[\"#636efa\",\"#EF553B\",\"#00cc96\",\"#ab63fa\",\"#FFA15A\",\"#19d3f3\",\"#FF6692\",\"#B6E880\",\"#FF97FF\",\"#FECB52\"],\"font\":{\"color\":\"#2a3f5f\"},\"geo\":{\"bgcolor\":\"white\",\"lakecolor\":\"white\",\"landcolor\":\"#E5ECF6\",\"showlakes\":true,\"showland\":true,\"subunitcolor\":\"white\"},\"hoverlabel\":{\"align\":\"left\"},\"hovermode\":\"closest\",\"mapbox\":{\"style\":\"light\"},\"paper_bgcolor\":\"white\",\"plot_bgcolor\":\"#E5ECF6\",\"polar\":{\"angularaxis\":{\"gridcolor\":\"white\",\"linecolor\":\"white\",\"ticks\":\"\"},\"bgcolor\":\"#E5ECF6\",\"radialaxis\":{\"gridcolor\":\"white\",\"linecolor\":\"white\",\"ticks\":\"\"}},\"scene\":{\"xaxis\":{\"backgroundcolor\":\"#E5ECF6\",\"gridcolor\":\"white\",\"gridwidth\":2,\"linecolor\":\"white\",\"showbackground\":true,\"ticks\":\"\",\"zerolinecolor\":\"white\"},\"yaxis\":{\"backgroundcolor\":\"#E5ECF6\",\"gridcolor\":\"white\",\"gridwidth\":2,\"linecolor\":\"white\",\"showbackground\":true,\"ticks\":\"\",\"zerolinecolor\":\"white\"},\"zaxis\":{\"backgroundcolor\":\"#E5ECF6\",\"gridcolor\":\"white\",\"gridwidth\":2,\"linecolor\":\"white\",\"showbackground\":true,\"ticks\":\"\",\"zerolinecolor\":\"white\"}},\"shapedefaults\":{\"line\":{\"color\":\"#2a3f5f\"}},\"ternary\":{\"aaxis\":{\"gridcolor\":\"white\",\"linecolor\":\"white\",\"ticks\":\"\"},\"baxis\":{\"gridcolor\":\"white\",\"linecolor\":\"white\",\"ticks\":\"\"},\"bgcolor\":\"#E5ECF6\",\"caxis\":{\"gridcolor\":\"white\",\"linecolor\":\"white\",\"ticks\":\"\"}},\"title\":{\"x\":0.05},\"xaxis\":{\"automargin\":true,\"gridcolor\":\"white\",\"linecolor\":\"white\",\"ticks\":\"\",\"title\":{\"standoff\":15},\"zerolinecolor\":\"white\",\"zerolinewidth\":2},\"yaxis\":{\"automargin\":true,\"gridcolor\":\"white\",\"linecolor\":\"white\",\"ticks\":\"\",\"title\":{\"standoff\":15},\"zerolinecolor\":\"white\",\"zerolinewidth\":2}}},\"xaxis\":{\"anchor\":\"y\",\"domain\":[0.0,1.0],\"title\":{\"text\":\"type\"},\"categoryorder\":\"array\",\"categoryarray\":[\"conventional\",\"organic\"]},\"yaxis\":{\"anchor\":\"x\",\"domain\":[0.0,1.0],\"title\":{\"text\":\"Volume\"}},\"legend\":{\"title\":{\"text\":\"type\"},\"tracegroupgap\":0},\"margin\":{\"t\":60},\"barmode\":\"relative\"},                        {\"responsive\": true}                    ).then(function(){\n",
       "                            \n",
       "var gd = document.getElementById('07439c62-c539-4d66-acc7-3b2261f629c3');\n",
       "var x = new MutationObserver(function (mutations, observer) {{\n",
       "        var display = window.getComputedStyle(gd).display;\n",
       "        if (!display || display === 'none') {{\n",
       "            console.log([gd, 'removed!']);\n",
       "            Plotly.purge(gd);\n",
       "            observer.disconnect();\n",
       "        }}\n",
       "}});\n",
       "\n",
       "// Listen for the removal of the full notebook cells\n",
       "var notebookContainer = gd.closest('#notebook-container');\n",
       "if (notebookContainer) {{\n",
       "    x.observe(notebookContainer, {childList: true});\n",
       "}}\n",
       "\n",
       "// Listen for the clearing of the current output cell\n",
       "var outputEl = gd.closest('.output');\n",
       "if (outputEl) {{\n",
       "    x.observe(outputEl, {childList: true});\n",
       "}}\n",
       "\n",
       "                        })                };                });            </script>        </div>"
      ]
     },
     "metadata": {},
     "output_type": "display_data"
    }
   ],
   "source": [
    "test = (df.groupby('type')['Small Bags'].sum().rename_axis('type').reset_index(name='Volume').sort_values(by='Volume',ascending=False)).head(10)\n",
    "px.bar(test,x='type',y='Volume',color='type')"
   ]
  },
  {
   "cell_type": "code",
   "execution_count": 194,
   "id": "ec785d54-7512-4c52-8719-5f13a24b283f",
   "metadata": {},
   "outputs": [
    {
     "data": {
      "application/vnd.plotly.v1+json": {
       "config": {
        "plotlyServerURL": "https://plot.ly"
       },
       "data": [
        {
         "hovertemplate": "region=Northeast<br>Date=%{x}<br>4046=%{y}<extra></extra>",
         "legendgroup": "Northeast",
         "line": {
          "color": "#636efa",
          "dash": "solid"
         },
         "marker": {
          "symbol": "circle"
         },
         "mode": "lines",
         "name": "Northeast",
         "orientation": "v",
         "showlegend": true,
         "type": "scatter",
         "x": [
          "2015-01-04",
          "2015-01-04",
          "2015-01-11",
          "2015-01-11",
          "2015-01-18",
          "2015-01-18",
          "2015-01-25",
          "2015-01-25",
          "2015-02-01",
          "2015-02-01",
          "2015-02-08",
          "2015-02-08",
          "2015-02-15",
          "2015-02-15",
          "2015-02-22",
          "2015-02-22",
          "2015-03-01",
          "2015-03-01",
          "2015-03-08",
          "2015-03-08",
          "2015-03-15",
          "2015-03-15",
          "2015-03-22",
          "2015-03-22",
          "2015-03-29",
          "2015-03-29",
          "2015-04-05",
          "2015-04-05",
          "2015-04-12",
          "2015-04-12",
          "2015-04-19",
          "2015-04-19",
          "2015-04-26",
          "2015-04-26",
          "2015-05-03",
          "2015-05-03",
          "2015-05-10",
          "2015-05-10",
          "2015-05-17",
          "2015-05-17",
          "2015-05-24",
          "2015-05-24",
          "2015-05-31",
          "2015-05-31",
          "2015-06-07",
          "2015-06-07",
          "2015-06-14",
          "2015-06-14",
          "2015-06-21",
          "2015-06-21",
          "2015-06-28",
          "2015-06-28",
          "2015-07-05",
          "2015-07-05",
          "2015-07-12",
          "2015-07-12",
          "2015-07-19",
          "2015-07-19",
          "2015-07-26",
          "2015-07-26",
          "2015-08-02",
          "2015-08-02",
          "2015-08-09",
          "2015-08-09",
          "2015-08-16",
          "2015-08-16",
          "2015-08-23",
          "2015-08-23",
          "2015-08-30",
          "2015-08-30",
          "2015-09-06",
          "2015-09-06",
          "2015-09-13",
          "2015-09-13",
          "2015-09-20",
          "2015-09-20",
          "2015-09-27",
          "2015-09-27",
          "2015-10-04",
          "2015-10-04",
          "2015-10-11",
          "2015-10-11",
          "2015-10-18",
          "2015-10-18",
          "2015-10-25",
          "2015-10-25",
          "2015-11-01",
          "2015-11-01",
          "2015-11-08",
          "2015-11-08",
          "2015-11-15",
          "2015-11-15",
          "2015-11-22",
          "2015-11-22",
          "2015-11-29",
          "2015-11-29",
          "2015-12-06",
          "2015-12-06",
          "2015-12-13",
          "2015-12-13",
          "2015-12-20",
          "2015-12-20",
          "2015-12-27",
          "2015-12-27",
          "2016-01-03",
          "2016-01-03",
          "2016-01-10",
          "2016-01-10",
          "2016-01-17",
          "2016-01-17",
          "2016-01-24",
          "2016-01-24",
          "2016-01-31",
          "2016-01-31",
          "2016-02-07",
          "2016-02-07",
          "2016-02-14",
          "2016-02-14",
          "2016-02-21",
          "2016-02-21",
          "2016-02-28",
          "2016-02-28",
          "2016-03-06",
          "2016-03-06",
          "2016-03-13",
          "2016-03-13",
          "2016-03-20",
          "2016-03-20",
          "2016-03-27",
          "2016-03-27",
          "2016-04-03",
          "2016-04-03",
          "2016-04-10",
          "2016-04-10",
          "2016-04-17",
          "2016-04-17",
          "2016-04-24",
          "2016-04-24",
          "2016-05-01",
          "2016-05-01",
          "2016-05-08",
          "2016-05-08",
          "2016-05-15",
          "2016-05-15",
          "2016-05-22",
          "2016-05-22",
          "2016-05-29",
          "2016-05-29",
          "2016-06-05",
          "2016-06-05",
          "2016-06-12",
          "2016-06-12",
          "2016-06-19",
          "2016-06-19",
          "2016-06-26",
          "2016-06-26",
          "2016-07-03",
          "2016-07-03",
          "2016-07-10",
          "2016-07-10",
          "2016-07-17",
          "2016-07-17",
          "2016-07-24",
          "2016-07-24",
          "2016-07-31",
          "2016-07-31",
          "2016-08-07",
          "2016-08-07",
          "2016-08-14",
          "2016-08-14",
          "2016-08-21",
          "2016-08-21",
          "2016-08-28",
          "2016-08-28",
          "2016-09-04",
          "2016-09-04",
          "2016-09-11",
          "2016-09-11",
          "2016-09-18",
          "2016-09-18",
          "2016-09-25",
          "2016-09-25",
          "2016-10-02",
          "2016-10-02",
          "2016-10-09",
          "2016-10-09",
          "2016-10-16",
          "2016-10-16",
          "2016-10-23",
          "2016-10-23",
          "2016-10-30",
          "2016-10-30",
          "2016-11-06",
          "2016-11-06",
          "2016-11-13",
          "2016-11-13",
          "2016-11-20",
          "2016-11-20",
          "2016-11-27",
          "2016-11-27",
          "2016-12-04",
          "2016-12-04",
          "2016-12-11",
          "2016-12-11",
          "2016-12-18",
          "2016-12-18",
          "2016-12-25",
          "2016-12-25",
          "2017-01-01",
          "2017-01-01",
          "2017-01-08",
          "2017-01-08",
          "2017-01-15",
          "2017-01-15",
          "2017-01-22",
          "2017-01-22",
          "2017-01-29",
          "2017-01-29",
          "2017-02-05",
          "2017-02-05",
          "2017-02-12",
          "2017-02-12",
          "2017-02-19",
          "2017-02-19",
          "2017-02-26",
          "2017-02-26",
          "2017-03-05",
          "2017-03-05",
          "2017-03-12",
          "2017-03-12",
          "2017-03-19",
          "2017-03-19",
          "2017-03-26",
          "2017-03-26",
          "2017-04-02",
          "2017-04-02",
          "2017-04-09",
          "2017-04-09",
          "2017-04-16",
          "2017-04-16",
          "2017-04-23",
          "2017-04-23",
          "2017-04-30",
          "2017-04-30",
          "2017-05-07",
          "2017-05-07",
          "2017-05-14",
          "2017-05-14",
          "2017-05-21",
          "2017-05-21",
          "2017-05-28",
          "2017-05-28",
          "2017-06-04",
          "2017-06-04",
          "2017-06-11",
          "2017-06-11",
          "2017-06-18",
          "2017-06-18",
          "2017-06-25",
          "2017-06-25",
          "2017-07-02",
          "2017-07-02",
          "2017-07-09",
          "2017-07-09",
          "2017-07-16",
          "2017-07-16",
          "2017-07-23",
          "2017-07-23",
          "2017-07-30",
          "2017-07-30",
          "2017-08-06",
          "2017-08-06",
          "2017-08-13",
          "2017-08-13",
          "2017-08-20",
          "2017-08-20",
          "2017-08-27",
          "2017-08-27",
          "2017-09-03",
          "2017-09-03",
          "2017-09-10",
          "2017-09-10",
          "2017-09-17",
          "2017-09-17",
          "2017-09-24",
          "2017-09-24",
          "2017-10-01",
          "2017-10-01",
          "2017-10-08",
          "2017-10-08",
          "2017-10-15",
          "2017-10-15",
          "2017-10-22",
          "2017-10-22",
          "2017-10-29",
          "2017-10-29",
          "2017-11-05",
          "2017-11-05",
          "2017-11-12",
          "2017-11-12",
          "2017-11-19",
          "2017-11-19",
          "2017-11-26",
          "2017-11-26",
          "2017-12-03",
          "2017-12-03",
          "2017-12-10",
          "2017-12-10",
          "2017-12-17",
          "2017-12-17",
          "2017-12-24",
          "2017-12-24",
          "2017-12-31",
          "2017-12-31",
          "2018-01-07",
          "2018-01-07",
          "2018-01-14",
          "2018-01-14",
          "2018-01-21",
          "2018-01-21",
          "2018-01-28",
          "2018-01-28",
          "2018-02-04",
          "2018-02-04",
          "2018-02-11",
          "2018-02-11",
          "2018-02-18",
          "2018-02-18",
          "2018-02-25",
          "2018-02-25",
          "2018-03-04",
          "2018-03-04",
          "2018-03-11",
          "2018-03-11",
          "2018-03-18",
          "2018-03-18",
          "2018-03-25",
          "2018-03-25"
         ],
         "xaxis": "x",
         "y": [
          126640.65,
          4476.73,
          97343.55,
          3611.57,
          91803.09,
          1461.14,
          96761.81,
          2519.17,
          133613,
          3278.92,
          128978.49,
          2547.81,
          88056.2,
          3633.89,
          5183.02,
          92283.05,
          5884.52,
          88609.28,
          3991.62,
          113602.19,
          2925,
          111777.91,
          4956.8,
          118765,
          5533.31,
          96169.31,
          97887.72,
          3446.17,
          6165.15,
          93987.65,
          4357.54,
          110954.74,
          110930.88,
          3100.23,
          129459.52,
          3879.94,
          134556.37,
          4593.3,
          114065.77,
          4444.73,
          112425.95,
          5569.19,
          116068.2,
          5614.59,
          4853.51,
          109587.85,
          7000.26,
          112693.47,
          106859.5,
          5390.54,
          5627.66,
          105387.01,
          122190.4,
          3575.37,
          4205.24,
          110242.95,
          107602.07,
          3613.49,
          4767.51,
          102482.55,
          104772.22,
          3801.74,
          105393.94,
          8200.55,
          6353.43,
          97139.95,
          107907.11,
          4413.27,
          3998.98,
          93227.99,
          5543.4,
          99311.62,
          3473.57,
          95839.65,
          86196.27,
          5964.9,
          86278.88,
          3598.54,
          99666.72,
          3251.95,
          88376.7,
          3427.81,
          93569.28,
          2862.61,
          4847.06,
          88907,
          95355.74,
          5160.45,
          6009.03,
          86385.14,
          4800.47,
          89242.5,
          79006.95,
          4842.73,
          71191.69,
          2430.46,
          5884.58,
          85444.57,
          3310.22,
          81055.1,
          72576.52,
          5825.64,
          2608.86,
          69920.54,
          2251.54,
          96146.84,
          5988.87,
          96952.31,
          7831.76,
          102211.78,
          75379.6,
          3749.98,
          102906.84,
          3604.81,
          125570.46,
          7260.63,
          121413.01,
          7156.24,
          94936.43,
          6874.34,
          105867.52,
          6651.21,
          111263.99,
          12252.89,
          122581.78,
          10673.61,
          108456.51,
          6688.35,
          99223.9,
          4081,
          99894.98,
          7547.6,
          113797.04,
          4209.39,
          6852.49,
          105339.58,
          125736.57,
          7150.7,
          8435.32,
          123023.38,
          5189.53,
          135137.08,
          100735.1,
          5714.39,
          104014.01,
          7554.76,
          141464.88,
          6196.59,
          154509.15,
          3880.45,
          6582.57,
          201927.9,
          184730.86,
          4676.97,
          5040.13,
          190136.57,
          210728.65,
          6218.3,
          316659.6,
          7293.52,
          6081.81,
          196491.18,
          5082.1,
          220814.35,
          224803.7,
          5541.31,
          6862.76,
          304604.68,
          7745.48,
          316873.28,
          7701.71,
          247658.58,
          490786.03,
          4850.25,
          358039.67,
          8635.35,
          703699.41,
          12483.37,
          409569.22,
          6843.75,
          446786.96,
          6168.57,
          5768.29,
          208054.74,
          154892.72,
          6424.06,
          144612.79,
          5942.36,
          137388.92,
          3797.54,
          118904.18,
          7965.62,
          5608.51,
          124032.58,
          6112.25,
          126870.22,
          126526.23,
          13475.67,
          6088.63,
          102215.56,
          130456.71,
          11973.84,
          102683.58,
          6300.57,
          140720.26,
          14615.66,
          109608.75,
          8251.79,
          174842.62,
          9132.13,
          203756.33,
          10600.01,
          203358.77,
          9284.34,
          10781.15,
          206778.67,
          10226.18,
          201045.06,
          11663.51,
          624600.42,
          736158.49,
          11370.64,
          127051.75,
          321067.02,
          206240.69,
          22185.72,
          237802.16,
          29927.87,
          166067.6,
          14633.01,
          45037.68,
          176542.27,
          18318.35,
          201606.45,
          235162.47,
          43055.81,
          14746.97,
          221283.06,
          35022.89,
          222626.36,
          11464.72,
          244168.62,
          45273.02,
          286828.17,
          12708.77,
          305718.69,
          11814.11,
          235696.82,
          10974.59,
          302107.66,
          11400.57,
          265254.03,
          28716.42,
          241585.33,
          13018.96,
          246826.64,
          45284.06,
          237156.76,
          8675.31,
          232666.83,
          242271.89,
          8951.42,
          289590.47,
          6638.91,
          266663.37,
          12309.73,
          8003.45,
          235858.72,
          232617.59,
          5868.8,
          6369.3,
          227866.95,
          235128.9,
          7031.08,
          233399.64,
          19480.79,
          8766.1,
          246450.56,
          269503.29,
          15489.31,
          264529.93,
          10454.25,
          255828.11,
          9146.68,
          264819.64,
          9811.16,
          303877.34,
          9408.76,
          291046.85,
          11078.6,
          302669.36,
          12497.35,
          10671.96,
          289343.32,
          251453.16,
          10127.06,
          10655.06,
          228843.35,
          11004.36,
          234190,
          10459.16,
          192312,
          9276.35,
          208161,
          23973.38,
          219287,
          16117.35,
          235645.01,
          13706.54,
          224383.39,
          186562.39,
          14885.87,
          235982.42,
          11281.04,
          241291.93,
          11605.47,
          14282.25,
          282970.7,
          11683.16,
          441673.49,
          23903.56,
          418911.03,
          480603.9,
          16597.29,
          565852.47,
          10690.15,
          371846.83,
          150620,
          413430.69,
          23250.65,
          364721.28,
          38734.87,
          412621.66,
          20619.84,
          61608.19,
          453731.61,
          443927.42,
          19823.16
         ],
         "yaxis": "y"
        },
        {
         "name": "West",
         "type": "scatter",
         "x": [
          "2015-01-04",
          "2015-01-04",
          "2015-01-11",
          "2015-01-11",
          "2015-01-18",
          "2015-01-18",
          "2015-01-25",
          "2015-01-25",
          "2015-02-01",
          "2015-02-01",
          "2015-02-08",
          "2015-02-08",
          "2015-02-15",
          "2015-02-15",
          "2015-02-22",
          "2015-02-22",
          "2015-03-01",
          "2015-03-01",
          "2015-03-08",
          "2015-03-08",
          "2015-03-15",
          "2015-03-15",
          "2015-03-22",
          "2015-03-22",
          "2015-03-29",
          "2015-03-29",
          "2015-04-05",
          "2015-04-05",
          "2015-04-12",
          "2015-04-12",
          "2015-04-19",
          "2015-04-19",
          "2015-04-26",
          "2015-04-26",
          "2015-05-03",
          "2015-05-03",
          "2015-05-10",
          "2015-05-10",
          "2015-05-17",
          "2015-05-17",
          "2015-05-24",
          "2015-05-24",
          "2015-05-31",
          "2015-05-31",
          "2015-06-07",
          "2015-06-07",
          "2015-06-14",
          "2015-06-14",
          "2015-06-21",
          "2015-06-21",
          "2015-06-28",
          "2015-06-28",
          "2015-07-05",
          "2015-07-05",
          "2015-07-12",
          "2015-07-12",
          "2015-07-19",
          "2015-07-19",
          "2015-07-26",
          "2015-07-26",
          "2015-08-02",
          "2015-08-02",
          "2015-08-09",
          "2015-08-09",
          "2015-08-16",
          "2015-08-16",
          "2015-08-23",
          "2015-08-23",
          "2015-08-30",
          "2015-08-30",
          "2015-09-06",
          "2015-09-06",
          "2015-09-13",
          "2015-09-13",
          "2015-09-20",
          "2015-09-20",
          "2015-09-27",
          "2015-09-27",
          "2015-10-04",
          "2015-10-04",
          "2015-10-11",
          "2015-10-11",
          "2015-10-18",
          "2015-10-18",
          "2015-10-25",
          "2015-10-25",
          "2015-11-01",
          "2015-11-01",
          "2015-11-08",
          "2015-11-08",
          "2015-11-15",
          "2015-11-15",
          "2015-11-22",
          "2015-11-22",
          "2015-11-29",
          "2015-11-29",
          "2015-12-06",
          "2015-12-06",
          "2015-12-13",
          "2015-12-13",
          "2015-12-20",
          "2015-12-20",
          "2015-12-27",
          "2015-12-27",
          "2016-01-03",
          "2016-01-03",
          "2016-01-10",
          "2016-01-10",
          "2016-01-17",
          "2016-01-17",
          "2016-01-24",
          "2016-01-24",
          "2016-01-31",
          "2016-01-31",
          "2016-02-07",
          "2016-02-07",
          "2016-02-14",
          "2016-02-14",
          "2016-02-21",
          "2016-02-21",
          "2016-02-28",
          "2016-02-28",
          "2016-03-06",
          "2016-03-06",
          "2016-03-13",
          "2016-03-13",
          "2016-03-20",
          "2016-03-20",
          "2016-03-27",
          "2016-03-27",
          "2016-04-03",
          "2016-04-03",
          "2016-04-10",
          "2016-04-10",
          "2016-04-17",
          "2016-04-17",
          "2016-04-24",
          "2016-04-24",
          "2016-05-01",
          "2016-05-01",
          "2016-05-08",
          "2016-05-08",
          "2016-05-15",
          "2016-05-15",
          "2016-05-22",
          "2016-05-22",
          "2016-05-29",
          "2016-05-29",
          "2016-06-05",
          "2016-06-05",
          "2016-06-12",
          "2016-06-12",
          "2016-06-19",
          "2016-06-19",
          "2016-06-26",
          "2016-06-26",
          "2016-07-03",
          "2016-07-03",
          "2016-07-10",
          "2016-07-10",
          "2016-07-17",
          "2016-07-17",
          "2016-07-24",
          "2016-07-24",
          "2016-07-31",
          "2016-07-31",
          "2016-08-07",
          "2016-08-07",
          "2016-08-14",
          "2016-08-14",
          "2016-08-21",
          "2016-08-21",
          "2016-08-28",
          "2016-08-28",
          "2016-09-04",
          "2016-09-04",
          "2016-09-11",
          "2016-09-11",
          "2016-09-18",
          "2016-09-18",
          "2016-09-25",
          "2016-09-25",
          "2016-10-02",
          "2016-10-02",
          "2016-10-09",
          "2016-10-09",
          "2016-10-16",
          "2016-10-16",
          "2016-10-23",
          "2016-10-23",
          "2016-10-30",
          "2016-10-30",
          "2016-11-06",
          "2016-11-06",
          "2016-11-13",
          "2016-11-13",
          "2016-11-20",
          "2016-11-20",
          "2016-11-27",
          "2016-11-27",
          "2016-12-04",
          "2016-12-04",
          "2016-12-11",
          "2016-12-11",
          "2016-12-18",
          "2016-12-18",
          "2016-12-25",
          "2016-12-25",
          "2017-01-01",
          "2017-01-01",
          "2017-01-08",
          "2017-01-08",
          "2017-01-15",
          "2017-01-15",
          "2017-01-22",
          "2017-01-22",
          "2017-01-29",
          "2017-01-29",
          "2017-02-05",
          "2017-02-05",
          "2017-02-12",
          "2017-02-12",
          "2017-02-19",
          "2017-02-19",
          "2017-02-26",
          "2017-02-26",
          "2017-03-05",
          "2017-03-05",
          "2017-03-12",
          "2017-03-12",
          "2017-03-19",
          "2017-03-19",
          "2017-03-26",
          "2017-03-26",
          "2017-04-02",
          "2017-04-02",
          "2017-04-09",
          "2017-04-09",
          "2017-04-16",
          "2017-04-16",
          "2017-04-23",
          "2017-04-23",
          "2017-04-30",
          "2017-04-30",
          "2017-05-07",
          "2017-05-07",
          "2017-05-14",
          "2017-05-14",
          "2017-05-21",
          "2017-05-21",
          "2017-05-28",
          "2017-05-28",
          "2017-06-04",
          "2017-06-04",
          "2017-06-11",
          "2017-06-11",
          "2017-06-18",
          "2017-06-18",
          "2017-06-25",
          "2017-06-25",
          "2017-07-02",
          "2017-07-02",
          "2017-07-09",
          "2017-07-09",
          "2017-07-16",
          "2017-07-16",
          "2017-07-23",
          "2017-07-23",
          "2017-07-30",
          "2017-07-30",
          "2017-08-06",
          "2017-08-06",
          "2017-08-13",
          "2017-08-13",
          "2017-08-20",
          "2017-08-20",
          "2017-08-27",
          "2017-08-27",
          "2017-09-03",
          "2017-09-03",
          "2017-09-10",
          "2017-09-10",
          "2017-09-17",
          "2017-09-17",
          "2017-09-24",
          "2017-09-24",
          "2017-10-01",
          "2017-10-01",
          "2017-10-08",
          "2017-10-08",
          "2017-10-15",
          "2017-10-15",
          "2017-10-22",
          "2017-10-22",
          "2017-10-29",
          "2017-10-29",
          "2017-11-05",
          "2017-11-05",
          "2017-11-12",
          "2017-11-12",
          "2017-11-19",
          "2017-11-19",
          "2017-11-26",
          "2017-11-26",
          "2017-12-03",
          "2017-12-03",
          "2017-12-10",
          "2017-12-10",
          "2017-12-17",
          "2017-12-17",
          "2017-12-24",
          "2017-12-24",
          "2017-12-31",
          "2017-12-31",
          "2018-01-07",
          "2018-01-07",
          "2018-01-14",
          "2018-01-14",
          "2018-01-21",
          "2018-01-21",
          "2018-01-28",
          "2018-01-28",
          "2018-02-04",
          "2018-02-04",
          "2018-02-11",
          "2018-02-11",
          "2018-02-18",
          "2018-02-18",
          "2018-02-25",
          "2018-02-25",
          "2018-03-04",
          "2018-03-04",
          "2018-03-11",
          "2018-03-11",
          "2018-03-18",
          "2018-03-18",
          "2018-03-25",
          "2018-03-25"
         ],
         "y": [
          2275446.87,
          70313.71,
          2203111.92,
          80139.16,
          2431736.63,
          64328.76,
          2695157.56,
          61454.35,
          3531350.44,
          89599.59,
          2749122.29,
          64858.54,
          2483265.25,
          60976.33,
          87488.99,
          2444851.21,
          110458.55,
          2221447.89,
          119664.32,
          2541409.9,
          100362.24,
          3034104.48,
          94041.38,
          2511453.54,
          71334.94,
          2978534.92,
          3132031.4,
          69519.19,
          65226.89,
          2561865.42,
          81644.37,
          3118686.39,
          3163353.08,
          183001.34,
          3115937.71,
          208996.22,
          3050014.63,
          103400.77,
          2786200.82,
          106530.27,
          3206247.81,
          90538,
          3094129.71,
          84137.69,
          81830.79,
          3451592.61,
          79176.9,
          3239258.39,
          3062753.54,
          79625.61,
          72925.55,
          2686203.38,
          3328637.8,
          77241.35,
          64133.84,
          2688406.31,
          2337242.49,
          61194.97,
          60875.67,
          2293111.63,
          2470116.49,
          67553.3,
          2368531.2,
          66285.78,
          58956.38,
          2640927.73,
          2160130.08,
          62741.72,
          50269.47,
          2163511.05,
          42937.96,
          2682938.17,
          39528.09,
          2194373.38,
          1552161.89,
          34304.09,
          1601971.34,
          35384.41,
          1369449.86,
          27947.64,
          1287965.79,
          27827.61,
          2012887.19,
          34482.28,
          27321.04,
          1574344.01,
          1815066.15,
          37553.46,
          89839.79,
          2204338.57,
          36788.36,
          1996852.58,
          1549012.12,
          28451.14,
          1461861.54,
          22168.11,
          22320.01,
          2097720.52,
          29083.18,
          1798995.46,
          2017331.24,
          30114.67,
          29880.32,
          2038443.68,
          31369.85,
          2204871.45,
          26496.6,
          2530745.31,
          28881.17,
          2091961.92,
          1121790.63,
          28542.09,
          2168765.69,
          26543.86,
          3353158.49,
          23296.91,
          2645973.11,
          27729.22,
          2022750.67,
          22049.09,
          2394790.48,
          24290.16,
          2817152.63,
          35600.89,
          2302275.93,
          42978.57,
          2557843.72,
          27234.11,
          2701807.88,
          34897.61,
          2376641.3,
          35134.68,
          2750665.83,
          30288.09,
          32114.27,
          2283526.35,
          2621906.13,
          143958.38,
          163000.7,
          2324813.13,
          49339.11,
          2987238.83,
          2693393.35,
          55508.03,
          2319082.35,
          69931.66,
          2670894.03,
          37317.27,
          2492773.58,
          58162.59,
          73423.24,
          2213963.72,
          2805282.99,
          70317.09,
          57147.64,
          2645564.44,
          2313258.79,
          57696.2,
          2293685.5,
          47697,
          51709.18,
          1883575.14,
          49512.52,
          1812625.23,
          1874227.32,
          50386.72,
          49438.88,
          2858873.86,
          44064.59,
          2524278.53,
          43598.18,
          2887138.23,
          2276321.08,
          37698.95,
          2858767.17,
          42575.46,
          2364733.51,
          43258.13,
          1966754.72,
          39692.64,
          1763859.71,
          31346.67,
          29390.8,
          1560246.5,
          1941978.26,
          30116.28,
          1613263.25,
          23968.08,
          1301893.54,
          35139.81,
          1398732.86,
          42763.18,
          32388.45,
          1493574.72,
          27341.41,
          1740717.89,
          2005353.24,
          33916.58,
          28656.52,
          1525325.69,
          2142009.81,
          29864.64,
          1687192.84,
          31859.03,
          2112070.11,
          27404.62,
          1951252.95,
          19703.32,
          2100350.66,
          20783.06,
          2158521.28,
          29794.9,
          2349466.71,
          43816.58,
          32006.16,
          2831351.41,
          38850.43,
          2695457.93,
          35703.61,
          4377537.67,
          3057701.43,
          43227.87,
          40585.46,
          2322985,
          2178473.36,
          43171.62,
          2208631.13,
          61166.48,
          2392258.48,
          45583.97,
          38225.62,
          2318973.17,
          36169.35,
          2845948.78,
          2439188.31,
          34093.33,
          36813.79,
          2591478.44,
          47412.22,
          2459661.72,
          43410.75,
          2342474.18,
          61897.14,
          2322426.47,
          85438.01,
          3444218.04,
          64155.43,
          2613704.06,
          72450.49,
          2253179.19,
          64107.88,
          2356866.57,
          46575.21,
          2425106.14,
          52927.66,
          2763254.66,
          37443.94,
          2511913.67,
          30258.04,
          2401714.73,
          2270834.48,
          45612.22,
          2821722.16,
          36979.31,
          1989077.36,
          20505.23,
          29482.82,
          2072496.16,
          1992527.59,
          35365.17,
          42641.59,
          2036702.69,
          1837007.78,
          26941.72,
          1886625.76,
          19612.76,
          23404.34,
          1822972.31,
          1652405.87,
          19509,
          1701547.18,
          21079.04,
          1582315.47,
          22989.15,
          1450858.85,
          17650.08,
          1366983.48,
          16845.73,
          1409409.51,
          25306.59,
          1523418.35,
          31939.47,
          23092.88,
          1651832.17,
          1612273.73,
          20936.88,
          19917.54,
          2015381.78,
          20429.3,
          2154560,
          19683.27,
          2271643,
          19932.06,
          1677367,
          20229.67,
          2261955,
          19393.44,
          2225055.28,
          27144.23,
          1786351.75,
          1773530.98,
          30630.73,
          1789024.92,
          26883.07,
          2061960.91,
          34734.97,
          33869.12,
          2249412.86,
          27049.44,
          2218365.17,
          22918.4,
          2718390.81,
          3121272.58,
          22474.66,
          2646176.67,
          24732.55,
          2511897.38,
          30149,
          2154414.96,
          34200.18,
          2676545.9,
          25990.6,
          2442241.76,
          27566.25,
          33437.98,
          2099082.66,
          2567279.74,
          26996.28
         ]
        }
       ],
       "layout": {
        "autosize": true,
        "legend": {
         "title": {
          "text": "region"
         },
         "tracegroupgap": 0
        },
        "margin": {
         "t": 60
        },
        "template": {
         "data": {
          "bar": [
           {
            "error_x": {
             "color": "#2a3f5f"
            },
            "error_y": {
             "color": "#2a3f5f"
            },
            "marker": {
             "line": {
              "color": "#E5ECF6",
              "width": 0.5
             },
             "pattern": {
              "fillmode": "overlay",
              "size": 10,
              "solidity": 0.2
             }
            },
            "type": "bar"
           }
          ],
          "barpolar": [
           {
            "marker": {
             "line": {
              "color": "#E5ECF6",
              "width": 0.5
             },
             "pattern": {
              "fillmode": "overlay",
              "size": 10,
              "solidity": 0.2
             }
            },
            "type": "barpolar"
           }
          ],
          "carpet": [
           {
            "aaxis": {
             "endlinecolor": "#2a3f5f",
             "gridcolor": "white",
             "linecolor": "white",
             "minorgridcolor": "white",
             "startlinecolor": "#2a3f5f"
            },
            "baxis": {
             "endlinecolor": "#2a3f5f",
             "gridcolor": "white",
             "linecolor": "white",
             "minorgridcolor": "white",
             "startlinecolor": "#2a3f5f"
            },
            "type": "carpet"
           }
          ],
          "choropleth": [
           {
            "colorbar": {
             "outlinewidth": 0,
             "ticks": ""
            },
            "type": "choropleth"
           }
          ],
          "contour": [
           {
            "colorbar": {
             "outlinewidth": 0,
             "ticks": ""
            },
            "colorscale": [
             [
              0,
              "#0d0887"
             ],
             [
              0.1111111111111111,
              "#46039f"
             ],
             [
              0.2222222222222222,
              "#7201a8"
             ],
             [
              0.3333333333333333,
              "#9c179e"
             ],
             [
              0.4444444444444444,
              "#bd3786"
             ],
             [
              0.5555555555555556,
              "#d8576b"
             ],
             [
              0.6666666666666666,
              "#ed7953"
             ],
             [
              0.7777777777777778,
              "#fb9f3a"
             ],
             [
              0.8888888888888888,
              "#fdca26"
             ],
             [
              1,
              "#f0f921"
             ]
            ],
            "type": "contour"
           }
          ],
          "contourcarpet": [
           {
            "colorbar": {
             "outlinewidth": 0,
             "ticks": ""
            },
            "type": "contourcarpet"
           }
          ],
          "heatmap": [
           {
            "colorbar": {
             "outlinewidth": 0,
             "ticks": ""
            },
            "colorscale": [
             [
              0,
              "#0d0887"
             ],
             [
              0.1111111111111111,
              "#46039f"
             ],
             [
              0.2222222222222222,
              "#7201a8"
             ],
             [
              0.3333333333333333,
              "#9c179e"
             ],
             [
              0.4444444444444444,
              "#bd3786"
             ],
             [
              0.5555555555555556,
              "#d8576b"
             ],
             [
              0.6666666666666666,
              "#ed7953"
             ],
             [
              0.7777777777777778,
              "#fb9f3a"
             ],
             [
              0.8888888888888888,
              "#fdca26"
             ],
             [
              1,
              "#f0f921"
             ]
            ],
            "type": "heatmap"
           }
          ],
          "heatmapgl": [
           {
            "colorbar": {
             "outlinewidth": 0,
             "ticks": ""
            },
            "colorscale": [
             [
              0,
              "#0d0887"
             ],
             [
              0.1111111111111111,
              "#46039f"
             ],
             [
              0.2222222222222222,
              "#7201a8"
             ],
             [
              0.3333333333333333,
              "#9c179e"
             ],
             [
              0.4444444444444444,
              "#bd3786"
             ],
             [
              0.5555555555555556,
              "#d8576b"
             ],
             [
              0.6666666666666666,
              "#ed7953"
             ],
             [
              0.7777777777777778,
              "#fb9f3a"
             ],
             [
              0.8888888888888888,
              "#fdca26"
             ],
             [
              1,
              "#f0f921"
             ]
            ],
            "type": "heatmapgl"
           }
          ],
          "histogram": [
           {
            "marker": {
             "pattern": {
              "fillmode": "overlay",
              "size": 10,
              "solidity": 0.2
             }
            },
            "type": "histogram"
           }
          ],
          "histogram2d": [
           {
            "colorbar": {
             "outlinewidth": 0,
             "ticks": ""
            },
            "colorscale": [
             [
              0,
              "#0d0887"
             ],
             [
              0.1111111111111111,
              "#46039f"
             ],
             [
              0.2222222222222222,
              "#7201a8"
             ],
             [
              0.3333333333333333,
              "#9c179e"
             ],
             [
              0.4444444444444444,
              "#bd3786"
             ],
             [
              0.5555555555555556,
              "#d8576b"
             ],
             [
              0.6666666666666666,
              "#ed7953"
             ],
             [
              0.7777777777777778,
              "#fb9f3a"
             ],
             [
              0.8888888888888888,
              "#fdca26"
             ],
             [
              1,
              "#f0f921"
             ]
            ],
            "type": "histogram2d"
           }
          ],
          "histogram2dcontour": [
           {
            "colorbar": {
             "outlinewidth": 0,
             "ticks": ""
            },
            "colorscale": [
             [
              0,
              "#0d0887"
             ],
             [
              0.1111111111111111,
              "#46039f"
             ],
             [
              0.2222222222222222,
              "#7201a8"
             ],
             [
              0.3333333333333333,
              "#9c179e"
             ],
             [
              0.4444444444444444,
              "#bd3786"
             ],
             [
              0.5555555555555556,
              "#d8576b"
             ],
             [
              0.6666666666666666,
              "#ed7953"
             ],
             [
              0.7777777777777778,
              "#fb9f3a"
             ],
             [
              0.8888888888888888,
              "#fdca26"
             ],
             [
              1,
              "#f0f921"
             ]
            ],
            "type": "histogram2dcontour"
           }
          ],
          "mesh3d": [
           {
            "colorbar": {
             "outlinewidth": 0,
             "ticks": ""
            },
            "type": "mesh3d"
           }
          ],
          "parcoords": [
           {
            "line": {
             "colorbar": {
              "outlinewidth": 0,
              "ticks": ""
             }
            },
            "type": "parcoords"
           }
          ],
          "pie": [
           {
            "automargin": true,
            "type": "pie"
           }
          ],
          "scatter": [
           {
            "marker": {
             "colorbar": {
              "outlinewidth": 0,
              "ticks": ""
             }
            },
            "type": "scatter"
           }
          ],
          "scatter3d": [
           {
            "line": {
             "colorbar": {
              "outlinewidth": 0,
              "ticks": ""
             }
            },
            "marker": {
             "colorbar": {
              "outlinewidth": 0,
              "ticks": ""
             }
            },
            "type": "scatter3d"
           }
          ],
          "scattercarpet": [
           {
            "marker": {
             "colorbar": {
              "outlinewidth": 0,
              "ticks": ""
             }
            },
            "type": "scattercarpet"
           }
          ],
          "scattergeo": [
           {
            "marker": {
             "colorbar": {
              "outlinewidth": 0,
              "ticks": ""
             }
            },
            "type": "scattergeo"
           }
          ],
          "scattergl": [
           {
            "marker": {
             "colorbar": {
              "outlinewidth": 0,
              "ticks": ""
             }
            },
            "type": "scattergl"
           }
          ],
          "scattermapbox": [
           {
            "marker": {
             "colorbar": {
              "outlinewidth": 0,
              "ticks": ""
             }
            },
            "type": "scattermapbox"
           }
          ],
          "scatterpolar": [
           {
            "marker": {
             "colorbar": {
              "outlinewidth": 0,
              "ticks": ""
             }
            },
            "type": "scatterpolar"
           }
          ],
          "scatterpolargl": [
           {
            "marker": {
             "colorbar": {
              "outlinewidth": 0,
              "ticks": ""
             }
            },
            "type": "scatterpolargl"
           }
          ],
          "scatterternary": [
           {
            "marker": {
             "colorbar": {
              "outlinewidth": 0,
              "ticks": ""
             }
            },
            "type": "scatterternary"
           }
          ],
          "surface": [
           {
            "colorbar": {
             "outlinewidth": 0,
             "ticks": ""
            },
            "colorscale": [
             [
              0,
              "#0d0887"
             ],
             [
              0.1111111111111111,
              "#46039f"
             ],
             [
              0.2222222222222222,
              "#7201a8"
             ],
             [
              0.3333333333333333,
              "#9c179e"
             ],
             [
              0.4444444444444444,
              "#bd3786"
             ],
             [
              0.5555555555555556,
              "#d8576b"
             ],
             [
              0.6666666666666666,
              "#ed7953"
             ],
             [
              0.7777777777777778,
              "#fb9f3a"
             ],
             [
              0.8888888888888888,
              "#fdca26"
             ],
             [
              1,
              "#f0f921"
             ]
            ],
            "type": "surface"
           }
          ],
          "table": [
           {
            "cells": {
             "fill": {
              "color": "#EBF0F8"
             },
             "line": {
              "color": "white"
             }
            },
            "header": {
             "fill": {
              "color": "#C8D4E3"
             },
             "line": {
              "color": "white"
             }
            },
            "type": "table"
           }
          ]
         },
         "layout": {
          "annotationdefaults": {
           "arrowcolor": "#2a3f5f",
           "arrowhead": 0,
           "arrowwidth": 1
          },
          "autotypenumbers": "strict",
          "coloraxis": {
           "colorbar": {
            "outlinewidth": 0,
            "ticks": ""
           }
          },
          "colorscale": {
           "diverging": [
            [
             0,
             "#8e0152"
            ],
            [
             0.1,
             "#c51b7d"
            ],
            [
             0.2,
             "#de77ae"
            ],
            [
             0.3,
             "#f1b6da"
            ],
            [
             0.4,
             "#fde0ef"
            ],
            [
             0.5,
             "#f7f7f7"
            ],
            [
             0.6,
             "#e6f5d0"
            ],
            [
             0.7,
             "#b8e186"
            ],
            [
             0.8,
             "#7fbc41"
            ],
            [
             0.9,
             "#4d9221"
            ],
            [
             1,
             "#276419"
            ]
           ],
           "sequential": [
            [
             0,
             "#0d0887"
            ],
            [
             0.1111111111111111,
             "#46039f"
            ],
            [
             0.2222222222222222,
             "#7201a8"
            ],
            [
             0.3333333333333333,
             "#9c179e"
            ],
            [
             0.4444444444444444,
             "#bd3786"
            ],
            [
             0.5555555555555556,
             "#d8576b"
            ],
            [
             0.6666666666666666,
             "#ed7953"
            ],
            [
             0.7777777777777778,
             "#fb9f3a"
            ],
            [
             0.8888888888888888,
             "#fdca26"
            ],
            [
             1,
             "#f0f921"
            ]
           ],
           "sequentialminus": [
            [
             0,
             "#0d0887"
            ],
            [
             0.1111111111111111,
             "#46039f"
            ],
            [
             0.2222222222222222,
             "#7201a8"
            ],
            [
             0.3333333333333333,
             "#9c179e"
            ],
            [
             0.4444444444444444,
             "#bd3786"
            ],
            [
             0.5555555555555556,
             "#d8576b"
            ],
            [
             0.6666666666666666,
             "#ed7953"
            ],
            [
             0.7777777777777778,
             "#fb9f3a"
            ],
            [
             0.8888888888888888,
             "#fdca26"
            ],
            [
             1,
             "#f0f921"
            ]
           ]
          },
          "colorway": [
           "#636efa",
           "#EF553B",
           "#00cc96",
           "#ab63fa",
           "#FFA15A",
           "#19d3f3",
           "#FF6692",
           "#B6E880",
           "#FF97FF",
           "#FECB52"
          ],
          "font": {
           "color": "#2a3f5f"
          },
          "geo": {
           "bgcolor": "white",
           "lakecolor": "white",
           "landcolor": "#E5ECF6",
           "showlakes": true,
           "showland": true,
           "subunitcolor": "white"
          },
          "hoverlabel": {
           "align": "left"
          },
          "hovermode": "closest",
          "mapbox": {
           "style": "light"
          },
          "paper_bgcolor": "white",
          "plot_bgcolor": "#E5ECF6",
          "polar": {
           "angularaxis": {
            "gridcolor": "white",
            "linecolor": "white",
            "ticks": ""
           },
           "bgcolor": "#E5ECF6",
           "radialaxis": {
            "gridcolor": "white",
            "linecolor": "white",
            "ticks": ""
           }
          },
          "scene": {
           "xaxis": {
            "backgroundcolor": "#E5ECF6",
            "gridcolor": "white",
            "gridwidth": 2,
            "linecolor": "white",
            "showbackground": true,
            "ticks": "",
            "zerolinecolor": "white"
           },
           "yaxis": {
            "backgroundcolor": "#E5ECF6",
            "gridcolor": "white",
            "gridwidth": 2,
            "linecolor": "white",
            "showbackground": true,
            "ticks": "",
            "zerolinecolor": "white"
           },
           "zaxis": {
            "backgroundcolor": "#E5ECF6",
            "gridcolor": "white",
            "gridwidth": 2,
            "linecolor": "white",
            "showbackground": true,
            "ticks": "",
            "zerolinecolor": "white"
           }
          },
          "shapedefaults": {
           "line": {
            "color": "#2a3f5f"
           }
          },
          "ternary": {
           "aaxis": {
            "gridcolor": "white",
            "linecolor": "white",
            "ticks": ""
           },
           "baxis": {
            "gridcolor": "white",
            "linecolor": "white",
            "ticks": ""
           },
           "bgcolor": "#E5ECF6",
           "caxis": {
            "gridcolor": "white",
            "linecolor": "white",
            "ticks": ""
           }
          },
          "title": {
           "x": 0.05
          },
          "xaxis": {
           "automargin": true,
           "gridcolor": "white",
           "linecolor": "white",
           "ticks": "",
           "title": {
            "standoff": 15
           },
           "zerolinecolor": "white",
           "zerolinewidth": 2
          },
          "yaxis": {
           "automargin": true,
           "gridcolor": "white",
           "linecolor": "white",
           "ticks": "",
           "title": {
            "standoff": 15
           },
           "zerolinecolor": "white",
           "zerolinewidth": 2
          }
         }
        },
        "xaxis": {
         "anchor": "y",
         "autorange": true,
         "domain": [
          0,
          1
         ],
         "range": [
          "2015-01-04",
          "2018-03-25"
         ],
         "title": {
          "text": "Date"
         },
         "type": "date"
        },
        "yaxis": {
         "anchor": "x",
         "autorange": true,
         "domain": [
          0,
          1
         ],
         "range": [
          -241654.2227777778,
          4620653.032777778
         ],
         "title": {
          "text": "4046"
         },
         "type": "linear"
        }
       }
      },
      "image/png": "[encoded data removed]",
      "text/html": [
       "<div>                            <div id=\"68981869-d010-4426-bb74-634de2d147f3\" class=\"plotly-graph-div\" style=\"height:525px; width:100%;\"></div>            <script type=\"text/javascript\">                require([\"plotly\"], function(Plotly) {                    window.PLOTLYENV=window.PLOTLYENV || {};                                    if (document.getElementById(\"68981869-d010-4426-bb74-634de2d147f3\")) {                    Plotly.newPlot(                        \"68981869-d010-4426-bb74-634de2d147f3\",                        [{\"hovertemplate\":\"region=Northeast<br>Date=%{x}<br>4046=%{y}<extra></extra>\",\"legendgroup\":\"Northeast\",\"line\":{\"color\":\"#636efa\",\"dash\":\"solid\"},\"marker\":{\"symbol\":\"circle\"},\"mode\":\"lines\",\"name\":\"Northeast\",\"orientation\":\"v\",\"showlegend\":true,\"x\":[\"2015-01-04\",\"2015-01-04\",\"2015-01-11\",\"2015-01-11\",\"2015-01-18\",\"2015-01-18\",\"2015-01-25\",\"2015-01-25\",\"2015-02-01\",\"2015-02-01\",\"2015-02-08\",\"2015-02-08\",\"2015-02-15\",\"2015-02-15\",\"2015-02-22\",\"2015-02-22\",\"2015-03-01\",\"2015-03-01\",\"2015-03-08\",\"2015-03-08\",\"2015-03-15\",\"2015-03-15\",\"2015-03-22\",\"2015-03-22\",\"2015-03-29\",\"2015-03-29\",\"2015-04-05\",\"2015-04-05\",\"2015-04-12\",\"2015-04-12\",\"2015-04-19\",\"2015-04-19\",\"2015-04-26\",\"2015-04-26\",\"2015-05-03\",\"2015-05-03\",\"2015-05-10\",\"2015-05-10\",\"2015-05-17\",\"2015-05-17\",\"2015-05-24\",\"2015-05-24\",\"2015-05-31\",\"2015-05-31\",\"2015-06-07\",\"2015-06-07\",\"2015-06-14\",\"2015-06-14\",\"2015-06-21\",\"2015-06-21\",\"2015-06-28\",\"2015-06-28\",\"2015-07-05\",\"2015-07-05\",\"2015-07-12\",\"2015-07-12\",\"2015-07-19\",\"2015-07-19\",\"2015-07-26\",\"2015-07-26\",\"2015-08-02\",\"2015-08-02\",\"2015-08-09\",\"2015-08-09\",\"2015-08-16\",\"2015-08-16\",\"2015-08-23\",\"2015-08-23\",\"2015-08-30\",\"2015-08-30\",\"2015-09-06\",\"2015-09-06\",\"2015-09-13\",\"2015-09-13\",\"2015-09-20\",\"2015-09-20\",\"2015-09-27\",\"2015-09-27\",\"2015-10-04\",\"2015-10-04\",\"2015-10-11\",\"2015-10-11\",\"2015-10-18\",\"2015-10-18\",\"2015-10-25\",\"2015-10-25\",\"2015-11-01\",\"2015-11-01\",\"2015-11-08\",\"2015-11-08\",\"2015-11-15\",\"2015-11-15\",\"2015-11-22\",\"2015-11-22\",\"2015-11-29\",\"2015-11-29\",\"2015-12-06\",\"2015-12-06\",\"2015-12-13\",\"2015-12-13\",\"2015-12-20\",\"2015-12-20\",\"2015-12-27\",\"2015-12-27\",\"2016-01-03\",\"2016-01-03\",\"2016-01-10\",\"2016-01-10\",\"2016-01-17\",\"2016-01-17\",\"2016-01-24\",\"2016-01-24\",\"2016-01-31\",\"2016-01-31\",\"2016-02-07\",\"2016-02-07\",\"2016-02-14\",\"2016-02-14\",\"2016-02-21\",\"2016-02-21\",\"2016-02-28\",\"2016-02-28\",\"2016-03-06\",\"2016-03-06\",\"2016-03-13\",\"2016-03-13\",\"2016-03-20\",\"2016-03-20\",\"2016-03-27\",\"2016-03-27\",\"2016-04-03\",\"2016-04-03\",\"2016-04-10\",\"2016-04-10\",\"2016-04-17\",\"2016-04-17\",\"2016-04-24\",\"2016-04-24\",\"2016-05-01\",\"2016-05-01\",\"2016-05-08\",\"2016-05-08\",\"2016-05-15\",\"2016-05-15\",\"2016-05-22\",\"2016-05-22\",\"2016-05-29\",\"2016-05-29\",\"2016-06-05\",\"2016-06-05\",\"2016-06-12\",\"2016-06-12\",\"2016-06-19\",\"2016-06-19\",\"2016-06-26\",\"2016-06-26\",\"2016-07-03\",\"2016-07-03\",\"2016-07-10\",\"2016-07-10\",\"2016-07-17\",\"2016-07-17\",\"2016-07-24\",\"2016-07-24\",\"2016-07-31\",\"2016-07-31\",\"2016-08-07\",\"2016-08-07\",\"2016-08-14\",\"2016-08-14\",\"2016-08-21\",\"2016-08-21\",\"2016-08-28\",\"2016-08-28\",\"2016-09-04\",\"2016-09-04\",\"2016-09-11\",\"2016-09-11\",\"2016-09-18\",\"2016-09-18\",\"2016-09-25\",\"2016-09-25\",\"2016-10-02\",\"2016-10-02\",\"2016-10-09\",\"2016-10-09\",\"2016-10-16\",\"2016-10-16\",\"2016-10-23\",\"2016-10-23\",\"2016-10-30\",\"2016-10-30\",\"2016-11-06\",\"2016-11-06\",\"2016-11-13\",\"2016-11-13\",\"2016-11-20\",\"2016-11-20\",\"2016-11-27\",\"2016-11-27\",\"2016-12-04\",\"2016-12-04\",\"2016-12-11\",\"2016-12-11\",\"2016-12-18\",\"2016-12-18\",\"2016-12-25\",\"2016-12-25\",\"2017-01-01\",\"2017-01-01\",\"2017-01-08\",\"2017-01-08\",\"2017-01-15\",\"2017-01-15\",\"2017-01-22\",\"2017-01-22\",\"2017-01-29\",\"2017-01-29\",\"2017-02-05\",\"2017-02-05\",\"2017-02-12\",\"2017-02-12\",\"2017-02-19\",\"2017-02-19\",\"2017-02-26\",\"2017-02-26\",\"2017-03-05\",\"2017-03-05\",\"2017-03-12\",\"2017-03-12\",\"2017-03-19\",\"2017-03-19\",\"2017-03-26\",\"2017-03-26\",\"2017-04-02\",\"2017-04-02\",\"2017-04-09\",\"2017-04-09\",\"2017-04-16\",\"2017-04-16\",\"2017-04-23\",\"2017-04-23\",\"2017-04-30\",\"2017-04-30\",\"2017-05-07\",\"2017-05-07\",\"2017-05-14\",\"2017-05-14\",\"2017-05-21\",\"2017-05-21\",\"2017-05-28\",\"2017-05-28\",\"2017-06-04\",\"2017-06-04\",\"2017-06-11\",\"2017-06-11\",\"2017-06-18\",\"2017-06-18\",\"2017-06-25\",\"2017-06-25\",\"2017-07-02\",\"2017-07-02\",\"2017-07-09\",\"2017-07-09\",\"2017-07-16\",\"2017-07-16\",\"2017-07-23\",\"2017-07-23\",\"2017-07-30\",\"2017-07-30\",\"2017-08-06\",\"2017-08-06\",\"2017-08-13\",\"2017-08-13\",\"2017-08-20\",\"2017-08-20\",\"2017-08-27\",\"2017-08-27\",\"2017-09-03\",\"2017-09-03\",\"2017-09-10\",\"2017-09-10\",\"2017-09-17\",\"2017-09-17\",\"2017-09-24\",\"2017-09-24\",\"2017-10-01\",\"2017-10-01\",\"2017-10-08\",\"2017-10-08\",\"2017-10-15\",\"2017-10-15\",\"2017-10-22\",\"2017-10-22\",\"2017-10-29\",\"2017-10-29\",\"2017-11-05\",\"2017-11-05\",\"2017-11-12\",\"2017-11-12\",\"2017-11-19\",\"2017-11-19\",\"2017-11-26\",\"2017-11-26\",\"2017-12-03\",\"2017-12-03\",\"2017-12-10\",\"2017-12-10\",\"2017-12-17\",\"2017-12-17\",\"2017-12-24\",\"2017-12-24\",\"2017-12-31\",\"2017-12-31\",\"2018-01-07\",\"2018-01-07\",\"2018-01-14\",\"2018-01-14\",\"2018-01-21\",\"2018-01-21\",\"2018-01-28\",\"2018-01-28\",\"2018-02-04\",\"2018-02-04\",\"2018-02-11\",\"2018-02-11\",\"2018-02-18\",\"2018-02-18\",\"2018-02-25\",\"2018-02-25\",\"2018-03-04\",\"2018-03-04\",\"2018-03-11\",\"2018-03-11\",\"2018-03-18\",\"2018-03-18\",\"2018-03-25\",\"2018-03-25\"],\"xaxis\":\"x\",\"y\":[126640.65,4476.73,97343.55,3611.57,91803.09,1461.14,96761.81,2519.17,133613.0,3278.92,128978.49,2547.81,88056.2,3633.89,5183.02,92283.05,5884.52,88609.28,3991.62,113602.19,2925.0,111777.91,4956.8,118765.0,5533.31,96169.31,97887.72,3446.17,6165.15,93987.65,4357.54,110954.74,110930.88,3100.23,129459.52,3879.94,134556.37,4593.3,114065.77,4444.73,112425.95,5569.19,116068.2,5614.59,4853.51,109587.85,7000.26,112693.47,106859.5,5390.54,5627.66,105387.01,122190.4,3575.37,4205.24,110242.95,107602.07,3613.49,4767.51,102482.55,104772.22,3801.74,105393.94,8200.55,6353.43,97139.95,107907.11,4413.27,3998.98,93227.99,5543.4,99311.62,3473.57,95839.65,86196.27,5964.9,86278.88,3598.54,99666.72,3251.95,88376.7,3427.81,93569.28,2862.61,4847.06,88907.0,95355.74,5160.45,6009.03,86385.14,4800.47,89242.5,79006.95,4842.73,71191.69,2430.46,5884.58,85444.57,3310.22,81055.1,72576.52,5825.64,2608.86,69920.54,2251.54,96146.84,5988.87,96952.31,7831.76,102211.78,75379.6,3749.98,102906.84,3604.81,125570.46,7260.63,121413.01,7156.24,94936.43,6874.34,105867.52,6651.21,111263.99,12252.89,122581.78,10673.61,108456.51,6688.35,99223.9,4081.0,99894.98,7547.6,113797.04,4209.39,6852.49,105339.58,125736.57,7150.7,8435.32,123023.38,5189.53,135137.08,100735.1,5714.39,104014.01,7554.76,141464.88,6196.59,154509.15,3880.45,6582.57,201927.9,184730.86,4676.97,5040.13,190136.57,210728.65,6218.3,316659.6,7293.52,6081.81,196491.18,5082.1,220814.35,224803.7,5541.31,6862.76,304604.68,7745.48,316873.28,7701.71,247658.58,490786.03,4850.25,358039.67,8635.35,703699.41,12483.37,409569.22,6843.75,446786.96,6168.57,5768.29,208054.74,154892.72,6424.06,144612.79,5942.36,137388.92,3797.54,118904.18,7965.62,5608.51,124032.58,6112.25,126870.22,126526.23,13475.67,6088.63,102215.56,130456.71,11973.84,102683.58,6300.57,140720.26,14615.66,109608.75,8251.79,174842.62,9132.13,203756.33,10600.01,203358.77,9284.34,10781.15,206778.67,10226.18,201045.06,11663.51,624600.42,736158.49,11370.64,127051.75,321067.02,206240.69,22185.72,237802.16,29927.87,166067.6,14633.01,45037.68,176542.27,18318.35,201606.45,235162.47,43055.81,14746.97,221283.06,35022.89,222626.36,11464.72,244168.62,45273.02,286828.17,12708.77,305718.69,11814.11,235696.82,10974.59,302107.66,11400.57,265254.03,28716.42,241585.33,13018.96,246826.64,45284.06,237156.76,8675.31,232666.83,242271.89,8951.42,289590.47,6638.91,266663.37,12309.73,8003.45,235858.72,232617.59,5868.8,6369.3,227866.95,235128.9,7031.08,233399.64,19480.79,8766.1,246450.56,269503.29,15489.31,264529.93,10454.25,255828.11,9146.68,264819.64,9811.16,303877.34,9408.76,291046.85,11078.6,302669.36,12497.35,10671.96,289343.32,251453.16,10127.06,10655.06,228843.35,11004.36,234190.0,10459.16,192312.0,9276.35,208161.0,23973.38,219287.0,16117.35,235645.01,13706.54,224383.39,186562.39,14885.87,235982.42,11281.04,241291.93,11605.47,14282.25,282970.7,11683.16,441673.49,23903.56,418911.03,480603.9,16597.29,565852.47,10690.15,371846.83,150620.0,413430.69,23250.65,364721.28,38734.87,412621.66,20619.84,61608.19,453731.61,443927.42,19823.16],\"yaxis\":\"y\",\"type\":\"scatter\"},{\"name\":\"West\",\"x\":[\"2015-01-04\",\"2015-01-04\",\"2015-01-11\",\"2015-01-11\",\"2015-01-18\",\"2015-01-18\",\"2015-01-25\",\"2015-01-25\",\"2015-02-01\",\"2015-02-01\",\"2015-02-08\",\"2015-02-08\",\"2015-02-15\",\"2015-02-15\",\"2015-02-22\",\"2015-02-22\",\"2015-03-01\",\"2015-03-01\",\"2015-03-08\",\"2015-03-08\",\"2015-03-15\",\"2015-03-15\",\"2015-03-22\",\"2015-03-22\",\"2015-03-29\",\"2015-03-29\",\"2015-04-05\",\"2015-04-05\",\"2015-04-12\",\"2015-04-12\",\"2015-04-19\",\"2015-04-19\",\"2015-04-26\",\"2015-04-26\",\"2015-05-03\",\"2015-05-03\",\"2015-05-10\",\"2015-05-10\",\"2015-05-17\",\"2015-05-17\",\"2015-05-24\",\"2015-05-24\",\"2015-05-31\",\"2015-05-31\",\"2015-06-07\",\"2015-06-07\",\"2015-06-14\",\"2015-06-14\",\"2015-06-21\",\"2015-06-21\",\"2015-06-28\",\"2015-06-28\",\"2015-07-05\",\"2015-07-05\",\"2015-07-12\",\"2015-07-12\",\"2015-07-19\",\"2015-07-19\",\"2015-07-26\",\"2015-07-26\",\"2015-08-02\",\"2015-08-02\",\"2015-08-09\",\"2015-08-09\",\"2015-08-16\",\"2015-08-16\",\"2015-08-23\",\"2015-08-23\",\"2015-08-30\",\"2015-08-30\",\"2015-09-06\",\"2015-09-06\",\"2015-09-13\",\"2015-09-13\",\"2015-09-20\",\"2015-09-20\",\"2015-09-27\",\"2015-09-27\",\"2015-10-04\",\"2015-10-04\",\"2015-10-11\",\"2015-10-11\",\"2015-10-18\",\"2015-10-18\",\"2015-10-25\",\"2015-10-25\",\"2015-11-01\",\"2015-11-01\",\"2015-11-08\",\"2015-11-08\",\"2015-11-15\",\"2015-11-15\",\"2015-11-22\",\"2015-11-22\",\"2015-11-29\",\"2015-11-29\",\"2015-12-06\",\"2015-12-06\",\"2015-12-13\",\"2015-12-13\",\"2015-12-20\",\"2015-12-20\",\"2015-12-27\",\"2015-12-27\",\"2016-01-03\",\"2016-01-03\",\"2016-01-10\",\"2016-01-10\",\"2016-01-17\",\"2016-01-17\",\"2016-01-24\",\"2016-01-24\",\"2016-01-31\",\"2016-01-31\",\"2016-02-07\",\"2016-02-07\",\"2016-02-14\",\"2016-02-14\",\"2016-02-21\",\"2016-02-21\",\"2016-02-28\",\"2016-02-28\",\"2016-03-06\",\"2016-03-06\",\"2016-03-13\",\"2016-03-13\",\"2016-03-20\",\"2016-03-20\",\"2016-03-27\",\"2016-03-27\",\"2016-04-03\",\"2016-04-03\",\"2016-04-10\",\"2016-04-10\",\"2016-04-17\",\"2016-04-17\",\"2016-04-24\",\"2016-04-24\",\"2016-05-01\",\"2016-05-01\",\"2016-05-08\",\"2016-05-08\",\"2016-05-15\",\"2016-05-15\",\"2016-05-22\",\"2016-05-22\",\"2016-05-29\",\"2016-05-29\",\"2016-06-05\",\"2016-06-05\",\"2016-06-12\",\"2016-06-12\",\"2016-06-19\",\"2016-06-19\",\"2016-06-26\",\"2016-06-26\",\"2016-07-03\",\"2016-07-03\",\"2016-07-10\",\"2016-07-10\",\"2016-07-17\",\"2016-07-17\",\"2016-07-24\",\"2016-07-24\",\"2016-07-31\",\"2016-07-31\",\"2016-08-07\",\"2016-08-07\",\"2016-08-14\",\"2016-08-14\",\"2016-08-21\",\"2016-08-21\",\"2016-08-28\",\"2016-08-28\",\"2016-09-04\",\"2016-09-04\",\"2016-09-11\",\"2016-09-11\",\"2016-09-18\",\"2016-09-18\",\"2016-09-25\",\"2016-09-25\",\"2016-10-02\",\"2016-10-02\",\"2016-10-09\",\"2016-10-09\",\"2016-10-16\",\"2016-10-16\",\"2016-10-23\",\"2016-10-23\",\"2016-10-30\",\"2016-10-30\",\"2016-11-06\",\"2016-11-06\",\"2016-11-13\",\"2016-11-13\",\"2016-11-20\",\"2016-11-20\",\"2016-11-27\",\"2016-11-27\",\"2016-12-04\",\"2016-12-04\",\"2016-12-11\",\"2016-12-11\",\"2016-12-18\",\"2016-12-18\",\"2016-12-25\",\"2016-12-25\",\"2017-01-01\",\"2017-01-01\",\"2017-01-08\",\"2017-01-08\",\"2017-01-15\",\"2017-01-15\",\"2017-01-22\",\"2017-01-22\",\"2017-01-29\",\"2017-01-29\",\"2017-02-05\",\"2017-02-05\",\"2017-02-12\",\"2017-02-12\",\"2017-02-19\",\"2017-02-19\",\"2017-02-26\",\"2017-02-26\",\"2017-03-05\",\"2017-03-05\",\"2017-03-12\",\"2017-03-12\",\"2017-03-19\",\"2017-03-19\",\"2017-03-26\",\"2017-03-26\",\"2017-04-02\",\"2017-04-02\",\"2017-04-09\",\"2017-04-09\",\"2017-04-16\",\"2017-04-16\",\"2017-04-23\",\"2017-04-23\",\"2017-04-30\",\"2017-04-30\",\"2017-05-07\",\"2017-05-07\",\"2017-05-14\",\"2017-05-14\",\"2017-05-21\",\"2017-05-21\",\"2017-05-28\",\"2017-05-28\",\"2017-06-04\",\"2017-06-04\",\"2017-06-11\",\"2017-06-11\",\"2017-06-18\",\"2017-06-18\",\"2017-06-25\",\"2017-06-25\",\"2017-07-02\",\"2017-07-02\",\"2017-07-09\",\"2017-07-09\",\"2017-07-16\",\"2017-07-16\",\"2017-07-23\",\"2017-07-23\",\"2017-07-30\",\"2017-07-30\",\"2017-08-06\",\"2017-08-06\",\"2017-08-13\",\"2017-08-13\",\"2017-08-20\",\"2017-08-20\",\"2017-08-27\",\"2017-08-27\",\"2017-09-03\",\"2017-09-03\",\"2017-09-10\",\"2017-09-10\",\"2017-09-17\",\"2017-09-17\",\"2017-09-24\",\"2017-09-24\",\"2017-10-01\",\"2017-10-01\",\"2017-10-08\",\"2017-10-08\",\"2017-10-15\",\"2017-10-15\",\"2017-10-22\",\"2017-10-22\",\"2017-10-29\",\"2017-10-29\",\"2017-11-05\",\"2017-11-05\",\"2017-11-12\",\"2017-11-12\",\"2017-11-19\",\"2017-11-19\",\"2017-11-26\",\"2017-11-26\",\"2017-12-03\",\"2017-12-03\",\"2017-12-10\",\"2017-12-10\",\"2017-12-17\",\"2017-12-17\",\"2017-12-24\",\"2017-12-24\",\"2017-12-31\",\"2017-12-31\",\"2018-01-07\",\"2018-01-07\",\"2018-01-14\",\"2018-01-14\",\"2018-01-21\",\"2018-01-21\",\"2018-01-28\",\"2018-01-28\",\"2018-02-04\",\"2018-02-04\",\"2018-02-11\",\"2018-02-11\",\"2018-02-18\",\"2018-02-18\",\"2018-02-25\",\"2018-02-25\",\"2018-03-04\",\"2018-03-04\",\"2018-03-11\",\"2018-03-11\",\"2018-03-18\",\"2018-03-18\",\"2018-03-25\",\"2018-03-25\"],\"y\":[2275446.87,70313.71,2203111.92,80139.16,2431736.63,64328.76,2695157.56,61454.35,3531350.44,89599.59,2749122.29,64858.54,2483265.25,60976.33,87488.99,2444851.21,110458.55,2221447.89,119664.32,2541409.9,100362.24,3034104.48,94041.38,2511453.54,71334.94,2978534.92,3132031.4,69519.19,65226.89,2561865.42,81644.37,3118686.39,3163353.08,183001.34,3115937.71,208996.22,3050014.63,103400.77,2786200.82,106530.27,3206247.81,90538.0,3094129.71,84137.69,81830.79,3451592.61,79176.9,3239258.39,3062753.54,79625.61,72925.55,2686203.38,3328637.8,77241.35,64133.84,2688406.31,2337242.49,61194.97,60875.67,2293111.63,2470116.49,67553.3,2368531.2,66285.78,58956.38,2640927.73,2160130.08,62741.72,50269.47,2163511.05,42937.96,2682938.17,39528.09,2194373.38,1552161.89,34304.09,1601971.34,35384.41,1369449.86,27947.64,1287965.79,27827.61,2012887.19,34482.28,27321.04,1574344.01,1815066.15,37553.46,89839.79,2204338.57,36788.36,1996852.58,1549012.12,28451.14,1461861.54,22168.11,22320.01,2097720.52,29083.18,1798995.46,2017331.24,30114.67,29880.32,2038443.68,31369.85,2204871.45,26496.6,2530745.31,28881.17,2091961.92,1121790.63,28542.09,2168765.69,26543.86,3353158.49,23296.91,2645973.11,27729.22,2022750.67,22049.09,2394790.48,24290.16,2817152.63,35600.89,2302275.93,42978.57,2557843.72,27234.11,2701807.88,34897.61,2376641.3,35134.68,2750665.83,30288.09,32114.27,2283526.35,2621906.13,143958.38,163000.7,2324813.13,49339.11,2987238.83,2693393.35,55508.03,2319082.35,69931.66,2670894.03,37317.27,2492773.58,58162.59,73423.24,2213963.72,2805282.99,70317.09,57147.64,2645564.44,2313258.79,57696.2,2293685.5,47697.0,51709.18,1883575.14,49512.52,1812625.23,1874227.32,50386.72,49438.88,2858873.86,44064.59,2524278.53,43598.18,2887138.23,2276321.08,37698.95,2858767.17,42575.46,2364733.51,43258.13,1966754.72,39692.64,1763859.71,31346.67,29390.8,1560246.5,1941978.26,30116.28,1613263.25,23968.08,1301893.54,35139.81,1398732.86,42763.18,32388.45,1493574.72,27341.41,1740717.89,2005353.24,33916.58,28656.52,1525325.69,2142009.81,29864.64,1687192.84,31859.03,2112070.11,27404.62,1951252.95,19703.32,2100350.66,20783.06,2158521.28,29794.9,2349466.71,43816.58,32006.16,2831351.41,38850.43,2695457.93,35703.61,4377537.67,3057701.43,43227.87,40585.46,2322985.0,2178473.36,43171.62,2208631.13,61166.48,2392258.48,45583.97,38225.62,2318973.17,36169.35,2845948.78,2439188.31,34093.33,36813.79,2591478.44,47412.22,2459661.72,43410.75,2342474.18,61897.14,2322426.47,85438.01,3444218.04,64155.43,2613704.06,72450.49,2253179.19,64107.88,2356866.57,46575.21,2425106.14,52927.66,2763254.66,37443.94,2511913.67,30258.04,2401714.73,2270834.48,45612.22,2821722.16,36979.31,1989077.36,20505.23,29482.82,2072496.16,1992527.59,35365.17,42641.59,2036702.69,1837007.78,26941.72,1886625.76,19612.76,23404.34,1822972.31,1652405.87,19509.0,1701547.18,21079.04,1582315.47,22989.15,1450858.85,17650.08,1366983.48,16845.73,1409409.51,25306.59,1523418.35,31939.47,23092.88,1651832.17,1612273.73,20936.88,19917.54,2015381.78,20429.3,2154560.0,19683.27,2271643.0,19932.06,1677367.0,20229.67,2261955.0,19393.44,2225055.28,27144.23,1786351.75,1773530.98,30630.73,1789024.92,26883.07,2061960.91,34734.97,33869.12,2249412.86,27049.44,2218365.17,22918.4,2718390.81,3121272.58,22474.66,2646176.67,24732.55,2511897.38,30149.0,2154414.96,34200.18,2676545.9,25990.6,2442241.76,27566.25,33437.98,2099082.66,2567279.74,26996.28],\"type\":\"scatter\"}],                        {\"template\":{\"data\":{\"bar\":[{\"error_x\":{\"color\":\"#2a3f5f\"},\"error_y\":{\"color\":\"#2a3f5f\"},\"marker\":{\"line\":{\"color\":\"#E5ECF6\",\"width\":0.5},\"pattern\":{\"fillmode\":\"overlay\",\"size\":10,\"solidity\":0.2}},\"type\":\"bar\"}],\"barpolar\":[{\"marker\":{\"line\":{\"color\":\"#E5ECF6\",\"width\":0.5},\"pattern\":{\"fillmode\":\"overlay\",\"size\":10,\"solidity\":0.2}},\"type\":\"barpolar\"}],\"carpet\":[{\"aaxis\":{\"endlinecolor\":\"#2a3f5f\",\"gridcolor\":\"white\",\"linecolor\":\"white\",\"minorgridcolor\":\"white\",\"startlinecolor\":\"#2a3f5f\"},\"baxis\":{\"endlinecolor\":\"#2a3f5f\",\"gridcolor\":\"white\",\"linecolor\":\"white\",\"minorgridcolor\":\"white\",\"startlinecolor\":\"#2a3f5f\"},\"type\":\"carpet\"}],\"choropleth\":[{\"colorbar\":{\"outlinewidth\":0,\"ticks\":\"\"},\"type\":\"choropleth\"}],\"contour\":[{\"colorbar\":{\"outlinewidth\":0,\"ticks\":\"\"},\"colorscale\":[[0.0,\"#0d0887\"],[0.1111111111111111,\"#46039f\"],[0.2222222222222222,\"#7201a8\"],[0.3333333333333333,\"#9c179e\"],[0.4444444444444444,\"#bd3786\"],[0.5555555555555556,\"#d8576b\"],[0.6666666666666666,\"#ed7953\"],[0.7777777777777778,\"#fb9f3a\"],[0.8888888888888888,\"#fdca26\"],[1.0,\"#f0f921\"]],\"type\":\"contour\"}],\"contourcarpet\":[{\"colorbar\":{\"outlinewidth\":0,\"ticks\":\"\"},\"type\":\"contourcarpet\"}],\"heatmap\":[{\"colorbar\":{\"outlinewidth\":0,\"ticks\":\"\"},\"colorscale\":[[0.0,\"#0d0887\"],[0.1111111111111111,\"#46039f\"],[0.2222222222222222,\"#7201a8\"],[0.3333333333333333,\"#9c179e\"],[0.4444444444444444,\"#bd3786\"],[0.5555555555555556,\"#d8576b\"],[0.6666666666666666,\"#ed7953\"],[0.7777777777777778,\"#fb9f3a\"],[0.8888888888888888,\"#fdca26\"],[1.0,\"#f0f921\"]],\"type\":\"heatmap\"}],\"heatmapgl\":[{\"colorbar\":{\"outlinewidth\":0,\"ticks\":\"\"},\"colorscale\":[[0.0,\"#0d0887\"],[0.1111111111111111,\"#46039f\"],[0.2222222222222222,\"#7201a8\"],[0.3333333333333333,\"#9c179e\"],[0.4444444444444444,\"#bd3786\"],[0.5555555555555556,\"#d8576b\"],[0.6666666666666666,\"#ed7953\"],[0.7777777777777778,\"#fb9f3a\"],[0.8888888888888888,\"#fdca26\"],[1.0,\"#f0f921\"]],\"type\":\"heatmapgl\"}],\"histogram\":[{\"marker\":{\"pattern\":{\"fillmode\":\"overlay\",\"size\":10,\"solidity\":0.2}},\"type\":\"histogram\"}],\"histogram2d\":[{\"colorbar\":{\"outlinewidth\":0,\"ticks\":\"\"},\"colorscale\":[[0.0,\"#0d0887\"],[0.1111111111111111,\"#46039f\"],[0.2222222222222222,\"#7201a8\"],[0.3333333333333333,\"#9c179e\"],[0.4444444444444444,\"#bd3786\"],[0.5555555555555556,\"#d8576b\"],[0.6666666666666666,\"#ed7953\"],[0.7777777777777778,\"#fb9f3a\"],[0.8888888888888888,\"#fdca26\"],[1.0,\"#f0f921\"]],\"type\":\"histogram2d\"}],\"histogram2dcontour\":[{\"colorbar\":{\"outlinewidth\":0,\"ticks\":\"\"},\"colorscale\":[[0.0,\"#0d0887\"],[0.1111111111111111,\"#46039f\"],[0.2222222222222222,\"#7201a8\"],[0.3333333333333333,\"#9c179e\"],[0.4444444444444444,\"#bd3786\"],[0.5555555555555556,\"#d8576b\"],[0.6666666666666666,\"#ed7953\"],[0.7777777777777778,\"#fb9f3a\"],[0.8888888888888888,\"#fdca26\"],[1.0,\"#f0f921\"]],\"type\":\"histogram2dcontour\"}],\"mesh3d\":[{\"colorbar\":{\"outlinewidth\":0,\"ticks\":\"\"},\"type\":\"mesh3d\"}],\"parcoords\":[{\"line\":{\"colorbar\":{\"outlinewidth\":0,\"ticks\":\"\"}},\"type\":\"parcoords\"}],\"pie\":[{\"automargin\":true,\"type\":\"pie\"}],\"scatter\":[{\"marker\":{\"colorbar\":{\"outlinewidth\":0,\"ticks\":\"\"}},\"type\":\"scatter\"}],\"scatter3d\":[{\"line\":{\"colorbar\":{\"outlinewidth\":0,\"ticks\":\"\"}},\"marker\":{\"colorbar\":{\"outlinewidth\":0,\"ticks\":\"\"}},\"type\":\"scatter3d\"}],\"scattercarpet\":[{\"marker\":{\"colorbar\":{\"outlinewidth\":0,\"ticks\":\"\"}},\"type\":\"scattercarpet\"}],\"scattergeo\":[{\"marker\":{\"colorbar\":{\"outlinewidth\":0,\"ticks\":\"\"}},\"type\":\"scattergeo\"}],\"scattergl\":[{\"marker\":{\"colorbar\":{\"outlinewidth\":0,\"ticks\":\"\"}},\"type\":\"scattergl\"}],\"scattermapbox\":[{\"marker\":{\"colorbar\":{\"outlinewidth\":0,\"ticks\":\"\"}},\"type\":\"scattermapbox\"}],\"scatterpolar\":[{\"marker\":{\"colorbar\":{\"outlinewidth\":0,\"ticks\":\"\"}},\"type\":\"scatterpolar\"}],\"scatterpolargl\":[{\"marker\":{\"colorbar\":{\"outlinewidth\":0,\"ticks\":\"\"}},\"type\":\"scatterpolargl\"}],\"scatterternary\":[{\"marker\":{\"colorbar\":{\"outlinewidth\":0,\"ticks\":\"\"}},\"type\":\"scatterternary\"}],\"surface\":[{\"colorbar\":{\"outlinewidth\":0,\"ticks\":\"\"},\"colorscale\":[[0.0,\"#0d0887\"],[0.1111111111111111,\"#46039f\"],[0.2222222222222222,\"#7201a8\"],[0.3333333333333333,\"#9c179e\"],[0.4444444444444444,\"#bd3786\"],[0.5555555555555556,\"#d8576b\"],[0.6666666666666666,\"#ed7953\"],[0.7777777777777778,\"#fb9f3a\"],[0.8888888888888888,\"#fdca26\"],[1.0,\"#f0f921\"]],\"type\":\"surface\"}],\"table\":[{\"cells\":{\"fill\":{\"color\":\"#EBF0F8\"},\"line\":{\"color\":\"white\"}},\"header\":{\"fill\":{\"color\":\"#C8D4E3\"},\"line\":{\"color\":\"white\"}},\"type\":\"table\"}]},\"layout\":{\"annotationdefaults\":{\"arrowcolor\":\"#2a3f5f\",\"arrowhead\":0,\"arrowwidth\":1},\"autotypenumbers\":\"strict\",\"coloraxis\":{\"colorbar\":{\"outlinewidth\":0,\"ticks\":\"\"}},\"colorscale\":{\"diverging\":[[0,\"#8e0152\"],[0.1,\"#c51b7d\"],[0.2,\"#de77ae\"],[0.3,\"#f1b6da\"],[0.4,\"#fde0ef\"],[0.5,\"#f7f7f7\"],[0.6,\"#e6f5d0\"],[0.7,\"#b8e186\"],[0.8,\"#7fbc41\"],[0.9,\"#4d9221\"],[1,\"#276419\"]],\"sequential\":[[0.0,\"#0d0887\"],[0.1111111111111111,\"#46039f\"],[0.2222222222222222,\"#7201a8\"],[0.3333333333333333,\"#9c179e\"],[0.4444444444444444,\"#bd3786\"],[0.5555555555555556,\"#d8576b\"],[0.6666666666666666,\"#ed7953\"],[0.7777777777777778,\"#fb9f3a\"],[0.8888888888888888,\"#fdca26\"],[1.0,\"#f0f921\"]],\"sequentialminus\":[[0.0,\"#0d0887\"],[0.1111111111111111,\"#46039f\"],[0.2222222222222222,\"#7201a8\"],[0.3333333333333333,\"#9c179e\"],[0.4444444444444444,\"#bd3786\"],[0.5555555555555556,\"#d8576b\"],[0.6666666666666666,\"#ed7953\"],[0.7777777777777778,\"#fb9f3a\"],[0.8888888888888888,\"#fdca26\"],[1.0,\"#f0f921\"]]},\"colorway\":[\"#636efa\",\"#EF553B\",\"#00cc96\",\"#ab63fa\",\"#FFA15A\",\"#19d3f3\",\"#FF6692\",\"#B6E880\",\"#FF97FF\",\"#FECB52\"],\"font\":{\"color\":\"#2a3f5f\"},\"geo\":{\"bgcolor\":\"white\",\"lakecolor\":\"white\",\"landcolor\":\"#E5ECF6\",\"showlakes\":true,\"showland\":true,\"subunitcolor\":\"white\"},\"hoverlabel\":{\"align\":\"left\"},\"hovermode\":\"closest\",\"mapbox\":{\"style\":\"light\"},\"paper_bgcolor\":\"white\",\"plot_bgcolor\":\"#E5ECF6\",\"polar\":{\"angularaxis\":{\"gridcolor\":\"white\",\"linecolor\":\"white\",\"ticks\":\"\"},\"bgcolor\":\"#E5ECF6\",\"radialaxis\":{\"gridcolor\":\"white\",\"linecolor\":\"white\",\"ticks\":\"\"}},\"scene\":{\"xaxis\":{\"backgroundcolor\":\"#E5ECF6\",\"gridcolor\":\"white\",\"gridwidth\":2,\"linecolor\":\"white\",\"showbackground\":true,\"ticks\":\"\",\"zerolinecolor\":\"white\"},\"yaxis\":{\"backgroundcolor\":\"#E5ECF6\",\"gridcolor\":\"white\",\"gridwidth\":2,\"linecolor\":\"white\",\"showbackground\":true,\"ticks\":\"\",\"zerolinecolor\":\"white\"},\"zaxis\":{\"backgroundcolor\":\"#E5ECF6\",\"gridcolor\":\"white\",\"gridwidth\":2,\"linecolor\":\"white\",\"showbackground\":true,\"ticks\":\"\",\"zerolinecolor\":\"white\"}},\"shapedefaults\":{\"line\":{\"color\":\"#2a3f5f\"}},\"ternary\":{\"aaxis\":{\"gridcolor\":\"white\",\"linecolor\":\"white\",\"ticks\":\"\"},\"baxis\":{\"gridcolor\":\"white\",\"linecolor\":\"white\",\"ticks\":\"\"},\"bgcolor\":\"#E5ECF6\",\"caxis\":{\"gridcolor\":\"white\",\"linecolor\":\"white\",\"ticks\":\"\"}},\"title\":{\"x\":0.05},\"xaxis\":{\"automargin\":true,\"gridcolor\":\"white\",\"linecolor\":\"white\",\"ticks\":\"\",\"title\":{\"standoff\":15},\"zerolinecolor\":\"white\",\"zerolinewidth\":2},\"yaxis\":{\"automargin\":true,\"gridcolor\":\"white\",\"linecolor\":\"white\",\"ticks\":\"\",\"title\":{\"standoff\":15},\"zerolinecolor\":\"white\",\"zerolinewidth\":2}}},\"xaxis\":{\"anchor\":\"y\",\"domain\":[0.0,1.0],\"title\":{\"text\":\"Date\"}},\"yaxis\":{\"anchor\":\"x\",\"domain\":[0.0,1.0],\"title\":{\"text\":\"4046\"}},\"legend\":{\"title\":{\"text\":\"region\"},\"tracegroupgap\":0},\"margin\":{\"t\":60}},                        {\"responsive\": true}                    ).then(function(){\n",
       "                            \n",
       "var gd = document.getElementById('68981869-d010-4426-bb74-634de2d147f3');\n",
       "var x = new MutationObserver(function (mutations, observer) {{\n",
       "        var display = window.getComputedStyle(gd).display;\n",
       "        if (!display || display === 'none') {{\n",
       "            console.log([gd, 'removed!']);\n",
       "            Plotly.purge(gd);\n",
       "            observer.disconnect();\n",
       "        }}\n",
       "}});\n",
       "\n",
       "// Listen for the removal of the full notebook cells\n",
       "var notebookContainer = gd.closest('#notebook-container');\n",
       "if (notebookContainer) {{\n",
       "    x.observe(notebookContainer, {childList: true});\n",
       "}}\n",
       "\n",
       "// Listen for the clearing of the current output cell\n",
       "var outputEl = gd.closest('.output');\n",
       "if (outputEl) {{\n",
       "    x.observe(outputEl, {childList: true});\n",
       "}}\n",
       "\n",
       "                        })                };                });            </script>        </div>"
      ]
     },
     "metadata": {},
     "output_type": "display_data"
    }
   ],
   "source": [
    "# 用出貨量決定要觀察哪些國家\n",
    "# df.groupby('region')['Total Volume'].sum().reset_index().sort_values(by='Total Volume',ascending=False).head(10)\n",
    "\n",
    "# 寫在dash用[].append要compare的對象\n",
    "test = df.loc[df['region'].isin(['Northeast'])].sort_values(by='Date')\n",
    "test2 = df.loc[df['region'].isin(['West'])].sort_values(by='Date')\n",
    "f = px.line(test,x='Date',y='4046',color='region')\n",
    "f.add_trace(go.Line(x=test2['Date'],y=test2['4046'],name='West'))\n",
    "f\n",
    "# bubble圖 用volume當作size"
   ]
  },
  {
   "cell_type": "code",
   "execution_count": 6,
   "id": "3bb2f189-29da-4ae6-9f3d-c48d144d0785",
   "metadata": {},
   "outputs": [],
   "source": [
    "# test = df.groupby('region')['Total Volume'].sum().reset_index().sort_values(by='Total Volume',ascending=False).head(10)\n",
    "# test.region\n",
    "# f = px.line(df[df['region'] == 'TotalUS'].sort_values(by='Date'),x='Date',y='4046',color='region')\n",
    "# f = px.line(df.sort_values(by='Date',ascending=False).head(10))\n",
    "# test.region,x='Date',y='4046',color='region')\n",
    "# f.add_traces"
   ]
  },
  {
   "cell_type": "code",
   "execution_count": 245,
   "id": "0171994d-1289-47b6-8daf-5deff0acd21a",
   "metadata": {},
   "outputs": [],
   "source": [
    "# for r in test.region:\n",
    "#     print(df[df.region == r])\n",
    "# df.groupby('region')['Total Volume'].sum().reset_index().sort_values(by='Total Volume',ascending=False).head(10)"
   ]
  },
  {
   "cell_type": "code",
   "execution_count": 246,
   "id": "bd29eb47-d536-4cde-b97d-f5a00c7fd002",
   "metadata": {},
   "outputs": [],
   "source": [
    "# df[df.region in ['TotalUS','West','California','SouthCentral','Northeast']].sort_values(by='Date')\n",
    "# df.loc[df['region'].isin(['TotalUS','West','California','SouthCentral','Northeast'])].sort_values(by='Date')\n"
   ]
  },
  {
   "cell_type": "code",
   "execution_count": 255,
   "id": "3046ebb1-18c7-464d-8957-7b44f9c21199",
   "metadata": {},
   "outputs": [
    {
     "data": {
      "text/html": [
       "<div>\n",
       "<style scoped>\n",
       "    .dataframe tbody tr th:only-of-type {\n",
       "        vertical-align: middle;\n",
       "    }\n",
       "\n",
       "    .dataframe tbody tr th {\n",
       "        vertical-align: top;\n",
       "    }\n",
       "\n",
       "    .dataframe thead th {\n",
       "        text-align: right;\n",
       "    }\n",
       "</style>\n",
       "<table border=\"1\" class=\"dataframe\">\n",
       "  <thead>\n",
       "    <tr style=\"text-align: right;\">\n",
       "      <th></th>\n",
       "      <th>Date</th>\n",
       "      <th>4046</th>\n",
       "    </tr>\n",
       "  </thead>\n",
       "  <tbody>\n",
       "    <tr>\n",
       "      <th>51</th>\n",
       "      <td>2015-01-04</td>\n",
       "      <td>2819.50</td>\n",
       "    </tr>\n",
       "    <tr>\n",
       "      <th>50</th>\n",
       "      <td>2015-01-11</td>\n",
       "      <td>1002.85</td>\n",
       "    </tr>\n",
       "    <tr>\n",
       "      <th>49</th>\n",
       "      <td>2015-01-18</td>\n",
       "      <td>914.14</td>\n",
       "    </tr>\n",
       "    <tr>\n",
       "      <th>48</th>\n",
       "      <td>2015-01-25</td>\n",
       "      <td>941.38</td>\n",
       "    </tr>\n",
       "    <tr>\n",
       "      <th>47</th>\n",
       "      <td>2015-02-01</td>\n",
       "      <td>1353.90</td>\n",
       "    </tr>\n",
       "    <tr>\n",
       "      <th>...</th>\n",
       "      <td>...</td>\n",
       "      <td>...</td>\n",
       "    </tr>\n",
       "    <tr>\n",
       "      <th>8482</th>\n",
       "      <td>2018-02-25</td>\n",
       "      <td>10368.77</td>\n",
       "    </tr>\n",
       "    <tr>\n",
       "      <th>8481</th>\n",
       "      <td>2018-03-04</td>\n",
       "      <td>12002.12</td>\n",
       "    </tr>\n",
       "    <tr>\n",
       "      <th>8480</th>\n",
       "      <td>2018-03-11</td>\n",
       "      <td>15823.35</td>\n",
       "    </tr>\n",
       "    <tr>\n",
       "      <th>17602</th>\n",
       "      <td>2018-03-18</td>\n",
       "      <td>275.89</td>\n",
       "    </tr>\n",
       "    <tr>\n",
       "      <th>8478</th>\n",
       "      <td>2018-03-25</td>\n",
       "      <td>16361.69</td>\n",
       "    </tr>\n",
       "  </tbody>\n",
       "</table>\n",
       "<p>169 rows × 2 columns</p>\n",
       "</div>"
      ],
      "text/plain": [
       "             Date      4046\n",
       "51     2015-01-04   2819.50\n",
       "50     2015-01-11   1002.85\n",
       "49     2015-01-18    914.14\n",
       "48     2015-01-25    941.38\n",
       "47     2015-02-01   1353.90\n",
       "...           ...       ...\n",
       "8482   2018-02-25  10368.77\n",
       "8481   2018-03-04  12002.12\n",
       "8480   2018-03-11  15823.35\n",
       "17602  2018-03-18    275.89\n",
       "8478   2018-03-25  16361.69\n",
       "\n",
       "[169 rows x 2 columns]"
      ]
     },
     "execution_count": 255,
     "metadata": {},
     "output_type": "execute_result"
    }
   ],
   "source": [
    "temp = df[df['region'] == 'Albany']\n",
    "# temp[['Date','4046']].sort_values(by='Date').drop_duplicates(subset=['Date'],keep='first')\n",
    "px.line(temp[['Date','4046']].sort_values(by='Date').drop_duplicates(subset=['Date'],keep='first'),x='Date')\n",
    "temp[['Date','4046']].sort_values(by='Date').drop_duplicates(subset=['Date'],keep='first')\n",
    "# df.info()"
   ]
  },
  {
   "cell_type": "code",
   "execution_count": null,
   "id": "781eae9f-fa17-42ea-9bde-28890ba299fc",
   "metadata": {},
   "outputs": [],
   "source": []
  },
  {
   "cell_type": "code",
   "execution_count": null,
   "id": "63cea9f5-a3e8-4611-bdc0-b8a805be816e",
   "metadata": {},
   "outputs": [],
   "source": []
  },
  {
   "cell_type": "code",
   "execution_count": 2,
   "id": "380acfa9-73c2-403b-820e-8337b5dd85a7",
   "metadata": {},
   "outputs": [],
   "source": [
    "%config Completer.use_jedi = False"
   ]
  },
  {
   "cell_type": "code",
   "execution_count": null,
   "id": "db307f8f-5a14-4945-9660-c2cc27935f28",
   "metadata": {},
   "outputs": [],
   "source": [
    "import pa"
   ]
  }
 ],
 "metadata": {
  "interpreter": {
   "hash": "47344f93be5e23a8851d4763f2c6adf87209d698ce667e565c74a8aaf88de83e"
  },
  "kernelspec": {
   "display_name": "Python 3",
   "language": "python",
   "name": "python3"
  },
  "language_info": {
   "codemirror_mode": {
    "name": "ipython",
    "version": 3
   },
   "file_extension": ".py",
   "mimetype": "text/x-python",
   "name": "python",
   "nbconvert_exporter": "python",
   "pygments_lexer": "ipython3",
   "version": "3.7.13"
  }
 },
 "nbformat": 4,
 "nbformat_minor": 5
}
