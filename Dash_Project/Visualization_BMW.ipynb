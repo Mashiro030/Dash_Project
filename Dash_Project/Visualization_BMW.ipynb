{
 "cells": [
  {
   "cell_type": "code",
   "execution_count": 4,
   "id": "484db07c-8f3f-4ddf-94ac-5fd91d1b0b73",
   "metadata": {},
   "outputs": [],
   "source": [
    "import numpy as np\n",
    "import pandas as pd\n",
    "import plotly.express as px\n",
    "import plotly.graph_objects as go\n",
    "import dash_bootstrap_components as dbc\n",
    "from dash import html,dcc,Input,Output,Dash"
   ]
  },
  {
   "cell_type": "markdown",
   "id": "d0633413-7f15-42c6-b5c6-414690458833",
   "metadata": {},
   "source": [
    "# Import Data"
   ]
  },
  {
   "cell_type": "code",
   "execution_count": 5,
   "id": "56b413fc-90cc-421b-ac01-503d0ab6e91c",
   "metadata": {},
   "outputs": [
    {
     "data": {
      "text/html": [
       "<div>\n",
       "<style scoped>\n",
       "    .dataframe tbody tr th:only-of-type {\n",
       "        vertical-align: middle;\n",
       "    }\n",
       "\n",
       "    .dataframe tbody tr th {\n",
       "        vertical-align: top;\n",
       "    }\n",
       "\n",
       "    .dataframe thead th {\n",
       "        text-align: right;\n",
       "    }\n",
       "</style>\n",
       "<table border=\"1\" class=\"dataframe\">\n",
       "  <thead>\n",
       "    <tr style=\"text-align: right;\">\n",
       "      <th></th>\n",
       "      <th>model</th>\n",
       "      <th>year</th>\n",
       "      <th>price</th>\n",
       "      <th>transmission</th>\n",
       "      <th>mileage</th>\n",
       "      <th>fuelType</th>\n",
       "      <th>tax</th>\n",
       "      <th>mpg</th>\n",
       "      <th>engineSize</th>\n",
       "    </tr>\n",
       "  </thead>\n",
       "  <tbody>\n",
       "    <tr>\n",
       "      <th>0</th>\n",
       "      <td>5 Series</td>\n",
       "      <td>2014</td>\n",
       "      <td>11200</td>\n",
       "      <td>Automatic</td>\n",
       "      <td>67068</td>\n",
       "      <td>Diesel</td>\n",
       "      <td>125</td>\n",
       "      <td>57.6</td>\n",
       "      <td>2.0</td>\n",
       "    </tr>\n",
       "    <tr>\n",
       "      <th>1</th>\n",
       "      <td>6 Series</td>\n",
       "      <td>2018</td>\n",
       "      <td>27000</td>\n",
       "      <td>Automatic</td>\n",
       "      <td>14827</td>\n",
       "      <td>Petrol</td>\n",
       "      <td>145</td>\n",
       "      <td>42.8</td>\n",
       "      <td>2.0</td>\n",
       "    </tr>\n",
       "    <tr>\n",
       "      <th>2</th>\n",
       "      <td>5 Series</td>\n",
       "      <td>2016</td>\n",
       "      <td>16000</td>\n",
       "      <td>Automatic</td>\n",
       "      <td>62794</td>\n",
       "      <td>Diesel</td>\n",
       "      <td>160</td>\n",
       "      <td>51.4</td>\n",
       "      <td>3.0</td>\n",
       "    </tr>\n",
       "    <tr>\n",
       "      <th>3</th>\n",
       "      <td>1 Series</td>\n",
       "      <td>2017</td>\n",
       "      <td>12750</td>\n",
       "      <td>Automatic</td>\n",
       "      <td>26676</td>\n",
       "      <td>Diesel</td>\n",
       "      <td>145</td>\n",
       "      <td>72.4</td>\n",
       "      <td>1.5</td>\n",
       "    </tr>\n",
       "    <tr>\n",
       "      <th>4</th>\n",
       "      <td>7 Series</td>\n",
       "      <td>2014</td>\n",
       "      <td>14500</td>\n",
       "      <td>Automatic</td>\n",
       "      <td>39554</td>\n",
       "      <td>Diesel</td>\n",
       "      <td>160</td>\n",
       "      <td>50.4</td>\n",
       "      <td>3.0</td>\n",
       "    </tr>\n",
       "  </tbody>\n",
       "</table>\n",
       "</div>"
      ],
      "text/plain": [
       "       model  year  price transmission  mileage fuelType  tax   mpg  \\\n",
       "0   5 Series  2014  11200    Automatic    67068   Diesel  125  57.6   \n",
       "1   6 Series  2018  27000    Automatic    14827   Petrol  145  42.8   \n",
       "2   5 Series  2016  16000    Automatic    62794   Diesel  160  51.4   \n",
       "3   1 Series  2017  12750    Automatic    26676   Diesel  145  72.4   \n",
       "4   7 Series  2014  14500    Automatic    39554   Diesel  160  50.4   \n",
       "\n",
       "   engineSize  \n",
       "0         2.0  \n",
       "1         2.0  \n",
       "2         3.0  \n",
       "3         1.5  \n",
       "4         3.0  "
      ]
     },
     "execution_count": 5,
     "metadata": {},
     "output_type": "execute_result"
    }
   ],
   "source": [
    "df = pd.read_csv('./dataset/bmw.csv')\n",
    "df.head()"
   ]
  },
  {
   "cell_type": "markdown",
   "id": "9e96b354-6e63-4481-a934-ebdf6bc5e74d",
   "metadata": {},
   "source": [
    "# Dash"
   ]
  },
  {
   "cell_type": "code",
   "execution_count": 20,
   "id": "787d3354-4362-43de-9aa2-4aa49421ae62",
   "metadata": {},
   "outputs": [],
   "source": [
    "app = Dash(__name__)\n",
    "\n",
    "app.layout = html.Div(\n",
    "    dbc.Container(\n",
    "    [   \n",
    "        html.H1(\"Analytics Dashboard of BMW (Dash Plotly)\", style={\"textAlign\":\"center\"}),\n",
    "        html.Hr(),\n",
    "        html.P(\"Choose Columns:\"),\n",
    "        html.Div(\n",
    "        [\n",
    "            dcc.Dropdown(\n",
    "                id='filter_value',\n",
    "                options=['model', 'year', 'transmission', 'fuelType', 'engineSize'],\n",
    "                placeholder='Choose The Type...',\n",
    "                style={'width':'50%'}\n",
    "            )\n",
    "        ]),\n",
    "        html.Div(\n",
    "        [\n",
    "            dcc.Graph(id='scatter',style={'width':'50%','display':'inline-block'}),\n",
    "            dcc.Graph(id='distribution',style={'width':'50%','display':'inline-block'})\n",
    "        ]),\n",
    "        html.Div(\n",
    "        [\n",
    "            dcc.Graph(id='top_5')\n",
    "        ])\n",
    "    ])\n",
    ")\n",
    "\n",
    "@app.callback(\n",
    "    Output('scatter','figure'),\n",
    "    Output('distribution','figure'),\n",
    "    Output('top_5','figure'),\n",
    "    Input('filter_value','value')\n",
    ")\n",
    "\n",
    "def return_plot(car_type):\n",
    "    fig1 = px.scatter(df,x='price',y='mileage',color=car_type)\n",
    "    fig2 = px.histogram(df, x=\"mileage\", color=car_type,marginal=\"box\",hover_data=df.columns)\n",
    "    \n",
    "    top_5_model = df['model'].value_counts().rename_axis('model').reset_index(name='counts')\n",
    "    fig3 = px.bar(top_5_model,x='model',y='counts',title='BMW Top 5 Models',color='model')\n",
    "    return fig1,fig2,fig3"
   ]
  },
  {
   "cell_type": "code",
   "execution_count": 21,
   "id": "5bb42d34-4214-4816-a67e-ff7750b3205a",
   "metadata": {},
   "outputs": [
    {
     "name": "stdout",
     "output_type": "stream",
     "text": [
      "Dash is running on http://127.0.0.1:3004/\n",
      "\n",
      "Dash is running on http://127.0.0.1:3004/\n",
      "\n",
      "Dash is running on http://127.0.0.1:3004/\n",
      "\n",
      "Dash is running on http://127.0.0.1:3004/\n",
      "\n",
      "Dash is running on http://127.0.0.1:3004/\n",
      "\n",
      "Dash is running on http://127.0.0.1:3004/\n",
      "\n",
      "Dash is running on http://127.0.0.1:3004/\n",
      "\n",
      " * Serving Flask app '__main__' (lazy loading)\n",
      " * Environment: production\n",
      "   WARNING: This is a development server. Do not use it in a production deployment.\n",
      "   Use a production WSGI server instead.\n",
      " * Debug mode: off\n"
     ]
    },
    {
     "name": "stderr",
     "output_type": "stream",
     "text": [
      " * Running on http://127.0.0.1:3004/ (Press CTRL+C to quit)\n",
      "127.0.0.1 - - [05/Apr/2022 21:47:52] \"GET / HTTP/1.1\" 200 -\n",
      "127.0.0.1 - - [05/Apr/2022 21:47:52] \"GET /assets/css/bootstrap.min.css?m=1647935570.6230385 HTTP/1.1\" 304 -\n",
      "127.0.0.1 - - [05/Apr/2022 21:47:52] \"GET /_dash-layout HTTP/1.1\" 200 -\n",
      "127.0.0.1 - - [05/Apr/2022 21:47:52] \"GET /_dash-dependencies HTTP/1.1\" 200 -\n",
      "127.0.0.1 - - [05/Apr/2022 21:47:52] \"GET /_dash-component-suites/dash/dcc/async-dropdown.js HTTP/1.1\" 200 -\n",
      "127.0.0.1 - - [05/Apr/2022 21:47:52] \"GET /_favicon.ico?v=2.3.0 HTTP/1.1\" 200 -\n",
      "127.0.0.1 - - [05/Apr/2022 21:47:52] \"GET /_dash-component-suites/dash/dcc/async-graph.js HTTP/1.1\" 200 -\n",
      "127.0.0.1 - - [05/Apr/2022 21:47:52] \"GET /_dash-component-suites/dash/dcc/async-plotlyjs.js HTTP/1.1\" 200 -\n",
      "127.0.0.1 - - [05/Apr/2022 21:47:53] \"POST /_dash-update-component HTTP/1.1\" 200 -\n"
     ]
    }
   ],
   "source": [
    "if __name__ == '__main__':\n",
    "    app.run_server(debug=False,port=3004)"
   ]
  },
  {
   "cell_type": "code",
   "execution_count": null,
   "id": "e958e782-7992-45a5-b8d6-7600e28d8092",
   "metadata": {},
   "outputs": [],
   "source": []
  },
  {
   "cell_type": "code",
   "execution_count": null,
   "id": "cecdf77e-47c1-41d1-ab0e-1c5f58874202",
   "metadata": {},
   "outputs": [],
   "source": []
  },
  {
   "cell_type": "code",
   "execution_count": null,
   "id": "7f37cd02-eb65-4b27-a7d7-f1ee497590dc",
   "metadata": {},
   "outputs": [],
   "source": []
  },
  {
   "cell_type": "code",
   "execution_count": null,
   "id": "53ae1e8a-8025-4e07-8756-897587461857",
   "metadata": {},
   "outputs": [],
   "source": []
  },
  {
   "cell_type": "code",
   "execution_count": null,
   "id": "1bb383a6-c140-4c0f-911e-c01867747df0",
   "metadata": {},
   "outputs": [],
   "source": []
  },
  {
   "cell_type": "code",
   "execution_count": null,
   "id": "3a6afb56-2959-40b5-9a98-5ea697e06400",
   "metadata": {},
   "outputs": [],
   "source": []
  },
  {
   "cell_type": "code",
   "execution_count": null,
   "id": "fba8241b-af5f-44d2-b9f7-e339ac7255cb",
   "metadata": {},
   "outputs": [],
   "source": []
  },
  {
   "cell_type": "code",
   "execution_count": null,
   "id": "a95a9cc5-df02-48a7-b43e-a40b97a8245d",
   "metadata": {},
   "outputs": [],
   "source": []
  },
  {
   "cell_type": "code",
   "execution_count": null,
   "id": "d285dc6e-2302-472b-92fa-28ed349972e8",
   "metadata": {},
   "outputs": [],
   "source": []
  },
  {
   "cell_type": "code",
   "execution_count": null,
   "id": "6bd319c6-06a2-434f-a29a-d8ba9513a520",
   "metadata": {},
   "outputs": [],
   "source": []
  }
 ],
 "metadata": {
  "kernelspec": {
   "display_name": "Python 3.10.4 64-bit",
   "language": "python",
   "name": "python3"
  },
  "language_info": {
   "codemirror_mode": {
    "name": "ipython",
    "version": 3
   },
   "file_extension": ".py",
   "mimetype": "text/x-python",
   "name": "python",
   "nbconvert_exporter": "python",
   "pygments_lexer": "ipython3",
   "version": "3.10.4"
  },
  "vscode": {
   "interpreter": {
    "hash": "369f2c481f4da34e4445cda3fffd2e751bd1c4d706f27375911949ba6bb62e1c"
   }
  }
 },
 "nbformat": 4,
 "nbformat_minor": 5
}
